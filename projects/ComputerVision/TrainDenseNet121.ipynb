{
 "cells": [
  {
   "cell_type": "code",
   "execution_count": 1,
   "id": "6978c4f5",
   "metadata": {},
   "outputs": [],
   "source": [
    "import pandas as pd\n",
    "import os\n",
    "import opendatasets as od\n",
    "import numpy as np\n",
    "import matplotlib.pyplot as plt\n",
    "from pathlib import Path\n",
    "import cv2 as cv\n",
    "import random as rnd\n",
    "from functions import *"
   ]
  },
  {
   "cell_type": "markdown",
   "id": "c23745db",
   "metadata": {},
   "source": [
    "### Getting Dataset"
   ]
  },
  {
   "cell_type": "code",
   "execution_count": 2,
   "id": "353afb1b",
   "metadata": {},
   "outputs": [],
   "source": [
    "x = get_x_data()"
   ]
  },
  {
   "cell_type": "code",
   "execution_count": 3,
   "id": "8a9550bd",
   "metadata": {},
   "outputs": [],
   "source": [
    "y = get_target()"
   ]
  },
  {
   "cell_type": "code",
   "execution_count": 4,
   "id": "62b0796a",
   "metadata": {},
   "outputs": [],
   "source": [
    "y = pd.get_dummies(pd.DataFrame(y))"
   ]
  },
  {
   "cell_type": "code",
   "execution_count": 5,
   "id": "c3c56057",
   "metadata": {},
   "outputs": [],
   "source": [
    "y = y.replace({True: 1, False: 0})"
   ]
  },
  {
   "cell_type": "code",
   "execution_count": 6,
   "id": "3af40cb4",
   "metadata": {},
   "outputs": [],
   "source": [
    "y = np.asarray(y)"
   ]
  },
  {
   "cell_type": "markdown",
   "id": "8b9d3168",
   "metadata": {},
   "source": [
    "### Data Augmentation Before Spltting"
   ]
  },
  {
   "cell_type": "code",
   "execution_count": 7,
   "id": "c57261cb",
   "metadata": {},
   "outputs": [
    {
     "name": "stderr",
     "output_type": "stream",
     "text": [
      "2024-04-29 13:49:47.146163: I tensorflow/core/platform/cpu_feature_guard.cc:193] This TensorFlow binary is optimized with oneAPI Deep Neural Network Library (oneDNN) to use the following CPU instructions in performance-critical operations:  AVX2 AVX512F AVX512_VNNI FMA\n",
      "To enable them in other operations, rebuild TensorFlow with the appropriate compiler flags.\n",
      "2024-04-29 13:49:47.455154: I tensorflow/core/util/port.cc:104] oneDNN custom operations are on. You may see slightly different numerical results due to floating-point round-off errors from different computation orders. To turn them off, set the environment variable `TF_ENABLE_ONEDNN_OPTS=0`.\n",
      "2024-04-29 13:49:47.495147: W tensorflow/compiler/xla/stream_executor/platform/default/dso_loader.cc:64] Could not load dynamic library 'libcudart.so.11.0'; dlerror: libcudart.so.11.0: cannot open shared object file: No such file or directory; LD_LIBRARY_PATH: /home/clay/.local/lib/python3.8/site-packages/cv2/../../lib64:\n",
      "2024-04-29 13:49:47.495169: I tensorflow/compiler/xla/stream_executor/cuda/cudart_stub.cc:29] Ignore above cudart dlerror if you do not have a GPU set up on your machine.\n",
      "2024-04-29 13:49:48.678791: W tensorflow/compiler/xla/stream_executor/platform/default/dso_loader.cc:64] Could not load dynamic library 'libnvinfer.so.7'; dlerror: libnvinfer.so.7: cannot open shared object file: No such file or directory; LD_LIBRARY_PATH: /home/clay/.local/lib/python3.8/site-packages/cv2/../../lib64:\n",
      "2024-04-29 13:49:48.678973: W tensorflow/compiler/xla/stream_executor/platform/default/dso_loader.cc:64] Could not load dynamic library 'libnvinfer_plugin.so.7'; dlerror: libnvinfer_plugin.so.7: cannot open shared object file: No such file or directory; LD_LIBRARY_PATH: /home/clay/.local/lib/python3.8/site-packages/cv2/../../lib64:\n",
      "2024-04-29 13:49:48.678983: W tensorflow/compiler/tf2tensorrt/utils/py_utils.cc:38] TF-TRT Warning: Cannot dlopen some TensorRT libraries. If you would like to use Nvidia GPU with TensorRT, please make sure the missing libraries mentioned above are installed properly.\n"
     ]
    }
   ],
   "source": [
    "import tensorflow as tf\n",
    "from tensorflow.keras.layers import Dense, Flatten, Input, Dropout, Rescaling\n",
    "from tensorflow.keras.models import Model\n",
    "from tensorflow.keras.applications import ResNet50, DenseNet121\n",
    "from tensorflow.keras.applications import resnet, densenet"
   ]
  },
  {
   "cell_type": "code",
   "execution_count": 8,
   "id": "01b995f1",
   "metadata": {},
   "outputs": [],
   "source": [
    "from tensorflow.keras.layers import RandomZoom, RandomContrast, RandomRotation"
   ]
  },
  {
   "cell_type": "code",
   "execution_count": 9,
   "id": "9514650d",
   "metadata": {},
   "outputs": [],
   "source": [
    "data_augmentation_layers = [\n",
    "    RandomZoom((0.1, 0.5)),\n",
    "    RandomRotation(0.5),\n",
    "    RandomContrast(0.2)\n",
    "]\n",
    "\n",
    "\n",
    "def data_augmentation(imgs):\n",
    "    for layer in data_augmentation_layers:\n",
    "        imgs = layer(imgs)\n",
    "    return imgs"
   ]
  },
  {
   "cell_type": "code",
   "execution_count": 10,
   "id": "c7137e9c",
   "metadata": {},
   "outputs": [
    {
     "name": "stdout",
     "output_type": "stream",
     "text": [
      "WARNING:tensorflow:Using a while_loop for converting RngReadAndSkip cause there is no registered converter for this op.\n"
     ]
    },
    {
     "name": "stderr",
     "output_type": "stream",
     "text": [
      "2024-04-29 13:50:01.303448: W tensorflow/compiler/xla/stream_executor/platform/default/dso_loader.cc:64] Could not load dynamic library 'libcuda.so.1'; dlerror: libcuda.so.1: cannot open shared object file: No such file or directory; LD_LIBRARY_PATH: /home/clay/.local/lib/python3.8/site-packages/cv2/../../lib64:\n",
      "2024-04-29 13:50:01.303882: W tensorflow/compiler/xla/stream_executor/cuda/cuda_driver.cc:265] failed call to cuInit: UNKNOWN ERROR (303)\n",
      "2024-04-29 13:50:01.303913: I tensorflow/compiler/xla/stream_executor/cuda/cuda_diagnostics.cc:156] kernel driver does not appear to be running on this host (LAPTOP-AB0NGOS5): /proc/driver/nvidia/version does not exist\n",
      "2024-04-29 13:50:01.306752: I tensorflow/core/platform/cpu_feature_guard.cc:193] This TensorFlow binary is optimized with oneAPI Deep Neural Network Library (oneDNN) to use the following CPU instructions in performance-critical operations:  AVX2 AVX512F AVX512_VNNI FMA\n",
      "To enable them in other operations, rebuild TensorFlow with the appropriate compiler flags.\n"
     ]
    },
    {
     "name": "stdout",
     "output_type": "stream",
     "text": [
      "WARNING:tensorflow:Using a while_loop for converting Bitcast cause there is no registered converter for this op.\n",
      "WARNING:tensorflow:Using a while_loop for converting Bitcast cause there is no registered converter for this op.\n",
      "WARNING:tensorflow:Using a while_loop for converting StatelessRandomUniformV2 cause there is no registered converter for this op.\n",
      "WARNING:tensorflow:Using a while_loop for converting ImageProjectiveTransformV3 cause there is no registered converter for this op.\n",
      "WARNING:tensorflow:Using a while_loop for converting RngReadAndSkip cause there is no registered converter for this op.\n",
      "WARNING:tensorflow:Using a while_loop for converting Bitcast cause there is no registered converter for this op.\n",
      "WARNING:tensorflow:Using a while_loop for converting Bitcast cause there is no registered converter for this op.\n",
      "WARNING:tensorflow:Using a while_loop for converting StatelessRandomUniformV2 cause there is no registered converter for this op.\n",
      "WARNING:tensorflow:Using a while_loop for converting ImageProjectiveTransformV3 cause there is no registered converter for this op.\n",
      "WARNING:tensorflow:Using a while_loop for converting RngReadAndSkip cause there is no registered converter for this op.\n",
      "WARNING:tensorflow:Using a while_loop for converting Bitcast cause there is no registered converter for this op.\n",
      "WARNING:tensorflow:Using a while_loop for converting Bitcast cause there is no registered converter for this op.\n",
      "WARNING:tensorflow:Using a while_loop for converting StatelessRandomUniformFullIntV2 cause there is no registered converter for this op.\n",
      "WARNING:tensorflow:Using a while_loop for converting StatelessRandomGetKeyCounter cause there is no registered converter for this op.\n",
      "WARNING:tensorflow:Using a while_loop for converting StatelessRandomUniformV2 cause there is no registered converter for this op.\n"
     ]
    }
   ],
   "source": [
    "augmented_x = data_augmentation(x)"
   ]
  },
  {
   "cell_type": "code",
   "execution_count": 11,
   "id": "fec50a39",
   "metadata": {},
   "outputs": [],
   "source": [
    "from sklearn.model_selection import train_test_split"
   ]
  },
  {
   "cell_type": "code",
   "execution_count": 12,
   "id": "16452b02",
   "metadata": {},
   "outputs": [],
   "source": [
    "x_train, x_test, y_train, y_test = train_test_split(np.asarray(augmented_x), y, test_size = 0.3)"
   ]
  },
  {
   "cell_type": "markdown",
   "id": "25e9bfee",
   "metadata": {},
   "source": [
    "### DenseNetModel1"
   ]
  },
  {
   "cell_type": "code",
   "execution_count": 14,
   "id": "f46bf17c",
   "metadata": {},
   "outputs": [],
   "source": [
    "def densenet_model(input_shape):\n",
    "    dn121 = DenseNet121(input_shape = input_shape, weights = 'imagenet', include_top = False,\n",
    "                        pooling = 'avg')\n",
    "    dn121.trainable = False\n",
    "    \n",
    "    inputs = Input(input_shape)\n",
    "    x = densenet.preprocess_input(inputs)\n",
    "    x = Dropout(0.3)(x)\n",
    "    x = dn121(x)\n",
    "    \n",
    "    outputs = Dense(5, activation = 'softmax')(x)\n",
    "    \n",
    "    return Model(inputs, outputs, name = 'DenseNetModel')"
   ]
  },
  {
   "cell_type": "code",
   "execution_count": 14,
   "id": "53c8c8c6",
   "metadata": {},
   "outputs": [],
   "source": [
    "dn_model = densenet_model(input_shape = (224, 224, 3))\n",
    "dn_model.compile(loss = 'categorical_crossentropy', optimizer = 'adam', metrics = ['accuracy'])"
   ]
  },
  {
   "cell_type": "code",
   "execution_count": 15,
   "id": "85823dc9",
   "metadata": {},
   "outputs": [
    {
     "name": "stdout",
     "output_type": "stream",
     "text": [
      "Epoch 1/10\n",
      "11/11 [==============================] - 24s 2s/step - loss: 1.6491 - accuracy: 0.3029 - val_loss: 1.6884 - val_accuracy: 0.4000\n",
      "Epoch 2/10\n",
      "11/11 [==============================] - 19s 2s/step - loss: 1.3033 - accuracy: 0.4886 - val_loss: 1.5581 - val_accuracy: 0.4467\n",
      "Epoch 3/10\n",
      "11/11 [==============================] - 19s 2s/step - loss: 1.0523 - accuracy: 0.6371 - val_loss: 1.4374 - val_accuracy: 0.4667\n",
      "Epoch 4/10\n",
      "11/11 [==============================] - 19s 2s/step - loss: 0.9321 - accuracy: 0.6571 - val_loss: 1.4339 - val_accuracy: 0.4733\n",
      "Epoch 5/10\n",
      "11/11 [==============================] - 20s 2s/step - loss: 0.8206 - accuracy: 0.7457 - val_loss: 1.3099 - val_accuracy: 0.5067\n",
      "Epoch 6/10\n",
      "11/11 [==============================] - 19s 2s/step - loss: 0.7251 - accuracy: 0.7857 - val_loss: 1.3519 - val_accuracy: 0.5067\n",
      "Epoch 7/10\n",
      "11/11 [==============================] - 19s 2s/step - loss: 0.6705 - accuracy: 0.7771 - val_loss: 1.1679 - val_accuracy: 0.5733\n",
      "Epoch 8/10\n",
      "11/11 [==============================] - 19s 2s/step - loss: 0.6580 - accuracy: 0.7800 - val_loss: 1.2948 - val_accuracy: 0.5400\n",
      "Epoch 9/10\n",
      "11/11 [==============================] - 19s 2s/step - loss: 0.5914 - accuracy: 0.8229 - val_loss: 1.0882 - val_accuracy: 0.6000\n",
      "Epoch 10/10\n",
      "11/11 [==============================] - 19s 2s/step - loss: 0.5463 - accuracy: 0.8229 - val_loss: 1.2281 - val_accuracy: 0.5600\n"
     ]
    }
   ],
   "source": [
    "dn_history = dn_model.fit(x_train, y_train, validation_data = (x_test, y_test), epochs = 10)"
   ]
  },
  {
   "cell_type": "code",
   "execution_count": 16,
   "id": "cae9c3d8",
   "metadata": {},
   "outputs": [
    {
     "data": {
      "text/plain": [
       "<matplotlib.legend.Legend at 0x7fd001fcda90>"
      ]
     },
     "execution_count": 16,
     "metadata": {},
     "output_type": "execute_result"
    },
    {
     "data": {
      "image/png": "[encoded data removed]",
      "text/plain": [
       "<Figure size 432x288 with 1 Axes>"
      ]
     },
     "metadata": {
      "needs_background": "light"
     },
     "output_type": "display_data"
    }
   ],
   "source": [
    "plt.plot(range(len(dn_history.history['loss'])), dn_history.history['loss'], label = 'Training Loss')\n",
    "plt.plot(range(len(dn_history.history['val_loss'])), dn_history.history['val_loss'], label = 'Validation Loss')\n",
    "plt.legend()"
   ]
  },
  {
   "cell_type": "code",
   "execution_count": 17,
   "id": "621a076d",
   "metadata": {},
   "outputs": [
    {
     "data": {
      "text/plain": [
       "<matplotlib.legend.Legend at 0x7fd001f20970>"
      ]
     },
     "execution_count": 17,
     "metadata": {},
     "output_type": "execute_result"
    },
    {
     "data": {
      "image/png": "[encoded data removed]",
      "text/plain": [
       "<Figure size 432x288 with 1 Axes>"
      ]
     },
     "metadata": {
      "needs_background": "light"
     },
     "output_type": "display_data"
    }
   ],
   "source": [
    "plt.plot(range(len(dn_history.history['accuracy'])), dn_history.history['accuracy'], label = 'Training Accuracy')\n",
    "plt.plot(range(len(dn_history.history['val_accuracy'])), dn_history.history['val_accuracy'], label = 'Validation Accuracy')\n",
    "plt.legend()"
   ]
  },
  {
   "cell_type": "markdown",
   "id": "3a45c10c",
   "metadata": {},
   "source": [
    "Training and Validation Accuracy and Loss diverge a lot."
   ]
  },
  {
   "cell_type": "markdown",
   "id": "c19dded6",
   "metadata": {},
   "source": [
    "### Testing a Second DenseNetModel"
   ]
  },
  {
   "cell_type": "code",
   "execution_count": 18,
   "id": "af6d220d",
   "metadata": {},
   "outputs": [],
   "source": [
    "from keras import regularizers"
   ]
  },
  {
   "cell_type": "code",
   "execution_count": 19,
   "id": "6e634dc8",
   "metadata": {},
   "outputs": [],
   "source": [
    "def densenet_model2(input_shape):\n",
    "    dn121 = DenseNet121(input_shape = input_shape, weights = 'imagenet', include_top = False,\n",
    "                        pooling = 'avg')\n",
    "    dn121.trainable = False\n",
    "    \n",
    "    inputs = Input(input_shape)\n",
    "    x = densenet.preprocess_input(inputs)\n",
    "    x = Dropout(0.3)(x)\n",
    "    x = dn121(x)\n",
    "    x  = Dense(512, kernel_regularizer = regularizers.L1(0.01))(x)\n",
    "    \n",
    "    outputs = Dense(5, activation = 'softmax')(x)\n",
    "    \n",
    "    return Model(inputs, outputs, name = 'DenseNetModel2')"
   ]
  },
  {
   "cell_type": "code",
   "execution_count": 20,
   "id": "32bfed13",
   "metadata": {},
   "outputs": [],
   "source": [
    "dn_model2 = densenet_model2(input_shape = (224, 224, 3))\n",
    "dn_model2.compile(loss = 'categorical_crossentropy', optimizer = 'adam', metrics = ['accuracy'])"
   ]
  },
  {
   "cell_type": "code",
   "execution_count": 21,
   "id": "7833baa7",
   "metadata": {},
   "outputs": [
    {
     "name": "stdout",
     "output_type": "stream",
     "text": [
      "Epoch 1/10\n",
      "11/11 [==============================] - 21s 2s/step - loss: 148.2419 - accuracy: 0.4029 - val_loss: 127.2287 - val_accuracy: 0.2800\n",
      "Epoch 2/10\n",
      "11/11 [==============================] - 18s 2s/step - loss: 110.5542 - accuracy: 0.6571 - val_loss: 92.7523 - val_accuracy: 0.5400\n",
      "Epoch 3/10\n",
      "11/11 [==============================] - 19s 2s/step - loss: 79.2534 - accuracy: 0.7429 - val_loss: 64.6791 - val_accuracy: 0.6200\n",
      "Epoch 4/10\n",
      "11/11 [==============================] - 19s 2s/step - loss: 54.0800 - accuracy: 0.7114 - val_loss: 42.9146 - val_accuracy: 0.7400\n",
      "Epoch 5/10\n",
      "11/11 [==============================] - 19s 2s/step - loss: 35.3330 - accuracy: 0.8171 - val_loss: 28.1470 - val_accuracy: 0.6400\n",
      "Epoch 6/10\n",
      "11/11 [==============================] - 19s 2s/step - loss: 23.5577 - accuracy: 0.8371 - val_loss: 19.7429 - val_accuracy: 0.6667\n",
      "Epoch 7/10\n",
      "11/11 [==============================] - 19s 2s/step - loss: 16.5668 - accuracy: 0.8257 - val_loss: 13.8856 - val_accuracy: 0.6600\n",
      "Epoch 8/10\n",
      "11/11 [==============================] - 19s 2s/step - loss: 11.7015 - accuracy: 0.8571 - val_loss: 10.0895 - val_accuracy: 0.6333\n",
      "Epoch 9/10\n",
      "11/11 [==============================] - 19s 2s/step - loss: 8.5646 - accuracy: 0.8400 - val_loss: 7.5249 - val_accuracy: 0.6667\n",
      "Epoch 10/10\n",
      "11/11 [==============================] - 19s 2s/step - loss: 6.4609 - accuracy: 0.8057 - val_loss: 6.0843 - val_accuracy: 0.4600\n"
     ]
    }
   ],
   "source": [
    "dn_history2 = dn_model2.fit(x_train, y_train, validation_data = (x_test, y_test), epochs = 10)"
   ]
  },
  {
   "cell_type": "code",
   "execution_count": 22,
   "id": "ee2c9518",
   "metadata": {},
   "outputs": [
    {
     "data": {
      "text/plain": [
       "<matplotlib.legend.Legend at 0x7fceb24e4d60>"
      ]
     },
     "execution_count": 22,
     "metadata": {},
     "output_type": "execute_result"
    },
    {
     "data": {
      "image/png": "[encoded data removed]",
      "text/plain": [
       "<Figure size 432x288 with 1 Axes>"
      ]
     },
     "metadata": {
      "needs_background": "light"
     },
     "output_type": "display_data"
    }
   ],
   "source": [
    "plt.plot(range(len(dn_history2.history['loss'])), dn_history2.history['loss'], label = 'Training Loss')\n",
    "plt.plot(range(len(dn_history2.history['val_loss'])), dn_history2.history['val_loss'], label = 'Validation Loss')\n",
    "plt.legend()"
   ]
  },
  {
   "cell_type": "code",
   "execution_count": 23,
   "id": "457b728d",
   "metadata": {},
   "outputs": [
    {
     "data": {
      "text/plain": [
       "<matplotlib.legend.Legend at 0x7fcf690b0eb0>"
      ]
     },
     "execution_count": 23,
     "metadata": {},
     "output_type": "execute_result"
    },
    {
     "data": {
      "image/png": "[encoded data removed]",
      "text/plain": [
       "<Figure size 432x288 with 1 Axes>"
      ]
     },
     "metadata": {
      "needs_background": "light"
     },
     "output_type": "display_data"
    }
   ],
   "source": [
    "plt.plot(range(len(dn_history2.history['accuracy'])), dn_history2.history['accuracy'], label = 'Training Accuracy')\n",
    "plt.plot(range(len(dn_history2.history['val_accuracy'])), dn_history2.history['val_accuracy'], label = 'Validation Accuracy')\n",
    "plt.legend()"
   ]
  },
  {
   "cell_type": "markdown",
   "id": "d16788c9",
   "metadata": {},
   "source": [
    "Peak performance with the regularizer was better, but final performance was worse."
   ]
  },
  {
   "cell_type": "code",
   "execution_count": 16,
   "id": "710ebcae",
   "metadata": {},
   "outputs": [],
   "source": [
    "from tensorflow.keras.metrics import AUC"
   ]
  },
  {
   "cell_type": "code",
   "execution_count": 17,
   "id": "a2775acb",
   "metadata": {},
   "outputs": [
    {
     "name": "stdout",
     "output_type": "stream",
     "text": [
      "Epoch 1/10\n",
      "5/5 [==============================] - 9s 972ms/step - loss: 1.8340 - auc: 0.5203\n",
      "Epoch 2/10\n",
      "5/5 [==============================] - 5s 936ms/step - loss: 1.6537 - auc: 0.6001\n",
      "Epoch 3/10\n",
      "5/5 [==============================] - 5s 923ms/step - loss: 1.4286 - auc: 0.7108\n",
      "Epoch 4/10\n",
      "5/5 [==============================] - 5s 985ms/step - loss: 1.2853 - auc: 0.7774\n",
      "Epoch 5/10\n",
      "5/5 [==============================] - 6s 1s/step - loss: 1.1575 - auc: 0.8270\n",
      "Epoch 6/10\n",
      "5/5 [==============================] - 6s 1s/step - loss: 1.0699 - auc: 0.8637\n",
      "Epoch 7/10\n",
      "5/5 [==============================] - 6s 1s/step - loss: 0.9851 - auc: 0.8872\n",
      "Epoch 8/10\n",
      "5/5 [==============================] - 6s 1s/step - loss: 0.8695 - auc: 0.9234\n",
      "Epoch 9/10\n",
      "5/5 [==============================] - 6s 1s/step - loss: 0.8331 - auc: 0.9278\n",
      "Epoch 10/10\n",
      "5/5 [==============================] - 6s 1s/step - loss: 0.7717 - auc: 0.9443\n"
     ]
    }
   ],
   "source": [
    "def get_dn_model():\n",
    "    dn_model = densenet_model(input_shape = (224, 224, 3))\n",
    "    dn_model.compile(loss = 'categorical_crossentropy', optimizer = 'adam', metrics = [AUC(multi_label = True, num_labels = 5)])\n",
    "    return dn_model\n",
    "\n",
    "dn_model = get_dn_model()\n",
    "\n",
    "dn_model.fit(x_test, y_test, epochs = 10)\n",
    "\n",
    "dn_model.save('my_dn_model.keras')"
   ]
  },
  {
   "cell_type": "code",
   "execution_count": null,
   "id": "651e9635",
   "metadata": {},
   "outputs": [],
   "source": []
  }
 ],
 "metadata": {
  "kernelspec": {
   "display_name": "Python 3 (ipykernel)",
   "language": "python",
   "name": "python3"
  },
  "language_info": {
   "codemirror_mode": {
    "name": "ipython",
    "version": 3
   },
   "file_extension": ".py",
   "mimetype": "text/x-python",
   "name": "python",
   "nbconvert_exporter": "python",
   "pygments_lexer": "ipython3",
   "version": "3.8.10"
  }
 },
 "nbformat": 4,
 "nbformat_minor": 5
}
