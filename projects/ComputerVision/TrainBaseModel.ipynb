{
 "cells": [
  {
   "cell_type": "code",
   "execution_count": 1,
   "id": "d139f577",
   "metadata": {},
   "outputs": [],
   "source": [
    "import pandas as pd\n",
    "import os\n",
    "import opendatasets as od\n",
    "import numpy as np\n",
    "import matplotlib.pyplot as plt\n",
    "from pathlib import Path\n",
    "import cv2 as cv\n",
    "import random as rnd\n",
    "from functions import *"
   ]
  },
  {
   "cell_type": "code",
   "execution_count": 2,
   "id": "f3938c00",
   "metadata": {},
   "outputs": [
    {
     "data": {
      "text/plain": [
       "['jellyfish-types/compass_jellyfish/',\n",
       " 'jellyfish-types/Moon_jellyfish/',\n",
       " 'jellyfish-types/blue_jellyfish/',\n",
       " 'jellyfish-types/lions_mane_jellyfish/',\n",
       " 'jellyfish-types/barrel_jellyfish/']"
      ]
     },
     "execution_count": 2,
     "metadata": {},
     "output_type": "execute_result"
    }
   ],
   "source": [
    "get_class_directories()"
   ]
  },
  {
   "cell_type": "code",
   "execution_count": 3,
   "id": "b06795ff",
   "metadata": {},
   "outputs": [
    {
     "data": {
      "text/plain": [
       "737"
      ]
     },
     "execution_count": 3,
     "metadata": {},
     "output_type": "execute_result"
    }
   ],
   "source": [
    "len(get_jpgs())"
   ]
  },
  {
   "cell_type": "markdown",
   "id": "acaed541",
   "metadata": {},
   "source": [
    "### Generating Dataset"
   ]
  },
  {
   "cell_type": "markdown",
   "id": "69405784",
   "metadata": {},
   "source": [
    "Rewriting the code to get the list of images. The project calls for no more than 100 of each class of the target variable and no more than 5 classes of the target variable."
   ]
  },
  {
   "cell_type": "code",
   "execution_count": 4,
   "id": "649b589e",
   "metadata": {},
   "outputs": [],
   "source": [
    "def get_imgs():\n",
    "    imgs = []\n",
    "    for cd in get_class_directories():\n",
    "        for i in range(100):\n",
    "            imgs.append(cd + os.listdir(cd)[i])\n",
    "    return imgs"
   ]
  },
  {
   "cell_type": "code",
   "execution_count": 5,
   "id": "d7195a99",
   "metadata": {},
   "outputs": [
    {
     "data": {
      "text/plain": [
       "500"
      ]
     },
     "execution_count": 5,
     "metadata": {},
     "output_type": "execute_result"
    }
   ],
   "source": [
    "len(get_imgs())"
   ]
  },
  {
   "cell_type": "markdown",
   "id": "71a9c7df",
   "metadata": {},
   "source": [
    "The function to get the list of y values corresponding with each image in x also needed to be rewritten so that it lined up the way it was supposed to."
   ]
  },
  {
   "cell_type": "code",
   "execution_count": 6,
   "id": "b9af60d6",
   "metadata": {},
   "outputs": [],
   "source": [
    "def get_target():\n",
    "    target = []\n",
    "    imgs = get_imgs()\n",
    "    for i in range(len(imgs)):\n",
    "        if 'compass' in imgs[i]:\n",
    "            target.append('compass')\n",
    "        elif 'Moon' in imgs[i]:\n",
    "            target.append('Moon')\n",
    "        elif 'blue' in imgs[i]:\n",
    "            target.append('blue')\n",
    "        elif 'lions_mane' in imgs[i]:\n",
    "            target.append('lions_mane')\n",
    "        elif 'barrel' in imgs[i]:\n",
    "            target.append('barrel')\n",
    "    return target"
   ]
  },
  {
   "cell_type": "code",
   "execution_count": 7,
   "id": "2cde6793",
   "metadata": {},
   "outputs": [],
   "source": [
    "def get_x_data():\n",
    "    imgs = get_imgs()\n",
    "    x = []\n",
    "    for i in range(len(imgs)):\n",
    "        img_data = resize(cv.imread(imgs[i]), (224, 224))\n",
    "        x.append(img_data)\n",
    "    return np.asarray(x)"
   ]
  },
  {
   "cell_type": "code",
   "execution_count": 8,
   "id": "712b0172",
   "metadata": {},
   "outputs": [],
   "source": [
    "x = get_x_data()"
   ]
  },
  {
   "cell_type": "code",
   "execution_count": 9,
   "id": "c6a64990",
   "metadata": {},
   "outputs": [],
   "source": [
    "y = get_target()"
   ]
  },
  {
   "cell_type": "markdown",
   "id": "69651718",
   "metadata": {},
   "source": [
    "One hot encoding the target variable so that the shape lines up with the number of neurons that are supposed to be in the output layer of a multiclass classification neural network."
   ]
  },
  {
   "cell_type": "code",
   "execution_count": 10,
   "id": "2bca0090",
   "metadata": {},
   "outputs": [],
   "source": [
    "y = pd.get_dummies(pd.DataFrame(y))"
   ]
  },
  {
   "cell_type": "code",
   "execution_count": 11,
   "id": "cd376df0",
   "metadata": {},
   "outputs": [],
   "source": [
    "y = y.replace({True: 1, False: 0})"
   ]
  },
  {
   "cell_type": "code",
   "execution_count": 12,
   "id": "9e29a196",
   "metadata": {},
   "outputs": [],
   "source": [
    "y = np.asarray(y)"
   ]
  },
  {
   "cell_type": "markdown",
   "id": "4cbef91d",
   "metadata": {},
   "source": [
    "##### Train Test Split"
   ]
  },
  {
   "cell_type": "code",
   "execution_count": 13,
   "id": "37c9c86c",
   "metadata": {},
   "outputs": [],
   "source": [
    "from sklearn.model_selection import train_test_split"
   ]
  },
  {
   "cell_type": "code",
   "execution_count": 14,
   "id": "6c216710",
   "metadata": {},
   "outputs": [],
   "source": [
    "x_train, x_test, y_train, y_test = train_test_split(x, y, test_size = 0.3)"
   ]
  },
  {
   "cell_type": "code",
   "execution_count": 15,
   "id": "fb1014b5",
   "metadata": {},
   "outputs": [
    {
     "data": {
      "text/plain": [
       "(350, 150)"
      ]
     },
     "execution_count": 15,
     "metadata": {},
     "output_type": "execute_result"
    }
   ],
   "source": [
    "len(x_train), len(x_test)"
   ]
  },
  {
   "cell_type": "code",
   "execution_count": 16,
   "id": "bbe606c0",
   "metadata": {},
   "outputs": [
    {
     "data": {
      "text/plain": [
       "(350, 150)"
      ]
     },
     "execution_count": 16,
     "metadata": {},
     "output_type": "execute_result"
    }
   ],
   "source": [
    "len(y_train), len(y_test)"
   ]
  },
  {
   "cell_type": "markdown",
   "id": "0f6075c0",
   "metadata": {},
   "source": [
    "### First Pre-Built Keras Model: ResNet50"
   ]
  },
  {
   "cell_type": "markdown",
   "id": "610e15b5",
   "metadata": {},
   "source": [
    "The first model will be a simple one with ResNet50 as its foundation. After getting results with this model, data augmentation will be done and then it will be done again."
   ]
  },
  {
   "cell_type": "code",
   "execution_count": 17,
   "id": "8f80667d",
   "metadata": {},
   "outputs": [
    {
     "name": "stderr",
     "output_type": "stream",
     "text": [
      "2024-04-29 13:04:43.201059: I tensorflow/core/platform/cpu_feature_guard.cc:193] This TensorFlow binary is optimized with oneAPI Deep Neural Network Library (oneDNN) to use the following CPU instructions in performance-critical operations:  AVX2 AVX512F AVX512_VNNI FMA\n",
      "To enable them in other operations, rebuild TensorFlow with the appropriate compiler flags.\n",
      "2024-04-29 13:04:43.502653: I tensorflow/core/util/port.cc:104] oneDNN custom operations are on. You may see slightly different numerical results due to floating-point round-off errors from different computation orders. To turn them off, set the environment variable `TF_ENABLE_ONEDNN_OPTS=0`.\n",
      "2024-04-29 13:04:43.542912: W tensorflow/compiler/xla/stream_executor/platform/default/dso_loader.cc:64] Could not load dynamic library 'libcudart.so.11.0'; dlerror: libcudart.so.11.0: cannot open shared object file: No such file or directory; LD_LIBRARY_PATH: /home/clay/.local/lib/python3.8/site-packages/cv2/../../lib64:\n",
      "2024-04-29 13:04:43.542938: I tensorflow/compiler/xla/stream_executor/cuda/cudart_stub.cc:29] Ignore above cudart dlerror if you do not have a GPU set up on your machine.\n",
      "2024-04-29 13:04:45.005591: W tensorflow/compiler/xla/stream_executor/platform/default/dso_loader.cc:64] Could not load dynamic library 'libnvinfer.so.7'; dlerror: libnvinfer.so.7: cannot open shared object file: No such file or directory; LD_LIBRARY_PATH: /home/clay/.local/lib/python3.8/site-packages/cv2/../../lib64:\n",
      "2024-04-29 13:04:45.005776: W tensorflow/compiler/xla/stream_executor/platform/default/dso_loader.cc:64] Could not load dynamic library 'libnvinfer_plugin.so.7'; dlerror: libnvinfer_plugin.so.7: cannot open shared object file: No such file or directory; LD_LIBRARY_PATH: /home/clay/.local/lib/python3.8/site-packages/cv2/../../lib64:\n",
      "2024-04-29 13:04:45.005785: W tensorflow/compiler/tf2tensorrt/utils/py_utils.cc:38] TF-TRT Warning: Cannot dlopen some TensorRT libraries. If you would like to use Nvidia GPU with TensorRT, please make sure the missing libraries mentioned above are installed properly.\n"
     ]
    }
   ],
   "source": [
    "import tensorflow as tf\n",
    "from tensorflow.keras.layers import Dense, Flatten, Input, Dropout, Rescaling\n",
    "from tensorflow.keras.models import Model\n",
    "from tensorflow.keras.applications import ResNet50\n",
    "from tensorflow.keras.applications import resnet"
   ]
  },
  {
   "cell_type": "code",
   "execution_count": 18,
   "id": "5af09b43",
   "metadata": {},
   "outputs": [],
   "source": [
    "def ResNetModel1(input_shape):\n",
    "    base = ResNet50(input_shape = input_shape, weights = 'imagenet',\n",
    "                    include_top = False, pooling = 'avg')\n",
    "    base.trainable = False\n",
    "    \n",
    "    inputs = Input(input_shape)\n",
    "    x = resnet.preprocess_input(inputs)\n",
    "    x = base(x)\n",
    "    outputs = Dense(5, activation = 'softmax')(x)\n",
    "    \n",
    "    return Model(inputs, outputs, name = 'ResNetModel1')"
   ]
  },
  {
   "cell_type": "code",
   "execution_count": 19,
   "id": "bb893a93",
   "metadata": {},
   "outputs": [
    {
     "name": "stderr",
     "output_type": "stream",
     "text": [
      "2024-04-29 13:04:46.680263: W tensorflow/compiler/xla/stream_executor/platform/default/dso_loader.cc:64] Could not load dynamic library 'libcuda.so.1'; dlerror: libcuda.so.1: cannot open shared object file: No such file or directory; LD_LIBRARY_PATH: /home/clay/.local/lib/python3.8/site-packages/cv2/../../lib64:\n",
      "2024-04-29 13:04:46.680344: W tensorflow/compiler/xla/stream_executor/cuda/cuda_driver.cc:265] failed call to cuInit: UNKNOWN ERROR (303)\n",
      "2024-04-29 13:04:46.680362: I tensorflow/compiler/xla/stream_executor/cuda/cuda_diagnostics.cc:156] kernel driver does not appear to be running on this host (LAPTOP-AB0NGOS5): /proc/driver/nvidia/version does not exist\n",
      "2024-04-29 13:04:46.681713: I tensorflow/core/platform/cpu_feature_guard.cc:193] This TensorFlow binary is optimized with oneAPI Deep Neural Network Library (oneDNN) to use the following CPU instructions in performance-critical operations:  AVX2 AVX512F AVX512_VNNI FMA\n",
      "To enable them in other operations, rebuild TensorFlow with the appropriate compiler flags.\n"
     ]
    }
   ],
   "source": [
    "model1 = ResNetModel1(input_shape = (224, 224, 3))"
   ]
  },
  {
   "cell_type": "code",
   "execution_count": 20,
   "id": "11ef9b56",
   "metadata": {},
   "outputs": [],
   "source": [
    "model1.compile(loss = 'categorical_crossentropy', optimizer = 'adam', metrics = ['accuracy'])"
   ]
  },
  {
   "cell_type": "code",
   "execution_count": 21,
   "id": "2953518a",
   "metadata": {},
   "outputs": [
    {
     "name": "stdout",
     "output_type": "stream",
     "text": [
      "Epoch 1/10\n",
      "11/11 [==============================] - 22s 2s/step - loss: 1.4776 - accuracy: 0.4314 - val_loss: 0.8019 - val_accuracy: 0.7400\n",
      "Epoch 2/10\n",
      "11/11 [==============================] - 20s 2s/step - loss: 0.5764 - accuracy: 0.8143 - val_loss: 0.5828 - val_accuracy: 0.7933\n",
      "Epoch 3/10\n",
      "11/11 [==============================] - 20s 2s/step - loss: 0.3336 - accuracy: 0.8914 - val_loss: 0.4115 - val_accuracy: 0.8267\n",
      "Epoch 4/10\n",
      "11/11 [==============================] - 20s 2s/step - loss: 0.2269 - accuracy: 0.9457 - val_loss: 0.3739 - val_accuracy: 0.8667\n",
      "Epoch 5/10\n",
      "11/11 [==============================] - 20s 2s/step - loss: 0.1717 - accuracy: 0.9571 - val_loss: 0.3329 - val_accuracy: 0.8800\n",
      "Epoch 6/10\n",
      "11/11 [==============================] - 20s 2s/step - loss: 0.1334 - accuracy: 0.9800 - val_loss: 0.3168 - val_accuracy: 0.8733\n",
      "Epoch 7/10\n",
      "11/11 [==============================] - 20s 2s/step - loss: 0.1060 - accuracy: 0.9857 - val_loss: 0.2890 - val_accuracy: 0.9067\n",
      "Epoch 8/10\n",
      "11/11 [==============================] - 20s 2s/step - loss: 0.0887 - accuracy: 0.9943 - val_loss: 0.2763 - val_accuracy: 0.9133\n",
      "Epoch 9/10\n",
      "11/11 [==============================] - 20s 2s/step - loss: 0.0752 - accuracy: 0.9971 - val_loss: 0.2665 - val_accuracy: 0.9133\n",
      "Epoch 10/10\n",
      "11/11 [==============================] - 21s 2s/step - loss: 0.0643 - accuracy: 0.9971 - val_loss: 0.2605 - val_accuracy: 0.9200\n"
     ]
    }
   ],
   "source": [
    "history = model1.fit(x_train, y_train, validation_data = (x_test, y_test), epochs = 10)"
   ]
  },
  {
   "cell_type": "markdown",
   "id": "02ec8764",
   "metadata": {},
   "source": [
    "##### Note on Fixing the Accuracy Issue  \n",
    "  \n",
    "I was getting accuracy results in the 10-30% range for a while. This was after getting 100% and 92% accuracy for training and validation after running the model the first time. The difference in accuracy was caused by the fact I didn't re-scale 0 to 1 when I first ran the model. I did re-scale 0 to 1 before running the model today. Re-scaling tanks accuracy. Maybe this is because I re-scale and then use the preprocessing layer for ResNet. Maybe it's that MinMaxScaling is the wrong scaling method to use for this data. Getting training accuracy of 99.7% and validation accuracy of 93.3%."
   ]
  },
  {
   "cell_type": "code",
   "execution_count": 22,
   "id": "a004aa2d",
   "metadata": {},
   "outputs": [
    {
     "data": {
      "text/plain": [
       "<matplotlib.legend.Legend at 0x7fe0bdfee250>"
      ]
     },
     "execution_count": 22,
     "metadata": {},
     "output_type": "execute_result"
    },
    {
     "data": {
      "image/png": "[encoded data removed]",
      "text/plain": [
       "<Figure size 432x288 with 1 Axes>"
      ]
     },
     "metadata": {
      "needs_background": "light"
     },
     "output_type": "display_data"
    }
   ],
   "source": [
    "plt.plot(range(len(history.history['loss'])), history.history['loss'], label = 'Training Loss')\n",
    "plt.plot(range(len(history.history['val_loss'])), history.history['val_loss'], label = 'Validation Loss')\n",
    "plt.legend()"
   ]
  },
  {
   "cell_type": "code",
   "execution_count": 23,
   "id": "b186d9ba",
   "metadata": {},
   "outputs": [
    {
     "data": {
      "text/plain": [
       "<matplotlib.legend.Legend at 0x7fe0bdf41130>"
      ]
     },
     "execution_count": 23,
     "metadata": {},
     "output_type": "execute_result"
    },
    {
     "data": {
      "image/png": "[encoded data removed]",
      "text/plain": [
       "<Figure size 432x288 with 1 Axes>"
      ]
     },
     "metadata": {
      "needs_background": "light"
     },
     "output_type": "display_data"
    }
   ],
   "source": [
    "plt.plot(range(len(history.history['accuracy'])), history.history['accuracy'], label = 'Training Accuracy')\n",
    "plt.plot(range(len(history.history['val_accuracy'])), history.history['val_accuracy'], label = 'Validation Accuracy')\n",
    "plt.legend()"
   ]
  },
  {
   "cell_type": "markdown",
   "id": "1cd86fe6",
   "metadata": {},
   "source": [
    "##### Testing a Dropout Layer"
   ]
  },
  {
   "cell_type": "markdown",
   "id": "0d8cdc3f",
   "metadata": {},
   "source": [
    "The results of the basic model above seem too good, so I'm testing out a dropout layer with different rates to see how that changes things."
   ]
  },
  {
   "cell_type": "code",
   "execution_count": 24,
   "id": "9516ccdc",
   "metadata": {},
   "outputs": [],
   "source": [
    "def ResNetModel2(input_shape):\n",
    "    base = ResNet50(input_shape = input_shape, weights = 'imagenet',\n",
    "                    include_top = False, pooling = 'avg')\n",
    "    base.trainable = False\n",
    "    \n",
    "    inputs = Input(input_shape)\n",
    "    x = resnet.preprocess_input(inputs)\n",
    "    x = Dropout(0.2)(x)\n",
    "    x = base(x)\n",
    "    \n",
    "    outputs = Dense(5, activation = 'softmax')(x)\n",
    "    \n",
    "    return Model(inputs, outputs, name = 'ResNetModel2')"
   ]
  },
  {
   "cell_type": "code",
   "execution_count": 25,
   "id": "89da03ac",
   "metadata": {},
   "outputs": [],
   "source": [
    "model2 = ResNetModel2(input_shape = (224, 224, 3))\n",
    "model2.compile(loss = 'categorical_crossentropy', optimizer = 'adam', metrics = ['accuracy'])"
   ]
  },
  {
   "cell_type": "code",
   "execution_count": 26,
   "id": "865d88ee",
   "metadata": {},
   "outputs": [
    {
     "name": "stdout",
     "output_type": "stream",
     "text": [
      "Epoch 1/10\n",
      "11/11 [==============================] - 23s 2s/step - loss: 1.6820 - accuracy: 0.3343 - val_loss: 1.3113 - val_accuracy: 0.4267\n",
      "Epoch 2/10\n",
      "11/11 [==============================] - 21s 2s/step - loss: 0.9246 - accuracy: 0.6457 - val_loss: 1.0256 - val_accuracy: 0.6200\n",
      "Epoch 3/10\n",
      "11/11 [==============================] - 21s 2s/step - loss: 0.5533 - accuracy: 0.8029 - val_loss: 0.7805 - val_accuracy: 0.7133\n",
      "Epoch 4/10\n",
      "11/11 [==============================] - 21s 2s/step - loss: 0.4157 - accuracy: 0.8571 - val_loss: 0.8054 - val_accuracy: 0.6733\n",
      "Epoch 5/10\n",
      "11/11 [==============================] - 21s 2s/step - loss: 0.3153 - accuracy: 0.9029 - val_loss: 0.6311 - val_accuracy: 0.7800\n",
      "Epoch 6/10\n",
      "11/11 [==============================] - 21s 2s/step - loss: 0.2723 - accuracy: 0.9171 - val_loss: 0.6463 - val_accuracy: 0.7533\n",
      "Epoch 7/10\n",
      "11/11 [==============================] - 21s 2s/step - loss: 0.2207 - accuracy: 0.9543 - val_loss: 0.6282 - val_accuracy: 0.7467\n",
      "Epoch 8/10\n",
      "11/11 [==============================] - 21s 2s/step - loss: 0.1889 - accuracy: 0.9600 - val_loss: 0.6015 - val_accuracy: 0.7600\n",
      "Epoch 9/10\n",
      "11/11 [==============================] - 22s 2s/step - loss: 0.1785 - accuracy: 0.9686 - val_loss: 0.5894 - val_accuracy: 0.7867\n",
      "Epoch 10/10\n",
      "11/11 [==============================] - 21s 2s/step - loss: 0.1565 - accuracy: 0.9629 - val_loss: 0.5983 - val_accuracy: 0.7733\n"
     ]
    }
   ],
   "source": [
    "history2 = model2.fit(x_train, y_train, validation_data = (x_test, y_test), epochs = 10)"
   ]
  },
  {
   "cell_type": "markdown",
   "id": "78b0a302",
   "metadata": {},
   "source": [
    "Big dropoff in validation accuracy with a dropout rate of 0.2."
   ]
  },
  {
   "cell_type": "code",
   "execution_count": 27,
   "id": "a6103d76",
   "metadata": {},
   "outputs": [
    {
     "data": {
      "text/plain": [
       "<matplotlib.legend.Legend at 0x7fe072d03340>"
      ]
     },
     "execution_count": 27,
     "metadata": {},
     "output_type": "execute_result"
    },
    {
     "data": {
      "image/png": "[encoded data removed]",
      "text/plain": [
       "<Figure size 432x288 with 1 Axes>"
      ]
     },
     "metadata": {
      "needs_background": "light"
     },
     "output_type": "display_data"
    }
   ],
   "source": [
    "plt.plot(range(len(history2.history['loss'])), history2.history['loss'], label = 'Training Loss')\n",
    "plt.plot(range(len(history2.history['val_loss'])), history2.history['val_loss'], label = 'Validation Loss')\n",
    "plt.legend()"
   ]
  },
  {
   "cell_type": "code",
   "execution_count": 28,
   "id": "a8178f2e",
   "metadata": {},
   "outputs": [
    {
     "data": {
      "text/plain": [
       "<matplotlib.legend.Legend at 0x7fe0bcf8f370>"
      ]
     },
     "execution_count": 28,
     "metadata": {},
     "output_type": "execute_result"
    },
    {
     "data": {
      "image/png": "[encoded data removed]",
      "text/plain": [
       "<Figure size 432x288 with 1 Axes>"
      ]
     },
     "metadata": {
      "needs_background": "light"
     },
     "output_type": "display_data"
    }
   ],
   "source": [
    "plt.plot(range(len(history2.history['accuracy'])), history2.history['accuracy'], label = 'Training Accuracy')\n",
    "plt.plot(range(len(history2.history['val_accuracy'])), history2.history['val_accuracy'], label = 'Validation Accuracy')\n",
    "plt.legend()"
   ]
  },
  {
   "cell_type": "code",
   "execution_count": 29,
   "id": "bb7d8ef9",
   "metadata": {},
   "outputs": [],
   "source": [
    "def ResNetModel3(input_shape):\n",
    "    base = ResNet50(input_shape = input_shape, weights = 'imagenet',\n",
    "                    include_top = False, pooling = 'avg')\n",
    "    base.trainable = False\n",
    "    \n",
    "    inputs = Input(input_shape)\n",
    "    x = resnet.preprocess_input(inputs)\n",
    "    x = Dropout(0.3)(x)\n",
    "    x = base(x)\n",
    "    \n",
    "    outputs = Dense(5, activation = 'softmax')(x)\n",
    "    \n",
    "    return Model(inputs, outputs, name = 'ResNetModel3')"
   ]
  },
  {
   "cell_type": "code",
   "execution_count": 30,
   "id": "635693ab",
   "metadata": {},
   "outputs": [],
   "source": [
    "model3 = ResNetModel3(input_shape = (224, 224, 3))\n",
    "model3.compile(loss = 'categorical_crossentropy', optimizer = 'adam', metrics = ['accuracy'])"
   ]
  },
  {
   "cell_type": "code",
   "execution_count": 32,
   "id": "5607ba4d",
   "metadata": {},
   "outputs": [
    {
     "name": "stdout",
     "output_type": "stream",
     "text": [
      "Epoch 1/10\n",
      "11/11 [==============================] - 18s 2s/step - loss: 0.1593 - accuracy: 0.9600 - val_loss: 0.8032 - val_accuracy: 0.6933\n",
      "Epoch 2/10\n",
      "11/11 [==============================] - 22s 2s/step - loss: 0.1456 - accuracy: 0.9857 - val_loss: 0.7884 - val_accuracy: 0.6800\n",
      "Epoch 3/10\n",
      "11/11 [==============================] - 23s 2s/step - loss: 0.1345 - accuracy: 0.9743 - val_loss: 0.8166 - val_accuracy: 0.6733\n",
      "Epoch 4/10\n",
      "11/11 [==============================] - 23s 2s/step - loss: 0.1280 - accuracy: 0.9829 - val_loss: 0.7415 - val_accuracy: 0.6933\n",
      "Epoch 5/10\n",
      "11/11 [==============================] - 21s 2s/step - loss: 0.0986 - accuracy: 0.9914 - val_loss: 0.7959 - val_accuracy: 0.6800\n",
      "Epoch 6/10\n",
      "11/11 [==============================] - 21s 2s/step - loss: 0.1060 - accuracy: 0.9914 - val_loss: 0.7456 - val_accuracy: 0.6933\n",
      "Epoch 7/10\n",
      "11/11 [==============================] - 21s 2s/step - loss: 0.0945 - accuracy: 0.9857 - val_loss: 0.8031 - val_accuracy: 0.6733\n",
      "Epoch 8/10\n",
      "11/11 [==============================] - 21s 2s/step - loss: 0.0830 - accuracy: 1.0000 - val_loss: 0.7325 - val_accuracy: 0.7000\n",
      "Epoch 9/10\n",
      "11/11 [==============================] - 21s 2s/step - loss: 0.0804 - accuracy: 0.9886 - val_loss: 0.7169 - val_accuracy: 0.7067\n",
      "Epoch 10/10\n",
      "11/11 [==============================] - 21s 2s/step - loss: 0.0720 - accuracy: 0.9971 - val_loss: 0.7972 - val_accuracy: 0.6800\n"
     ]
    }
   ],
   "source": [
    "history3 = model3.fit(x_train, y_train, validation_data = (x_test, y_test), epochs = 10)"
   ]
  },
  {
   "cell_type": "markdown",
   "id": "ecb25010",
   "metadata": {},
   "source": [
    "Similar performance at tenth epoch to dropout rate of 0.2, but stronger starting accuracy for both training and validation."
   ]
  },
  {
   "cell_type": "code",
   "execution_count": 33,
   "id": "36aeb279",
   "metadata": {},
   "outputs": [
    {
     "data": {
      "text/plain": [
       "<matplotlib.legend.Legend at 0x7fe07216dfd0>"
      ]
     },
     "execution_count": 33,
     "metadata": {},
     "output_type": "execute_result"
    },
    {
     "data": {
      "image/png": "[encoded data removed]",
      "text/plain": [
       "<Figure size 432x288 with 1 Axes>"
      ]
     },
     "metadata": {
      "needs_background": "light"
     },
     "output_type": "display_data"
    }
   ],
   "source": [
    "plt.plot(range(len(history3.history['loss'])), history3.history['loss'], label = 'Training Loss')\n",
    "plt.plot(range(len(history3.history['val_loss'])), history3.history['val_loss'], label = 'Validation Loss')\n",
    "plt.legend()"
   ]
  },
  {
   "cell_type": "code",
   "execution_count": 34,
   "id": "ac577264",
   "metadata": {},
   "outputs": [
    {
     "data": {
      "text/plain": [
       "<matplotlib.legend.Legend at 0x7fe072166880>"
      ]
     },
     "execution_count": 34,
     "metadata": {},
     "output_type": "execute_result"
    },
    {
     "data": {
      "image/png": "[encoded data removed]",
      "text/plain": [
       "<Figure size 432x288 with 1 Axes>"
      ]
     },
     "metadata": {
      "needs_background": "light"
     },
     "output_type": "display_data"
    }
   ],
   "source": [
    "plt.plot(range(len(history3.history['accuracy'])), history3.history['accuracy'], label = 'Training Accuracy')\n",
    "plt.plot(range(len(history3.history['val_accuracy'])), history3.history['val_accuracy'], label = 'Validation Accuracy')\n",
    "plt.legend()"
   ]
  },
  {
   "cell_type": "markdown",
   "id": "cd5b090a",
   "metadata": {},
   "source": [
    "Using AUC as the metric below for the purposes of plotting the ROC Curve for this model in the comparison notebooks."
   ]
  },
  {
   "cell_type": "code",
   "execution_count": 35,
   "id": "9aaf0f10",
   "metadata": {},
   "outputs": [],
   "source": [
    "from tensorflow.keras.metrics import AUC"
   ]
  },
  {
   "cell_type": "code",
   "execution_count": 36,
   "id": "d012a87e",
   "metadata": {},
   "outputs": [
    {
     "name": "stdout",
     "output_type": "stream",
     "text": [
      "Epoch 1/10\n",
      "5/5 [==============================] - 7s 1s/step - loss: 1.5977 - auc: 0.6522\n",
      "Epoch 2/10\n",
      "5/5 [==============================] - 5s 1s/step - loss: 0.9320 - auc: 0.8865\n",
      "Epoch 3/10\n",
      "5/5 [==============================] - 5s 1s/step - loss: 0.6573 - auc: 0.9496\n",
      "Epoch 4/10\n",
      "5/5 [==============================] - 7s 1s/step - loss: 0.5109 - auc: 0.9711\n",
      "Epoch 5/10\n",
      "5/5 [==============================] - 6s 1s/step - loss: 0.3904 - auc: 0.9847\n",
      "Epoch 6/10\n",
      "5/5 [==============================] - 7s 1s/step - loss: 0.3290 - auc: 0.9904\n",
      "Epoch 7/10\n",
      "5/5 [==============================] - 6s 1s/step - loss: 0.2985 - auc: 0.9929\n",
      "Epoch 8/10\n",
      "5/5 [==============================] - 6s 1s/step - loss: 0.2461 - auc: 0.9954\n",
      "Epoch 9/10\n",
      "5/5 [==============================] - 6s 1s/step - loss: 0.2177 - auc: 0.9972\n",
      "Epoch 10/10\n",
      "5/5 [==============================] - 6s 1s/step - loss: 0.1742 - auc: 0.9987\n"
     ]
    }
   ],
   "source": [
    "def get_model():\n",
    "    model = ResNetModel3(input_shape = (224, 224, 3))\n",
    "    model.compile(loss = 'categorical_crossentropy', optimizer = 'adam', metrics = [AUC(multi_label = True, num_labels = 5)])\n",
    "    return model\n",
    "\n",
    "model = get_model()\n",
    "\n",
    "model.fit(x_test, y_test, epochs = 10)\n",
    "\n",
    "model.save('my_model.keras')"
   ]
  },
  {
   "cell_type": "code",
   "execution_count": null,
   "id": "d4c0c1ca",
   "metadata": {},
   "outputs": [],
   "source": []
  }
 ],
 "metadata": {
  "kernelspec": {
   "display_name": "Python 3 (ipykernel)",
   "language": "python",
   "name": "python3"
  },
  "language_info": {
   "codemirror_mode": {
    "name": "ipython",
    "version": 3
   },
   "file_extension": ".py",
   "mimetype": "text/x-python",
   "name": "python",
   "nbconvert_exporter": "python",
   "pygments_lexer": "ipython3",
   "version": "3.8.10"
  }
 },
 "nbformat": 4,
 "nbformat_minor": 5
}
