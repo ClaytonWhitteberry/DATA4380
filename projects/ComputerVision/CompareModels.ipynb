{
 "cells": [
  {
   "cell_type": "code",
   "execution_count": 2,
   "id": "6978c4f5",
   "metadata": {},
   "outputs": [],
   "source": [
    "import pandas as pd\n",
    "import os\n",
    "import opendatasets as od\n",
    "import numpy as np\n",
    "import matplotlib.pyplot as plt\n",
    "from pathlib import Path\n",
    "import cv2 as cv\n",
    "import random as rnd\n",
    "from functions import *"
   ]
  },
  {
   "cell_type": "markdown",
   "id": "c23745db",
   "metadata": {},
   "source": [
    "### Getting Dataset"
   ]
  },
  {
   "cell_type": "code",
   "execution_count": 3,
   "id": "353afb1b",
   "metadata": {},
   "outputs": [],
   "source": [
    "x = get_x_data()"
   ]
  },
  {
   "cell_type": "code",
   "execution_count": 4,
   "id": "8a9550bd",
   "metadata": {},
   "outputs": [],
   "source": [
    "y = get_target()"
   ]
  },
  {
   "cell_type": "code",
   "execution_count": 5,
   "id": "62b0796a",
   "metadata": {},
   "outputs": [],
   "source": [
    "y = pd.get_dummies(pd.DataFrame(y))"
   ]
  },
  {
   "cell_type": "code",
   "execution_count": 6,
   "id": "c3c56057",
   "metadata": {},
   "outputs": [],
   "source": [
    "y = y.replace({True: 1, False: 0})"
   ]
  },
  {
   "cell_type": "code",
   "execution_count": 7,
   "id": "3af40cb4",
   "metadata": {},
   "outputs": [],
   "source": [
    "y = np.asarray(y)"
   ]
  },
  {
   "cell_type": "markdown",
   "id": "8b9d3168",
   "metadata": {},
   "source": [
    "### Data Augmentation Before Spltting"
   ]
  },
  {
   "cell_type": "code",
   "execution_count": 8,
   "id": "c57261cb",
   "metadata": {},
   "outputs": [],
   "source": [
    "import tensorflow as tf\n",
    "from tensorflow.keras.layers import Dense, Flatten, Input, Dropout, Rescaling\n",
    "from tensorflow.keras.models import Model\n",
    "from tensorflow.keras.applications import ResNet50, DenseNet121\n",
    "from tensorflow.keras.applications import resnet, densenet"
   ]
  },
  {
   "cell_type": "code",
   "execution_count": 9,
   "id": "01b995f1",
   "metadata": {},
   "outputs": [],
   "source": [
    "from tensorflow.keras.layers import RandomZoom, RandomContrast, RandomRotation"
   ]
  },
  {
   "cell_type": "code",
   "execution_count": 10,
   "id": "9514650d",
   "metadata": {},
   "outputs": [],
   "source": [
    "data_augmentation_layers = [\n",
    "    RandomZoom((0.1, 0.5)),\n",
    "    RandomRotation(0.5),\n",
    "    RandomContrast(0.2)\n",
    "]\n",
    "\n",
    "\n",
    "def data_augmentation(imgs):\n",
    "    for layer in data_augmentation_layers:\n",
    "        imgs = layer(imgs)\n",
    "    return imgs"
   ]
  },
  {
   "cell_type": "code",
   "execution_count": 11,
   "id": "c7137e9c",
   "metadata": {},
   "outputs": [
    {
     "name": "stdout",
     "output_type": "stream",
     "text": [
      "WARNING:tensorflow:Using a while_loop for converting RngReadAndSkip cause there is no registered converter for this op.\n",
      "WARNING:tensorflow:Using a while_loop for converting Bitcast cause there is no registered converter for this op.\n",
      "WARNING:tensorflow:Using a while_loop for converting Bitcast cause there is no registered converter for this op.\n",
      "WARNING:tensorflow:Using a while_loop for converting StatelessRandomUniformV2 cause there is no registered converter for this op.\n"
     ]
    },
    {
     "name": "stderr",
     "output_type": "stream",
     "text": [
      "2024-04-29 13:55:17.922292: W tensorflow/compiler/xla/stream_executor/platform/default/dso_loader.cc:64] Could not load dynamic library 'libcuda.so.1'; dlerror: libcuda.so.1: cannot open shared object file: No such file or directory; LD_LIBRARY_PATH: /home/clay/.local/lib/python3.8/site-packages/cv2/../../lib64:\n",
      "2024-04-29 13:55:17.922346: W tensorflow/compiler/xla/stream_executor/cuda/cuda_driver.cc:265] failed call to cuInit: UNKNOWN ERROR (303)\n",
      "2024-04-29 13:55:17.922369: I tensorflow/compiler/xla/stream_executor/cuda/cuda_diagnostics.cc:156] kernel driver does not appear to be running on this host (LAPTOP-AB0NGOS5): /proc/driver/nvidia/version does not exist\n",
      "2024-04-29 13:55:17.923951: I tensorflow/core/platform/cpu_feature_guard.cc:193] This TensorFlow binary is optimized with oneAPI Deep Neural Network Library (oneDNN) to use the following CPU instructions in performance-critical operations:  AVX2 AVX512F AVX512_VNNI FMA\n",
      "To enable them in other operations, rebuild TensorFlow with the appropriate compiler flags.\n"
     ]
    },
    {
     "name": "stdout",
     "output_type": "stream",
     "text": [
      "WARNING:tensorflow:Using a while_loop for converting ImageProjectiveTransformV3 cause there is no registered converter for this op.\n",
      "WARNING:tensorflow:Using a while_loop for converting RngReadAndSkip cause there is no registered converter for this op.\n",
      "WARNING:tensorflow:Using a while_loop for converting Bitcast cause there is no registered converter for this op.\n",
      "WARNING:tensorflow:Using a while_loop for converting Bitcast cause there is no registered converter for this op.\n",
      "WARNING:tensorflow:Using a while_loop for converting StatelessRandomUniformV2 cause there is no registered converter for this op.\n",
      "WARNING:tensorflow:Using a while_loop for converting ImageProjectiveTransformV3 cause there is no registered converter for this op.\n",
      "WARNING:tensorflow:Using a while_loop for converting RngReadAndSkip cause there is no registered converter for this op.\n",
      "WARNING:tensorflow:Using a while_loop for converting Bitcast cause there is no registered converter for this op.\n",
      "WARNING:tensorflow:Using a while_loop for converting Bitcast cause there is no registered converter for this op.\n",
      "WARNING:tensorflow:Using a while_loop for converting StatelessRandomUniformFullIntV2 cause there is no registered converter for this op.\n",
      "WARNING:tensorflow:Using a while_loop for converting StatelessRandomGetKeyCounter cause there is no registered converter for this op.\n",
      "WARNING:tensorflow:Using a while_loop for converting StatelessRandomUniformV2 cause there is no registered converter for this op.\n"
     ]
    }
   ],
   "source": [
    "augmented_x = data_augmentation(x)"
   ]
  },
  {
   "cell_type": "code",
   "execution_count": 12,
   "id": "fec50a39",
   "metadata": {},
   "outputs": [],
   "source": [
    "from sklearn.model_selection import train_test_split"
   ]
  },
  {
   "cell_type": "code",
   "execution_count": 13,
   "id": "16452b02",
   "metadata": {},
   "outputs": [],
   "source": [
    "x_train, x_test, y_train, y_test = train_test_split(np.asarray(augmented_x), y, test_size = 0.3)"
   ]
  },
  {
   "cell_type": "code",
   "execution_count": 14,
   "id": "651e9635",
   "metadata": {},
   "outputs": [],
   "source": [
    "from tensorflow.keras.metrics import AUC"
   ]
  },
  {
   "cell_type": "code",
   "execution_count": 16,
   "id": "0fccdc2d",
   "metadata": {},
   "outputs": [],
   "source": [
    "from keras.models import load_model"
   ]
  },
  {
   "cell_type": "code",
   "execution_count": 17,
   "id": "87de353b",
   "metadata": {},
   "outputs": [],
   "source": [
    "reconstructed_dn = load_model('my_dn_model.keras')"
   ]
  },
  {
   "cell_type": "code",
   "execution_count": 18,
   "id": "4dbefb9d",
   "metadata": {},
   "outputs": [],
   "source": [
    "reconstructed_resnet = load_model('my_model.keras')"
   ]
  },
  {
   "cell_type": "code",
   "execution_count": 19,
   "id": "b62ac2e6",
   "metadata": {},
   "outputs": [],
   "source": [
    "reconstructed_vgg = load_model('my_vgg_model.keras')"
   ]
  },
  {
   "cell_type": "code",
   "execution_count": 20,
   "id": "ef9d5b24",
   "metadata": {},
   "outputs": [],
   "source": [
    "reconstructed_dn.compile(loss = 'categorical_crossentropy', optimizer = 'adam', metrics = [AUC(multi_label = True, num_labels = 5)])\n",
    "reconstructed_resnet.compile(loss = 'categorical_crossentropy', optimizer = 'adam', metrics = [AUC(multi_label = True, num_labels = 5)])\n",
    "reconstructed_vgg.compile(loss = 'categorical_crossentropy', optimizer = 'adam', metrics = [AUC(multi_label = True, num_labels = 5)])"
   ]
  },
  {
   "cell_type": "code",
   "execution_count": 21,
   "id": "b993d5d6",
   "metadata": {},
   "outputs": [
    {
     "name": "stdout",
     "output_type": "stream",
     "text": [
      "Epoch 1/8\n",
      "5/5 [==============================] - 9s 937ms/step - loss: 1.0265 - auc: 0.8684\n",
      "Epoch 2/8\n",
      "5/5 [==============================] - 5s 953ms/step - loss: 0.8954 - auc: 0.9164\n",
      "Epoch 3/8\n",
      "5/5 [==============================] - 5s 924ms/step - loss: 0.8543 - auc: 0.9249\n",
      "Epoch 4/8\n",
      "5/5 [==============================] - 5s 916ms/step - loss: 0.7757 - auc: 0.9371\n",
      "Epoch 5/8\n",
      "5/5 [==============================] - 5s 919ms/step - loss: 0.7221 - auc: 0.9484\n",
      "Epoch 6/8\n",
      "5/5 [==============================] - 5s 913ms/step - loss: 0.6842 - auc: 0.9529\n",
      "Epoch 7/8\n",
      "5/5 [==============================] - 5s 912ms/step - loss: 0.6820 - auc: 0.9570\n",
      "Epoch 8/8\n",
      "5/5 [==============================] - 5s 1s/step - loss: 0.5780 - auc: 0.9759\n"
     ]
    }
   ],
   "source": [
    "dn_history = reconstructed_dn.fit(x_test, y_test, epochs = 8)"
   ]
  },
  {
   "cell_type": "code",
   "execution_count": 22,
   "id": "b2a977de",
   "metadata": {},
   "outputs": [
    {
     "name": "stdout",
     "output_type": "stream",
     "text": [
      "Epoch 1/8\n",
      "5/5 [==============================] - 5s 941ms/step - loss: 0.5782 - auc: 0.9727\n",
      "Epoch 2/8\n",
      "5/5 [==============================] - 5s 920ms/step - loss: 0.5520 - auc: 0.9741\n",
      "Epoch 3/8\n",
      "5/5 [==============================] - 5s 929ms/step - loss: 0.5147 - auc: 0.9797\n",
      "Epoch 4/8\n",
      "5/5 [==============================] - 5s 921ms/step - loss: 0.4749 - auc: 0.9834\n",
      "Epoch 5/8\n",
      "5/5 [==============================] - 5s 931ms/step - loss: 0.4397 - auc: 0.9909\n",
      "Epoch 6/8\n",
      "5/5 [==============================] - 5s 931ms/step - loss: 0.4340 - auc: 0.9904\n",
      "Epoch 7/8\n",
      "5/5 [==============================] - 5s 920ms/step - loss: 0.4323 - auc: 0.9882\n",
      "Epoch 8/8\n",
      "5/5 [==============================] - 5s 911ms/step - loss: 0.4001 - auc: 0.9900\n"
     ]
    }
   ],
   "source": [
    "resnet_history = reconstructed_dn.fit(x_test, y_test, epochs = 8)"
   ]
  },
  {
   "cell_type": "code",
   "execution_count": 23,
   "id": "9000b392",
   "metadata": {},
   "outputs": [
    {
     "name": "stdout",
     "output_type": "stream",
     "text": [
      "Epoch 1/8\n",
      "5/5 [==============================] - 5s 929ms/step - loss: 0.3791 - auc: 0.9931\n",
      "Epoch 2/8\n",
      "5/5 [==============================] - 5s 955ms/step - loss: 0.3756 - auc: 0.9923\n",
      "Epoch 3/8\n",
      "5/5 [==============================] - 5s 944ms/step - loss: 0.3560 - auc: 0.9959\n",
      "Epoch 4/8\n",
      "5/5 [==============================] - 5s 918ms/step - loss: 0.3118 - auc: 0.9979\n",
      "Epoch 5/8\n",
      "5/5 [==============================] - 5s 908ms/step - loss: 0.3304 - auc: 0.9955\n",
      "Epoch 6/8\n",
      "5/5 [==============================] - 5s 1s/step - loss: 0.3290 - auc: 0.9949\n",
      "Epoch 7/8\n",
      "5/5 [==============================] - 5s 1s/step - loss: 0.3046 - auc: 0.9968\n",
      "Epoch 8/8\n",
      "5/5 [==============================] - 5s 1s/step - loss: 0.2982 - auc: 0.9971\n"
     ]
    }
   ],
   "source": [
    "vgg_history = reconstructed_dn.fit(x_test, y_test, epochs = 8)"
   ]
  },
  {
   "cell_type": "code",
   "execution_count": 24,
   "id": "912c18e5",
   "metadata": {},
   "outputs": [
    {
     "data": {
      "text/plain": [
       "<matplotlib.legend.Legend at 0x7fd8c94263a0>"
      ]
     },
     "execution_count": 24,
     "metadata": {},
     "output_type": "execute_result"
    },
    {
     "data": {
      "image/png": "[encoded data removed]",
      "text/plain": [
       "<Figure size 432x288 with 1 Axes>"
      ]
     },
     "metadata": {
      "needs_background": "light"
     },
     "output_type": "display_data"
    }
   ],
   "source": [
    "plt.plot(range(len(dn_history.history['auc'])), dn_history.history['auc'], label = 'DenseNet121 ROC')\n",
    "plt.plot(range(len(resnet_history.history['auc'])), resnet_history.history['auc'], label = 'ResNet50 ROC')\n",
    "plt.plot(range(len(vgg_history.history['auc'])), vgg_history.history['auc'], label = 'VGG16 ROC')\n",
    "plt.legend()"
   ]
  },
  {
   "cell_type": "code",
   "execution_count": null,
   "id": "819bb9af",
   "metadata": {},
   "outputs": [],
   "source": []
  }
 ],
 "metadata": {
  "kernelspec": {
   "display_name": "Python 3 (ipykernel)",
   "language": "python",
   "name": "python3"
  },
  "language_info": {
   "codemirror_mode": {
    "name": "ipython",
    "version": 3
   },
   "file_extension": ".py",
   "mimetype": "text/x-python",
   "name": "python",
   "nbconvert_exporter": "python",
   "pygments_lexer": "ipython3",
   "version": "3.8.10"
  }
 },
 "nbformat": 4,
 "nbformat_minor": 5
}
