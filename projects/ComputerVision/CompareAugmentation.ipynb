{
 "cells": [
  {
   "cell_type": "code",
   "execution_count": 1,
   "id": "d8df73f3",
   "metadata": {},
   "outputs": [],
   "source": [
    "import pandas as pd\n",
    "import os\n",
    "import opendatasets as od\n",
    "import numpy as np\n",
    "import matplotlib.pyplot as plt\n",
    "from pathlib import Path\n",
    "import cv2 as cv\n",
    "import random as rnd\n",
    "from functions import *"
   ]
  },
  {
   "cell_type": "markdown",
   "id": "4bc63752",
   "metadata": {},
   "source": [
    "### Getting Dataset"
   ]
  },
  {
   "cell_type": "code",
   "execution_count": 2,
   "id": "d0b2d2a3",
   "metadata": {},
   "outputs": [],
   "source": [
    "x = get_x_data()"
   ]
  },
  {
   "cell_type": "code",
   "execution_count": 3,
   "id": "77d4baa6",
   "metadata": {},
   "outputs": [],
   "source": [
    "y = get_target()"
   ]
  },
  {
   "cell_type": "code",
   "execution_count": 4,
   "id": "5d057c81",
   "metadata": {},
   "outputs": [],
   "source": [
    "y = pd.get_dummies(pd.DataFrame(y))"
   ]
  },
  {
   "cell_type": "code",
   "execution_count": 5,
   "id": "0f0ce7d4",
   "metadata": {},
   "outputs": [],
   "source": [
    "y = y.replace({True: 1, False: 0})"
   ]
  },
  {
   "cell_type": "code",
   "execution_count": 6,
   "id": "90dc3487",
   "metadata": {},
   "outputs": [],
   "source": [
    "y = np.asarray(y)"
   ]
  },
  {
   "cell_type": "markdown",
   "id": "c4601a1f",
   "metadata": {},
   "source": [
    "### Data Augmentation Before Spltting"
   ]
  },
  {
   "cell_type": "code",
   "execution_count": 7,
   "id": "347a9f36",
   "metadata": {},
   "outputs": [
    {
     "name": "stderr",
     "output_type": "stream",
     "text": [
      "2024-04-29 13:25:28.789624: I tensorflow/core/platform/cpu_feature_guard.cc:193] This TensorFlow binary is optimized with oneAPI Deep Neural Network Library (oneDNN) to use the following CPU instructions in performance-critical operations:  AVX2 AVX512F AVX512_VNNI FMA\n",
      "To enable them in other operations, rebuild TensorFlow with the appropriate compiler flags.\n",
      "2024-04-29 13:25:29.119009: I tensorflow/core/util/port.cc:104] oneDNN custom operations are on. You may see slightly different numerical results due to floating-point round-off errors from different computation orders. To turn them off, set the environment variable `TF_ENABLE_ONEDNN_OPTS=0`.\n",
      "2024-04-29 13:25:29.164482: W tensorflow/compiler/xla/stream_executor/platform/default/dso_loader.cc:64] Could not load dynamic library 'libcudart.so.11.0'; dlerror: libcudart.so.11.0: cannot open shared object file: No such file or directory; LD_LIBRARY_PATH: /home/clay/.local/lib/python3.8/site-packages/cv2/../../lib64:\n",
      "2024-04-29 13:25:29.164501: I tensorflow/compiler/xla/stream_executor/cuda/cudart_stub.cc:29] Ignore above cudart dlerror if you do not have a GPU set up on your machine.\n",
      "2024-04-29 13:25:30.428445: W tensorflow/compiler/xla/stream_executor/platform/default/dso_loader.cc:64] Could not load dynamic library 'libnvinfer.so.7'; dlerror: libnvinfer.so.7: cannot open shared object file: No such file or directory; LD_LIBRARY_PATH: /home/clay/.local/lib/python3.8/site-packages/cv2/../../lib64:\n",
      "2024-04-29 13:25:30.428634: W tensorflow/compiler/xla/stream_executor/platform/default/dso_loader.cc:64] Could not load dynamic library 'libnvinfer_plugin.so.7'; dlerror: libnvinfer_plugin.so.7: cannot open shared object file: No such file or directory; LD_LIBRARY_PATH: /home/clay/.local/lib/python3.8/site-packages/cv2/../../lib64:\n",
      "2024-04-29 13:25:30.428642: W tensorflow/compiler/tf2tensorrt/utils/py_utils.cc:38] TF-TRT Warning: Cannot dlopen some TensorRT libraries. If you would like to use Nvidia GPU with TensorRT, please make sure the missing libraries mentioned above are installed properly.\n"
     ]
    }
   ],
   "source": [
    "import tensorflow as tf\n",
    "from tensorflow.keras.layers import Dense, Flatten, Input, Dropout, Rescaling\n",
    "from tensorflow.keras.models import Model\n",
    "from tensorflow.keras.applications import ResNet50, DenseNet121, VGG16\n",
    "from tensorflow.keras.applications import resnet, densenet, vgg16"
   ]
  },
  {
   "cell_type": "code",
   "execution_count": 8,
   "id": "34e33195",
   "metadata": {},
   "outputs": [],
   "source": [
    "from tensorflow.keras.layers import RandomZoom, RandomContrast, RandomRotation"
   ]
  },
  {
   "cell_type": "code",
   "execution_count": 9,
   "id": "18c67e55",
   "metadata": {},
   "outputs": [],
   "source": [
    "data_augmentation_layers = [\n",
    "    RandomZoom((0.1, 0.5)),\n",
    "    RandomRotation(0.5),\n",
    "    RandomContrast(0.2)\n",
    "]\n",
    "\n",
    "\n",
    "def data_augmentation(imgs):\n",
    "    for layer in data_augmentation_layers:\n",
    "        imgs = layer(imgs)\n",
    "    return imgs"
   ]
  },
  {
   "cell_type": "code",
   "execution_count": 10,
   "id": "7815e020",
   "metadata": {},
   "outputs": [
    {
     "name": "stdout",
     "output_type": "stream",
     "text": [
      "WARNING:tensorflow:Using a while_loop for converting RngReadAndSkip cause there is no registered converter for this op.\n",
      "WARNING:tensorflow:Using a while_loop for converting Bitcast cause there is no registered converter for this op.\n"
     ]
    },
    {
     "name": "stderr",
     "output_type": "stream",
     "text": [
      "2024-04-29 13:25:32.136964: W tensorflow/compiler/xla/stream_executor/platform/default/dso_loader.cc:64] Could not load dynamic library 'libcuda.so.1'; dlerror: libcuda.so.1: cannot open shared object file: No such file or directory; LD_LIBRARY_PATH: /home/clay/.local/lib/python3.8/site-packages/cv2/../../lib64:\n",
      "2024-04-29 13:25:32.137272: W tensorflow/compiler/xla/stream_executor/cuda/cuda_driver.cc:265] failed call to cuInit: UNKNOWN ERROR (303)\n",
      "2024-04-29 13:25:32.137308: I tensorflow/compiler/xla/stream_executor/cuda/cuda_diagnostics.cc:156] kernel driver does not appear to be running on this host (LAPTOP-AB0NGOS5): /proc/driver/nvidia/version does not exist\n",
      "2024-04-29 13:25:32.138365: I tensorflow/core/platform/cpu_feature_guard.cc:193] This TensorFlow binary is optimized with oneAPI Deep Neural Network Library (oneDNN) to use the following CPU instructions in performance-critical operations:  AVX2 AVX512F AVX512_VNNI FMA\n",
      "To enable them in other operations, rebuild TensorFlow with the appropriate compiler flags.\n"
     ]
    },
    {
     "name": "stdout",
     "output_type": "stream",
     "text": [
      "WARNING:tensorflow:Using a while_loop for converting Bitcast cause there is no registered converter for this op.\n",
      "WARNING:tensorflow:Using a while_loop for converting StatelessRandomUniformV2 cause there is no registered converter for this op.\n",
      "WARNING:tensorflow:Using a while_loop for converting ImageProjectiveTransformV3 cause there is no registered converter for this op.\n",
      "WARNING:tensorflow:Using a while_loop for converting RngReadAndSkip cause there is no registered converter for this op.\n",
      "WARNING:tensorflow:Using a while_loop for converting Bitcast cause there is no registered converter for this op.\n",
      "WARNING:tensorflow:Using a while_loop for converting Bitcast cause there is no registered converter for this op.\n",
      "WARNING:tensorflow:Using a while_loop for converting StatelessRandomUniformV2 cause there is no registered converter for this op.\n",
      "WARNING:tensorflow:Using a while_loop for converting ImageProjectiveTransformV3 cause there is no registered converter for this op.\n",
      "WARNING:tensorflow:Using a while_loop for converting RngReadAndSkip cause there is no registered converter for this op.\n",
      "WARNING:tensorflow:Using a while_loop for converting Bitcast cause there is no registered converter for this op.\n",
      "WARNING:tensorflow:Using a while_loop for converting Bitcast cause there is no registered converter for this op.\n",
      "WARNING:tensorflow:Using a while_loop for converting StatelessRandomUniformFullIntV2 cause there is no registered converter for this op.\n",
      "WARNING:tensorflow:Using a while_loop for converting StatelessRandomGetKeyCounter cause there is no registered converter for this op.\n",
      "WARNING:tensorflow:Using a while_loop for converting StatelessRandomUniformV2 cause there is no registered converter for this op.\n"
     ]
    }
   ],
   "source": [
    "augmented_x = data_augmentation(x)"
   ]
  },
  {
   "cell_type": "code",
   "execution_count": 11,
   "id": "d8982b7f",
   "metadata": {},
   "outputs": [],
   "source": [
    "from sklearn.model_selection import train_test_split"
   ]
  },
  {
   "cell_type": "code",
   "execution_count": 12,
   "id": "7c2690db",
   "metadata": {},
   "outputs": [],
   "source": [
    "x_train, x_test, y_train, y_test = train_test_split(np.asarray(augmented_x), y, test_size = 0.3)"
   ]
  },
  {
   "cell_type": "code",
   "execution_count": 13,
   "id": "ba5c2fb1",
   "metadata": {},
   "outputs": [],
   "source": [
    "from tensorflow.keras.metrics import AUC\n",
    "from tensorflow.keras.models import load_model"
   ]
  },
  {
   "cell_type": "code",
   "execution_count": 14,
   "id": "3703d520",
   "metadata": {},
   "outputs": [],
   "source": [
    "reconstructed_model = load_model('my_model.keras')\n",
    "reconstructed_aug_model = load_model('my_aug_model.keras')"
   ]
  },
  {
   "cell_type": "code",
   "execution_count": 19,
   "id": "1f65c1a6",
   "metadata": {},
   "outputs": [],
   "source": [
    "reconstructed_model.compile(loss = 'categorical_crossentropy', optimizer = 'adam', metrics = [AUC(multi_label = True, num_labels = 5)])\n",
    "reconstructed_aug_model.compile(loss = 'categorical_crossentropy', optimizer = 'adam', metrics = [AUC(multi_label = True, num_labels = 5)])"
   ]
  },
  {
   "cell_type": "code",
   "execution_count": 22,
   "id": "09ba99f9",
   "metadata": {},
   "outputs": [
    {
     "name": "stdout",
     "output_type": "stream",
     "text": [
      "Epoch 1/8\n",
      "5/5 [==============================] - 8s 1s/step - loss: 0.9120 - auc: 0.8971\n",
      "Epoch 2/8\n",
      "5/5 [==============================] - 5s 1s/step - loss: 0.7245 - auc: 0.9357\n",
      "Epoch 3/8\n",
      "5/5 [==============================] - 5s 1s/step - loss: 0.5709 - auc: 0.9599\n",
      "Epoch 4/8\n",
      "5/5 [==============================] - 5s 1s/step - loss: 0.4233 - auc: 0.9769\n",
      "Epoch 5/8\n",
      "5/5 [==============================] - 5s 1s/step - loss: 0.3802 - auc: 0.9824\n",
      "Epoch 6/8\n",
      "5/5 [==============================] - 5s 1s/step - loss: 0.3154 - auc: 0.9901\n",
      "Epoch 7/8\n",
      "5/5 [==============================] - 6s 1s/step - loss: 0.2735 - auc: 0.9930\n",
      "Epoch 8/8\n",
      "5/5 [==============================] - 6s 1s/step - loss: 0.2208 - auc: 0.9971\n"
     ]
    }
   ],
   "source": [
    "history = reconstructed_model.fit(x_test, y_test, epochs = 8)"
   ]
  },
  {
   "cell_type": "code",
   "execution_count": 23,
   "id": "3293a304",
   "metadata": {},
   "outputs": [
    {
     "name": "stdout",
     "output_type": "stream",
     "text": [
      "Epoch 1/8\n",
      "5/5 [==============================] - 7s 1s/step - loss: 0.8845 - auc_1: 0.9025\n",
      "Epoch 2/8\n",
      "5/5 [==============================] - 5s 1s/step - loss: 0.6319 - auc_1: 0.9516\n",
      "Epoch 3/8\n",
      "5/5 [==============================] - 5s 1s/step - loss: 0.5443 - auc_1: 0.9654\n",
      "Epoch 4/8\n",
      "5/5 [==============================] - 5s 1s/step - loss: 0.4623 - auc_1: 0.9760\n",
      "Epoch 5/8\n",
      "5/5 [==============================] - 5s 1s/step - loss: 0.3680 - auc_1: 0.9865\n",
      "Epoch 6/8\n",
      "5/5 [==============================] - 5s 1s/step - loss: 0.3184 - auc_1: 0.9926\n",
      "Epoch 7/8\n",
      "5/5 [==============================] - 6s 1s/step - loss: 0.2791 - auc_1: 0.9947\n",
      "Epoch 8/8\n",
      "5/5 [==============================] - 6s 1s/step - loss: 0.2284 - auc_1: 0.9972\n"
     ]
    }
   ],
   "source": [
    "aug_history = reconstructed_aug_model.fit(x_test, y_test, epochs = 8)"
   ]
  },
  {
   "cell_type": "markdown",
   "id": "f672fe08",
   "metadata": {},
   "source": [
    "### ROC Curves"
   ]
  },
  {
   "cell_type": "code",
   "execution_count": 31,
   "id": "408c905a",
   "metadata": {},
   "outputs": [
    {
     "data": {
      "text/plain": [
       "<matplotlib.legend.Legend at 0x7fd0cedea250>"
      ]
     },
     "execution_count": 31,
     "metadata": {},
     "output_type": "execute_result"
    },
    {
     "data": {
      "image/png": "[encoded data removed]",
      "text/plain": [
       "<Figure size 432x288 with 1 Axes>"
      ]
     },
     "metadata": {
      "needs_background": "light"
     },
     "output_type": "display_data"
    }
   ],
   "source": [
    "plt.plot(range(len(history.history['auc'])), history.history['auc'], label = 'ROC')\n",
    "plt.plot(range(len(aug_history.history['auc_1'])), aug_history.history['auc_1'], label = 'Augmented ROC')\n",
    "plt.legend()"
   ]
  },
  {
   "cell_type": "code",
   "execution_count": null,
   "id": "6af69ad8",
   "metadata": {},
   "outputs": [],
   "source": []
  }
 ],
 "metadata": {
  "kernelspec": {
   "display_name": "Python 3 (ipykernel)",
   "language": "python",
   "name": "python3"
  },
  "language_info": {
   "codemirror_mode": {
    "name": "ipython",
    "version": 3
   },
   "file_extension": ".py",
   "mimetype": "text/x-python",
   "name": "python",
   "nbconvert_exporter": "python",
   "pygments_lexer": "ipython3",
   "version": "3.8.10"
  }
 },
 "nbformat": 4,
 "nbformat_minor": 5
}
