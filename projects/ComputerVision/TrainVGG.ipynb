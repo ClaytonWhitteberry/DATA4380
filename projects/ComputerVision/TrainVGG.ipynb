{
 "cells": [
  {
   "cell_type": "code",
   "execution_count": 2,
   "id": "259a17f3",
   "metadata": {},
   "outputs": [],
   "source": [
    "import pandas as pd\n",
    "import os\n",
    "import opendatasets as od\n",
    "import numpy as np\n",
    "import matplotlib.pyplot as plt\n",
    "from pathlib import Path\n",
    "import cv2 as cv\n",
    "import random as rnd\n",
    "from functions import *"
   ]
  },
  {
   "cell_type": "code",
   "execution_count": 3,
   "id": "aca0e5d1",
   "metadata": {},
   "outputs": [
    {
     "data": {
      "text/plain": [
       "['jellyfish-types/compass_jellyfish/',\n",
       " 'jellyfish-types/Moon_jellyfish/',\n",
       " 'jellyfish-types/blue_jellyfish/',\n",
       " 'jellyfish-types/lions_mane_jellyfish/',\n",
       " 'jellyfish-types/barrel_jellyfish/']"
      ]
     },
     "execution_count": 3,
     "metadata": {},
     "output_type": "execute_result"
    }
   ],
   "source": [
    "get_class_directories()"
   ]
  },
  {
   "cell_type": "code",
   "execution_count": 4,
   "id": "89aeb528",
   "metadata": {},
   "outputs": [
    {
     "data": {
      "text/plain": [
       "737"
      ]
     },
     "execution_count": 4,
     "metadata": {},
     "output_type": "execute_result"
    }
   ],
   "source": [
    "len(get_jpgs())"
   ]
  },
  {
   "cell_type": "markdown",
   "id": "b93ae122",
   "metadata": {},
   "source": [
    "### Generating Dataset"
   ]
  },
  {
   "cell_type": "code",
   "execution_count": 5,
   "id": "5eb7b3f4",
   "metadata": {},
   "outputs": [],
   "source": [
    "def get_imgs():\n",
    "    imgs = []\n",
    "    for cd in get_class_directories():\n",
    "        for i in range(100):\n",
    "            imgs.append(cd + os.listdir(cd)[i])\n",
    "    return imgs"
   ]
  },
  {
   "cell_type": "code",
   "execution_count": 6,
   "id": "e5fb215b",
   "metadata": {},
   "outputs": [
    {
     "data": {
      "text/plain": [
       "500"
      ]
     },
     "execution_count": 6,
     "metadata": {},
     "output_type": "execute_result"
    }
   ],
   "source": [
    "len(get_imgs())"
   ]
  },
  {
   "cell_type": "code",
   "execution_count": 7,
   "id": "3c6ad60b",
   "metadata": {},
   "outputs": [],
   "source": [
    "def get_target():\n",
    "    target = []\n",
    "    imgs = get_imgs()\n",
    "    for i in range(len(imgs)):\n",
    "        if 'compass' in imgs[i]:\n",
    "            target.append('compass')\n",
    "        elif 'Moon' in imgs[i]:\n",
    "            target.append('Moon')\n",
    "        elif 'blue' in imgs[i]:\n",
    "            target.append('blue')\n",
    "        elif 'lions_mane' in imgs[i]:\n",
    "            target.append('lions_mane')\n",
    "        elif 'barrel' in imgs[i]:\n",
    "            target.append('barrel')\n",
    "    return target"
   ]
  },
  {
   "cell_type": "code",
   "execution_count": 8,
   "id": "bf0852bf",
   "metadata": {},
   "outputs": [],
   "source": [
    "def get_x_data():\n",
    "    imgs = get_imgs()\n",
    "    x = []\n",
    "    for i in range(len(imgs)):\n",
    "        img_data = resize(cv.imread(imgs[i]), (224, 224))\n",
    "        x.append(img_data)\n",
    "    return np.asarray(x)"
   ]
  },
  {
   "cell_type": "code",
   "execution_count": 9,
   "id": "077b751e",
   "metadata": {},
   "outputs": [],
   "source": [
    "x = get_x_data()"
   ]
  },
  {
   "cell_type": "code",
   "execution_count": 10,
   "id": "89a01489",
   "metadata": {},
   "outputs": [],
   "source": [
    "y = get_target()"
   ]
  },
  {
   "cell_type": "code",
   "execution_count": 11,
   "id": "61c58691",
   "metadata": {},
   "outputs": [],
   "source": [
    "y = pd.get_dummies(pd.DataFrame(y))"
   ]
  },
  {
   "cell_type": "code",
   "execution_count": 12,
   "id": "620ff885",
   "metadata": {},
   "outputs": [],
   "source": [
    "y = y.replace({True: 1, False: 0})"
   ]
  },
  {
   "cell_type": "code",
   "execution_count": 13,
   "id": "46c45e14",
   "metadata": {},
   "outputs": [],
   "source": [
    "y = np.asarray(y)"
   ]
  },
  {
   "cell_type": "markdown",
   "id": "e3bb4fe8",
   "metadata": {},
   "source": [
    "### Augmentation"
   ]
  },
  {
   "cell_type": "code",
   "execution_count": 14,
   "id": "367b1f9d",
   "metadata": {},
   "outputs": [],
   "source": [
    "from tensorflow.keras.layers import RandomZoom, RandomContrast, RandomRotation"
   ]
  },
  {
   "cell_type": "code",
   "execution_count": 15,
   "id": "6497d2db",
   "metadata": {},
   "outputs": [],
   "source": [
    "data_augmentation_layers = [\n",
    "    RandomZoom((0.1, 0.5)),\n",
    "    RandomRotation(0.5),\n",
    "    RandomContrast(0.2)\n",
    "]\n",
    "\n",
    "\n",
    "def data_augmentation(imgs):\n",
    "    for layer in data_augmentation_layers:\n",
    "        imgs = layer(imgs)\n",
    "    return imgs"
   ]
  },
  {
   "cell_type": "code",
   "execution_count": 16,
   "id": "573ae8de",
   "metadata": {},
   "outputs": [
    {
     "name": "stdout",
     "output_type": "stream",
     "text": [
      "WARNING:tensorflow:Using a while_loop for converting RngReadAndSkip cause there is no registered converter for this op.\n"
     ]
    },
    {
     "name": "stderr",
     "output_type": "stream",
     "text": [
      "2024-04-29 13:40:06.315173: W tensorflow/compiler/xla/stream_executor/platform/default/dso_loader.cc:64] Could not load dynamic library 'libcuda.so.1'; dlerror: libcuda.so.1: cannot open shared object file: No such file or directory; LD_LIBRARY_PATH: /home/clay/.local/lib/python3.8/site-packages/cv2/../../lib64:\n",
      "2024-04-29 13:40:06.315242: W tensorflow/compiler/xla/stream_executor/cuda/cuda_driver.cc:265] failed call to cuInit: UNKNOWN ERROR (303)\n",
      "2024-04-29 13:40:06.315261: I tensorflow/compiler/xla/stream_executor/cuda/cuda_diagnostics.cc:156] kernel driver does not appear to be running on this host (LAPTOP-AB0NGOS5): /proc/driver/nvidia/version does not exist\n",
      "2024-04-29 13:40:06.317166: I tensorflow/core/platform/cpu_feature_guard.cc:193] This TensorFlow binary is optimized with oneAPI Deep Neural Network Library (oneDNN) to use the following CPU instructions in performance-critical operations:  AVX2 AVX512F AVX512_VNNI FMA\n",
      "To enable them in other operations, rebuild TensorFlow with the appropriate compiler flags.\n"
     ]
    },
    {
     "name": "stdout",
     "output_type": "stream",
     "text": [
      "WARNING:tensorflow:Using a while_loop for converting Bitcast cause there is no registered converter for this op.\n",
      "WARNING:tensorflow:Using a while_loop for converting Bitcast cause there is no registered converter for this op.\n",
      "WARNING:tensorflow:Using a while_loop for converting StatelessRandomUniformV2 cause there is no registered converter for this op.\n",
      "WARNING:tensorflow:Using a while_loop for converting ImageProjectiveTransformV3 cause there is no registered converter for this op.\n",
      "WARNING:tensorflow:Using a while_loop for converting RngReadAndSkip cause there is no registered converter for this op.\n",
      "WARNING:tensorflow:Using a while_loop for converting Bitcast cause there is no registered converter for this op.\n",
      "WARNING:tensorflow:Using a while_loop for converting Bitcast cause there is no registered converter for this op.\n",
      "WARNING:tensorflow:Using a while_loop for converting StatelessRandomUniformV2 cause there is no registered converter for this op.\n",
      "WARNING:tensorflow:Using a while_loop for converting ImageProjectiveTransformV3 cause there is no registered converter for this op.\n",
      "WARNING:tensorflow:Using a while_loop for converting RngReadAndSkip cause there is no registered converter for this op.\n",
      "WARNING:tensorflow:Using a while_loop for converting Bitcast cause there is no registered converter for this op.\n",
      "WARNING:tensorflow:Using a while_loop for converting Bitcast cause there is no registered converter for this op.\n",
      "WARNING:tensorflow:Using a while_loop for converting StatelessRandomUniformFullIntV2 cause there is no registered converter for this op.\n",
      "WARNING:tensorflow:Using a while_loop for converting StatelessRandomGetKeyCounter cause there is no registered converter for this op.\n",
      "WARNING:tensorflow:Using a while_loop for converting StatelessRandomUniformV2 cause there is no registered converter for this op.\n"
     ]
    }
   ],
   "source": [
    "augmented_x = data_augmentation(x)"
   ]
  },
  {
   "cell_type": "code",
   "execution_count": 17,
   "id": "4ebaf246",
   "metadata": {},
   "outputs": [],
   "source": [
    "from sklearn.model_selection import train_test_split"
   ]
  },
  {
   "cell_type": "code",
   "execution_count": 18,
   "id": "7f1f9411",
   "metadata": {},
   "outputs": [],
   "source": [
    "x_train, x_test, y_train, y_test = train_test_split(x, y, test_size = 0.3)"
   ]
  },
  {
   "cell_type": "markdown",
   "id": "d9712c23",
   "metadata": {},
   "source": [
    "### VGG16 Model 1"
   ]
  },
  {
   "cell_type": "code",
   "execution_count": 19,
   "id": "aa565291",
   "metadata": {},
   "outputs": [],
   "source": [
    "import tensorflow as tf\n",
    "from tensorflow.keras.layers import Dense, Flatten, Input, Dropout, Rescaling\n",
    "from tensorflow.keras.models import Model\n",
    "from tensorflow.keras.applications import VGG16\n",
    "from tensorflow.keras.applications import vgg16"
   ]
  },
  {
   "cell_type": "code",
   "execution_count": 20,
   "id": "59662099",
   "metadata": {},
   "outputs": [],
   "source": [
    "def VGGModel1(input_shape):\n",
    "    base = VGG16(input_shape = input_shape, weights = 'imagenet',\n",
    "                    include_top = False, pooling = 'avg')\n",
    "    base.trainable = False\n",
    "    \n",
    "    inputs = Input(input_shape)\n",
    "    x = vgg16.preprocess_input(inputs)\n",
    "    x = Dropout(0.3)(x)\n",
    "    x = base(x)\n",
    "    outputs = Dense(5, activation = 'softmax')(x)\n",
    "    \n",
    "    return Model(inputs, outputs, name = 'VGGModel1')"
   ]
  },
  {
   "cell_type": "code",
   "execution_count": 21,
   "id": "273b3a73",
   "metadata": {},
   "outputs": [],
   "source": [
    "vgg_model = VGGModel1(input_shape = (224, 224, 3))"
   ]
  },
  {
   "cell_type": "code",
   "execution_count": 21,
   "id": "54ececb6",
   "metadata": {},
   "outputs": [],
   "source": [
    "vgg_model.compile(loss = 'categorical_crossentropy', optimizer = 'adam', metrics = ['accuracy'])"
   ]
  },
  {
   "cell_type": "code",
   "execution_count": 22,
   "id": "3a050ab9",
   "metadata": {},
   "outputs": [
    {
     "name": "stdout",
     "output_type": "stream",
     "text": [
      "Epoch 1/10\n",
      "11/11 [==============================] - 61s 6s/step - loss: 5.5319 - accuracy: 0.2400 - val_loss: 3.9306 - val_accuracy: 0.2867\n",
      "Epoch 2/10\n",
      "11/11 [==============================] - 64s 6s/step - loss: 3.5112 - accuracy: 0.3629 - val_loss: 2.7266 - val_accuracy: 0.3533\n",
      "Epoch 3/10\n",
      "11/11 [==============================] - 63s 6s/step - loss: 2.3351 - accuracy: 0.4600 - val_loss: 2.1552 - val_accuracy: 0.4333\n",
      "Epoch 4/10\n",
      "11/11 [==============================] - 67s 6s/step - loss: 1.6456 - accuracy: 0.5857 - val_loss: 1.8750 - val_accuracy: 0.5200\n",
      "Epoch 5/10\n",
      "11/11 [==============================] - 66s 6s/step - loss: 1.3458 - accuracy: 0.6514 - val_loss: 1.7381 - val_accuracy: 0.5600\n",
      "Epoch 6/10\n",
      "11/11 [==============================] - 65s 6s/step - loss: 0.9688 - accuracy: 0.7114 - val_loss: 1.5782 - val_accuracy: 0.6067\n",
      "Epoch 7/10\n",
      "11/11 [==============================] - 66s 6s/step - loss: 0.8025 - accuracy: 0.7600 - val_loss: 1.5491 - val_accuracy: 0.6067\n",
      "Epoch 8/10\n",
      "11/11 [==============================] - 67s 6s/step - loss: 0.6213 - accuracy: 0.8257 - val_loss: 1.4621 - val_accuracy: 0.6333\n",
      "Epoch 9/10\n",
      "11/11 [==============================] - 68s 6s/step - loss: 0.6122 - accuracy: 0.7914 - val_loss: 1.4590 - val_accuracy: 0.6333\n",
      "Epoch 10/10\n",
      "11/11 [==============================] - 67s 6s/step - loss: 0.5021 - accuracy: 0.8200 - val_loss: 1.3788 - val_accuracy: 0.6333\n"
     ]
    }
   ],
   "source": [
    "vgg_history = vgg_model.fit(x_train, y_train, validation_data = (x_test, y_test), epochs = 10)"
   ]
  },
  {
   "cell_type": "code",
   "execution_count": 23,
   "id": "5c646d05",
   "metadata": {},
   "outputs": [
    {
     "data": {
      "text/plain": [
       "<matplotlib.legend.Legend at 0x7f4b4cf8bc40>"
      ]
     },
     "execution_count": 23,
     "metadata": {},
     "output_type": "execute_result"
    },
    {
     "data": {
      "image/png": "[encoded data removed]",
      "text/plain": [
       "<Figure size 432x288 with 1 Axes>"
      ]
     },
     "metadata": {
      "needs_background": "light"
     },
     "output_type": "display_data"
    }
   ],
   "source": [
    "plt.plot(range(len(vgg_history.history['loss'])), vgg_history.history['loss'], label = 'Training Loss')\n",
    "plt.plot(range(len(vgg_history.history['val_loss'])), vgg_history.history['val_loss'], label = 'Validation Loss')\n",
    "plt.legend()"
   ]
  },
  {
   "cell_type": "code",
   "execution_count": 24,
   "id": "256bdf42",
   "metadata": {},
   "outputs": [
    {
     "data": {
      "text/plain": [
       "<matplotlib.legend.Legend at 0x7f4b4cf52c40>"
      ]
     },
     "execution_count": 24,
     "metadata": {},
     "output_type": "execute_result"
    },
    {
     "data": {
      "image/png": "[encoded data removed]",
      "text/plain": [
       "<Figure size 432x288 with 1 Axes>"
      ]
     },
     "metadata": {
      "needs_background": "light"
     },
     "output_type": "display_data"
    }
   ],
   "source": [
    "plt.plot(range(len(vgg_history.history['accuracy'])), vgg_history.history['accuracy'], label = 'Training Accuracy')\n",
    "plt.plot(range(len(vgg_history.history['val_accuracy'])), vgg_history.history['val_accuracy'], label = 'Validation Accuracy')\n",
    "plt.legend()"
   ]
  },
  {
   "cell_type": "code",
   "execution_count": 22,
   "id": "70d34dea",
   "metadata": {},
   "outputs": [],
   "source": [
    "from tensorflow.keras.metrics import AUC"
   ]
  },
  {
   "cell_type": "code",
   "execution_count": 23,
   "id": "b1a7be66",
   "metadata": {},
   "outputs": [
    {
     "name": "stdout",
     "output_type": "stream",
     "text": [
      "Epoch 1/10\n",
      "5/5 [==============================] - 15s 3s/step - loss: 7.7972 - auc: 0.5088\n",
      "Epoch 2/10\n",
      "5/5 [==============================] - 15s 3s/step - loss: 5.5351 - auc: 0.5658\n",
      "Epoch 3/10\n",
      "5/5 [==============================] - 17s 3s/step - loss: 4.1165 - auc: 0.5858\n",
      "Epoch 4/10\n",
      "5/5 [==============================] - 16s 3s/step - loss: 3.3753 - auc: 0.6517\n",
      "Epoch 5/10\n",
      "5/5 [==============================] - 18s 4s/step - loss: 2.6401 - auc: 0.6950\n",
      "Epoch 6/10\n",
      "5/5 [==============================] - 18s 4s/step - loss: 2.1706 - auc: 0.7752\n",
      "Epoch 7/10\n",
      "5/5 [==============================] - 18s 4s/step - loss: 1.9214 - auc: 0.8052\n",
      "Epoch 8/10\n",
      "5/5 [==============================] - 18s 4s/step - loss: 1.4778 - auc: 0.8630\n",
      "Epoch 9/10\n",
      "5/5 [==============================] - 18s 4s/step - loss: 1.2887 - auc: 0.8791\n",
      "Epoch 10/10\n",
      "5/5 [==============================] - 18s 4s/step - loss: 1.2910 - auc: 0.8775\n"
     ]
    }
   ],
   "source": [
    "def get_vgg_model():\n",
    "    vgg_model = VGGModel1(input_shape = (224, 224, 3))\n",
    "    vgg_model.compile(loss = 'categorical_crossentropy', optimizer = 'adam', metrics = [AUC(multi_label = True, num_labels = 5)])\n",
    "    return vgg_model\n",
    "\n",
    "vgg_model = get_vgg_model()\n",
    "\n",
    "vgg_model.fit(x_test, y_test, epochs = 10)\n",
    "\n",
    "vgg_model.save('my_vgg_model.keras')"
   ]
  },
  {
   "cell_type": "code",
   "execution_count": null,
   "id": "21458ac8",
   "metadata": {},
   "outputs": [],
   "source": []
  }
 ],
 "metadata": {
  "kernelspec": {
   "display_name": "Python 3 (ipykernel)",
   "language": "python",
   "name": "python3"
  },
  "language_info": {
   "codemirror_mode": {
    "name": "ipython",
    "version": 3
   },
   "file_extension": ".py",
   "mimetype": "text/x-python",
   "name": "python",
   "nbconvert_exporter": "python",
   "pygments_lexer": "ipython3",
   "version": "3.8.10"
  }
 },
 "nbformat": 4,
 "nbformat_minor": 5
}
