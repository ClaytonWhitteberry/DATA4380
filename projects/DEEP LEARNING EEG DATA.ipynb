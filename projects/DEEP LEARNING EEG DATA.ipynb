{
 "cells": [
  {
   "cell_type": "code",
   "execution_count": 1,
   "id": "c0df2ed3-f894-4cc6-be4f-c72619641219",
   "metadata": {},
   "outputs": [],
   "source": [
    "import warnings\n",
    "warnings.filterwarnings('ignore')"
   ]
  },
  {
   "cell_type": "code",
   "execution_count": 45,
   "id": "821dd44f-e679-4a97-9b27-f20756b12e26",
   "metadata": {},
   "outputs": [],
   "source": [
    "import pandas as pd\n",
    "import numpy as np\n",
    "import pyarrow\n",
    "import matplotlib.pyplot as plt\n",
    "import antropy as ant\n",
    "from utils import *"
   ]
  },
  {
   "cell_type": "code",
   "execution_count": 3,
   "id": "3a9f607f-f60e-4d12-ae25-c55370f63894",
   "metadata": {},
   "outputs": [],
   "source": [
    "train = pd.read_csv('train.csv')"
   ]
  },
  {
   "cell_type": "code",
   "execution_count": 4,
   "id": "f1595185-3e87-44bd-9618-604f96f8f459",
   "metadata": {},
   "outputs": [
    {
     "data": {
      "text/html": [
       "<div>\n",
       "<style scoped>\n",
       "    .dataframe tbody tr th:only-of-type {\n",
       "        vertical-align: middle;\n",
       "    }\n",
       "\n",
       "    .dataframe tbody tr th {\n",
       "        vertical-align: top;\n",
       "    }\n",
       "\n",
       "    .dataframe thead th {\n",
       "        text-align: right;\n",
       "    }\n",
       "</style>\n",
       "<table border=\"1\" class=\"dataframe\">\n",
       "  <thead>\n",
       "    <tr style=\"text-align: right;\">\n",
       "      <th></th>\n",
       "      <th>eeg_id</th>\n",
       "      <th>eeg_sub_id</th>\n",
       "      <th>eeg_label_offset_seconds</th>\n",
       "      <th>spectrogram_id</th>\n",
       "      <th>spectrogram_sub_id</th>\n",
       "      <th>spectrogram_label_offset_seconds</th>\n",
       "      <th>label_id</th>\n",
       "      <th>patient_id</th>\n",
       "      <th>expert_consensus</th>\n",
       "      <th>seizure_vote</th>\n",
       "      <th>lpd_vote</th>\n",
       "      <th>gpd_vote</th>\n",
       "      <th>lrda_vote</th>\n",
       "      <th>grda_vote</th>\n",
       "      <th>other_vote</th>\n",
       "    </tr>\n",
       "  </thead>\n",
       "  <tbody>\n",
       "    <tr>\n",
       "      <th>0</th>\n",
       "      <td>1628180742</td>\n",
       "      <td>0</td>\n",
       "      <td>0.0</td>\n",
       "      <td>353733</td>\n",
       "      <td>0</td>\n",
       "      <td>0.0</td>\n",
       "      <td>127492639</td>\n",
       "      <td>42516</td>\n",
       "      <td>Seizure</td>\n",
       "      <td>3</td>\n",
       "      <td>0</td>\n",
       "      <td>0</td>\n",
       "      <td>0</td>\n",
       "      <td>0</td>\n",
       "      <td>0</td>\n",
       "    </tr>\n",
       "    <tr>\n",
       "      <th>1</th>\n",
       "      <td>1628180742</td>\n",
       "      <td>1</td>\n",
       "      <td>6.0</td>\n",
       "      <td>353733</td>\n",
       "      <td>1</td>\n",
       "      <td>6.0</td>\n",
       "      <td>3887563113</td>\n",
       "      <td>42516</td>\n",
       "      <td>Seizure</td>\n",
       "      <td>3</td>\n",
       "      <td>0</td>\n",
       "      <td>0</td>\n",
       "      <td>0</td>\n",
       "      <td>0</td>\n",
       "      <td>0</td>\n",
       "    </tr>\n",
       "    <tr>\n",
       "      <th>2</th>\n",
       "      <td>1628180742</td>\n",
       "      <td>2</td>\n",
       "      <td>8.0</td>\n",
       "      <td>353733</td>\n",
       "      <td>2</td>\n",
       "      <td>8.0</td>\n",
       "      <td>1142670488</td>\n",
       "      <td>42516</td>\n",
       "      <td>Seizure</td>\n",
       "      <td>3</td>\n",
       "      <td>0</td>\n",
       "      <td>0</td>\n",
       "      <td>0</td>\n",
       "      <td>0</td>\n",
       "      <td>0</td>\n",
       "    </tr>\n",
       "    <tr>\n",
       "      <th>3</th>\n",
       "      <td>1628180742</td>\n",
       "      <td>3</td>\n",
       "      <td>18.0</td>\n",
       "      <td>353733</td>\n",
       "      <td>3</td>\n",
       "      <td>18.0</td>\n",
       "      <td>2718991173</td>\n",
       "      <td>42516</td>\n",
       "      <td>Seizure</td>\n",
       "      <td>3</td>\n",
       "      <td>0</td>\n",
       "      <td>0</td>\n",
       "      <td>0</td>\n",
       "      <td>0</td>\n",
       "      <td>0</td>\n",
       "    </tr>\n",
       "    <tr>\n",
       "      <th>4</th>\n",
       "      <td>1628180742</td>\n",
       "      <td>4</td>\n",
       "      <td>24.0</td>\n",
       "      <td>353733</td>\n",
       "      <td>4</td>\n",
       "      <td>24.0</td>\n",
       "      <td>3080632009</td>\n",
       "      <td>42516</td>\n",
       "      <td>Seizure</td>\n",
       "      <td>3</td>\n",
       "      <td>0</td>\n",
       "      <td>0</td>\n",
       "      <td>0</td>\n",
       "      <td>0</td>\n",
       "      <td>0</td>\n",
       "    </tr>\n",
       "    <tr>\n",
       "      <th>...</th>\n",
       "      <td>...</td>\n",
       "      <td>...</td>\n",
       "      <td>...</td>\n",
       "      <td>...</td>\n",
       "      <td>...</td>\n",
       "      <td>...</td>\n",
       "      <td>...</td>\n",
       "      <td>...</td>\n",
       "      <td>...</td>\n",
       "      <td>...</td>\n",
       "      <td>...</td>\n",
       "      <td>...</td>\n",
       "      <td>...</td>\n",
       "      <td>...</td>\n",
       "      <td>...</td>\n",
       "    </tr>\n",
       "    <tr>\n",
       "      <th>106795</th>\n",
       "      <td>351917269</td>\n",
       "      <td>6</td>\n",
       "      <td>12.0</td>\n",
       "      <td>2147388374</td>\n",
       "      <td>6</td>\n",
       "      <td>12.0</td>\n",
       "      <td>4195677307</td>\n",
       "      <td>10351</td>\n",
       "      <td>LRDA</td>\n",
       "      <td>0</td>\n",
       "      <td>0</td>\n",
       "      <td>0</td>\n",
       "      <td>3</td>\n",
       "      <td>0</td>\n",
       "      <td>0</td>\n",
       "    </tr>\n",
       "    <tr>\n",
       "      <th>106796</th>\n",
       "      <td>351917269</td>\n",
       "      <td>7</td>\n",
       "      <td>14.0</td>\n",
       "      <td>2147388374</td>\n",
       "      <td>7</td>\n",
       "      <td>14.0</td>\n",
       "      <td>290896675</td>\n",
       "      <td>10351</td>\n",
       "      <td>LRDA</td>\n",
       "      <td>0</td>\n",
       "      <td>0</td>\n",
       "      <td>0</td>\n",
       "      <td>3</td>\n",
       "      <td>0</td>\n",
       "      <td>0</td>\n",
       "    </tr>\n",
       "    <tr>\n",
       "      <th>106797</th>\n",
       "      <td>351917269</td>\n",
       "      <td>8</td>\n",
       "      <td>16.0</td>\n",
       "      <td>2147388374</td>\n",
       "      <td>8</td>\n",
       "      <td>16.0</td>\n",
       "      <td>461435451</td>\n",
       "      <td>10351</td>\n",
       "      <td>LRDA</td>\n",
       "      <td>0</td>\n",
       "      <td>0</td>\n",
       "      <td>0</td>\n",
       "      <td>3</td>\n",
       "      <td>0</td>\n",
       "      <td>0</td>\n",
       "    </tr>\n",
       "    <tr>\n",
       "      <th>106798</th>\n",
       "      <td>351917269</td>\n",
       "      <td>9</td>\n",
       "      <td>18.0</td>\n",
       "      <td>2147388374</td>\n",
       "      <td>9</td>\n",
       "      <td>18.0</td>\n",
       "      <td>3786213131</td>\n",
       "      <td>10351</td>\n",
       "      <td>LRDA</td>\n",
       "      <td>0</td>\n",
       "      <td>0</td>\n",
       "      <td>0</td>\n",
       "      <td>3</td>\n",
       "      <td>0</td>\n",
       "      <td>0</td>\n",
       "    </tr>\n",
       "    <tr>\n",
       "      <th>106799</th>\n",
       "      <td>351917269</td>\n",
       "      <td>10</td>\n",
       "      <td>20.0</td>\n",
       "      <td>2147388374</td>\n",
       "      <td>10</td>\n",
       "      <td>20.0</td>\n",
       "      <td>3642716176</td>\n",
       "      <td>10351</td>\n",
       "      <td>LRDA</td>\n",
       "      <td>0</td>\n",
       "      <td>0</td>\n",
       "      <td>0</td>\n",
       "      <td>3</td>\n",
       "      <td>0</td>\n",
       "      <td>0</td>\n",
       "    </tr>\n",
       "  </tbody>\n",
       "</table>\n",
       "<p>106800 rows × 15 columns</p>\n",
       "</div>"
      ],
      "text/plain": [
       "            eeg_id  eeg_sub_id  eeg_label_offset_seconds  spectrogram_id  \\\n",
       "0       1628180742           0                       0.0          353733   \n",
       "1       1628180742           1                       6.0          353733   \n",
       "2       1628180742           2                       8.0          353733   \n",
       "3       1628180742           3                      18.0          353733   \n",
       "4       1628180742           4                      24.0          353733   \n",
       "...            ...         ...                       ...             ...   \n",
       "106795   351917269           6                      12.0      2147388374   \n",
       "106796   351917269           7                      14.0      2147388374   \n",
       "106797   351917269           8                      16.0      2147388374   \n",
       "106798   351917269           9                      18.0      2147388374   \n",
       "106799   351917269          10                      20.0      2147388374   \n",
       "\n",
       "        spectrogram_sub_id  spectrogram_label_offset_seconds    label_id  \\\n",
       "0                        0                               0.0   127492639   \n",
       "1                        1                               6.0  3887563113   \n",
       "2                        2                               8.0  1142670488   \n",
       "3                        3                              18.0  2718991173   \n",
       "4                        4                              24.0  3080632009   \n",
       "...                    ...                               ...         ...   \n",
       "106795                   6                              12.0  4195677307   \n",
       "106796                   7                              14.0   290896675   \n",
       "106797                   8                              16.0   461435451   \n",
       "106798                   9                              18.0  3786213131   \n",
       "106799                  10                              20.0  3642716176   \n",
       "\n",
       "        patient_id expert_consensus  seizure_vote  lpd_vote  gpd_vote  \\\n",
       "0            42516          Seizure             3         0         0   \n",
       "1            42516          Seizure             3         0         0   \n",
       "2            42516          Seizure             3         0         0   \n",
       "3            42516          Seizure             3         0         0   \n",
       "4            42516          Seizure             3         0         0   \n",
       "...            ...              ...           ...       ...       ...   \n",
       "106795       10351             LRDA             0         0         0   \n",
       "106796       10351             LRDA             0         0         0   \n",
       "106797       10351             LRDA             0         0         0   \n",
       "106798       10351             LRDA             0         0         0   \n",
       "106799       10351             LRDA             0         0         0   \n",
       "\n",
       "        lrda_vote  grda_vote  other_vote  \n",
       "0               0          0           0  \n",
       "1               0          0           0  \n",
       "2               0          0           0  \n",
       "3               0          0           0  \n",
       "4               0          0           0  \n",
       "...           ...        ...         ...  \n",
       "106795          3          0           0  \n",
       "106796          3          0           0  \n",
       "106797          3          0           0  \n",
       "106798          3          0           0  \n",
       "106799          3          0           0  \n",
       "\n",
       "[106800 rows x 15 columns]"
      ]
     },
     "execution_count": 4,
     "metadata": {},
     "output_type": "execute_result"
    }
   ],
   "source": [
    "train"
   ]
  },
  {
   "cell_type": "code",
   "execution_count": 5,
   "id": "8910d67e-27a9-4376-a7ba-464d3cb8ad09",
   "metadata": {},
   "outputs": [],
   "source": [
    "from sklearn.preprocessing import StandardScaler\n",
    "from sklearn.decomposition import PCA"
   ]
  },
  {
   "cell_type": "markdown",
   "id": "1e7f7909-8e31-4285-856b-bd12a44d9f7a",
   "metadata": {},
   "source": [
    "### Preprocessing Data and Building Features  \n",
    "\n",
    "Loading in the first 5k sub EEGs, replacing null values with the column median, standardizing the data, and running PCA to reduce the dimensions of the sub EEGs from 20 columns to 8 columns. Then using my functions to calculate the alpha and beta bands for each column and hjorth mobility and complexity for each column."
   ]
  },
  {
   "cell_type": "code",
   "execution_count": 8,
   "id": "61c36aea-ebfa-4564-ad89-bbae0b312cd6",
   "metadata": {},
   "outputs": [],
   "source": [
    "mobs, coms = [], []\n",
    "alphas, betas = [], []\n",
    "\n",
    "for i in range(5000):\n",
    "    sub_eeg = preprocess(get_sub_eeg(train, i))\n",
    "    pca_eeg = principal_components(sub_eeg, 8)\n",
    "    f, pxx = welch(pca_eeg)\n",
    "    alphas.append(get_band_features(f, pxx)[0])\n",
    "    betas.append(get_band_features(f, pxx)[1])\n",
    "    mobs.append(mobility_complexity(pca_eeg)[0])\n",
    "    coms.append(mobility_complexity(pca_eeg)[1])"
   ]
  },
  {
   "cell_type": "markdown",
   "id": "d1a8958a-877f-4afc-9881-1d7178d6bcc6",
   "metadata": {},
   "source": [
    "Building Dataframe"
   ]
  },
  {
   "cell_type": "code",
   "execution_count": 9,
   "id": "326e0053-dd33-4ce9-a6f8-b552c04f119a",
   "metadata": {},
   "outputs": [],
   "source": [
    "mobility_cols = ['component{}_mobility'.format(i + 1) for i in range(8)]\n",
    "complexity_cols = ['component{}_complexity'.format(i + 1) for i in range(8)]\n",
    "alpha_cols = ['component{}_alpha'.format(i + 1) for i in range(8)]\n",
    "beta_cols = ['component{}_beta'.format(i + 1) for i in range(8)]"
   ]
  },
  {
   "cell_type": "code",
   "execution_count": 10,
   "id": "aa3bfd51-c8af-49d8-8a8a-2c94d3c0367d",
   "metadata": {},
   "outputs": [],
   "source": [
    "mob_df = pd.DataFrame(mobs, columns = mobility_cols)\n",
    "com_df = pd.DataFrame(coms, columns = complexity_cols)\n",
    "alpha_df = pd.DataFrame(alphas, columns = alpha_cols)\n",
    "beta_df = pd.DataFrame(betas, columns = beta_cols)"
   ]
  },
  {
   "cell_type": "code",
   "execution_count": 11,
   "id": "d0bffdf0-7bc4-49b1-a6b4-e6827fbd8b3b",
   "metadata": {},
   "outputs": [],
   "source": [
    "band_df = pd.concat([alpha_df, beta_df], axis = 1)"
   ]
  },
  {
   "cell_type": "code",
   "execution_count": 12,
   "id": "d453f851-b6e1-4869-bf29-5a8b4a1cc244",
   "metadata": {},
   "outputs": [],
   "source": [
    "hjorth_df = pd.concat([mob_df, com_df], axis = 1)"
   ]
  },
  {
   "cell_type": "code",
   "execution_count": 13,
   "id": "bcbb8760-dce9-4e54-b7d3-f7d49e6a0f4c",
   "metadata": {},
   "outputs": [],
   "source": [
    "from sklearn.preprocessing import OneHotEncoder"
   ]
  },
  {
   "cell_type": "code",
   "execution_count": 27,
   "id": "537e0cf6-6776-4371-b14c-016b4a1c2951",
   "metadata": {},
   "outputs": [],
   "source": [
    "target = train['expert_consensus'].iloc[0:5000]"
   ]
  },
  {
   "cell_type": "code",
   "execution_count": 28,
   "id": "4d57f86a",
   "metadata": {},
   "outputs": [],
   "source": [
    "target = pd.DataFrame(target)"
   ]
  },
  {
   "cell_type": "code",
   "execution_count": 29,
   "id": "e9099a6c",
   "metadata": {},
   "outputs": [
    {
     "data": {
      "text/html": [
       "<div>\n",
       "<style scoped>\n",
       "    .dataframe tbody tr th:only-of-type {\n",
       "        vertical-align: middle;\n",
       "    }\n",
       "\n",
       "    .dataframe tbody tr th {\n",
       "        vertical-align: top;\n",
       "    }\n",
       "\n",
       "    .dataframe thead th {\n",
       "        text-align: right;\n",
       "    }\n",
       "</style>\n",
       "<table border=\"1\" class=\"dataframe\">\n",
       "  <thead>\n",
       "    <tr style=\"text-align: right;\">\n",
       "      <th></th>\n",
       "      <th>expert_consensus</th>\n",
       "    </tr>\n",
       "  </thead>\n",
       "  <tbody>\n",
       "    <tr>\n",
       "      <th>0</th>\n",
       "      <td>Seizure</td>\n",
       "    </tr>\n",
       "    <tr>\n",
       "      <th>1</th>\n",
       "      <td>Seizure</td>\n",
       "    </tr>\n",
       "    <tr>\n",
       "      <th>2</th>\n",
       "      <td>Seizure</td>\n",
       "    </tr>\n",
       "    <tr>\n",
       "      <th>3</th>\n",
       "      <td>Seizure</td>\n",
       "    </tr>\n",
       "    <tr>\n",
       "      <th>4</th>\n",
       "      <td>Seizure</td>\n",
       "    </tr>\n",
       "    <tr>\n",
       "      <th>...</th>\n",
       "      <td>...</td>\n",
       "    </tr>\n",
       "    <tr>\n",
       "      <th>4995</th>\n",
       "      <td>LRDA</td>\n",
       "    </tr>\n",
       "    <tr>\n",
       "      <th>4996</th>\n",
       "      <td>LRDA</td>\n",
       "    </tr>\n",
       "    <tr>\n",
       "      <th>4997</th>\n",
       "      <td>LRDA</td>\n",
       "    </tr>\n",
       "    <tr>\n",
       "      <th>4998</th>\n",
       "      <td>LRDA</td>\n",
       "    </tr>\n",
       "    <tr>\n",
       "      <th>4999</th>\n",
       "      <td>LRDA</td>\n",
       "    </tr>\n",
       "  </tbody>\n",
       "</table>\n",
       "<p>5000 rows × 1 columns</p>\n",
       "</div>"
      ],
      "text/plain": [
       "     expert_consensus\n",
       "0             Seizure\n",
       "1             Seizure\n",
       "2             Seizure\n",
       "3             Seizure\n",
       "4             Seizure\n",
       "...               ...\n",
       "4995             LRDA\n",
       "4996             LRDA\n",
       "4997             LRDA\n",
       "4998             LRDA\n",
       "4999             LRDA\n",
       "\n",
       "[5000 rows x 1 columns]"
      ]
     },
     "execution_count": 29,
     "metadata": {},
     "output_type": "execute_result"
    }
   ],
   "source": [
    "target"
   ]
  },
  {
   "cell_type": "markdown",
   "id": "b660ebe3",
   "metadata": {},
   "source": [
    "One Hot Encoding target variable for multiclass classification."
   ]
  },
  {
   "cell_type": "code",
   "execution_count": 32,
   "id": "a7c1c02d-7199-4ef5-9467-9dde272ea9a4",
   "metadata": {},
   "outputs": [],
   "source": [
    "target = pd.get_dummies(target)"
   ]
  },
  {
   "cell_type": "code",
   "execution_count": 33,
   "id": "9ee4f2d1-dbcd-4417-ba65-a390b58dc6b2",
   "metadata": {},
   "outputs": [
    {
     "data": {
      "text/plain": [
       "(5000, 6)"
      ]
     },
     "execution_count": 33,
     "metadata": {},
     "output_type": "execute_result"
    }
   ],
   "source": [
    "target.shape"
   ]
  },
  {
   "cell_type": "markdown",
   "id": "47d484e0-782f-45f6-a912-5f3e7b43a5e1",
   "metadata": {},
   "source": [
    "Splitting data into training and testing data."
   ]
  },
  {
   "cell_type": "code",
   "execution_count": 34,
   "id": "aebb71f6-ae61-4464-b5a6-341811a82ca4",
   "metadata": {},
   "outputs": [],
   "source": [
    "from sklearn.model_selection import train_test_split"
   ]
  },
  {
   "cell_type": "markdown",
   "id": "c45f17c0",
   "metadata": {},
   "source": [
    "### First Model with Band Features"
   ]
  },
  {
   "cell_type": "markdown",
   "id": "5f2a0aaa-0e8f-4869-9633-e0184a3d2844",
   "metadata": {},
   "source": [
    "Running model with band features first."
   ]
  },
  {
   "cell_type": "code",
   "execution_count": 35,
   "id": "d9d86b6c-a13c-4179-96de-7b8779b9aa1e",
   "metadata": {},
   "outputs": [],
   "source": [
    "band_train, band_test, y_train, y_test = train_test_split(band_df, target, test_size = 0.4)"
   ]
  },
  {
   "cell_type": "code",
   "execution_count": 36,
   "id": "1b990b8f-8373-46e1-b79f-c91c750e2c1d",
   "metadata": {},
   "outputs": [],
   "source": [
    "y_train = pd.DataFrame(y_train).reset_index()\n",
    "y_test = pd.DataFrame(y_test).reset_index()"
   ]
  },
  {
   "cell_type": "code",
   "execution_count": 37,
   "id": "a1f1c275-c6fe-4132-9320-db1c7b433527",
   "metadata": {},
   "outputs": [],
   "source": [
    "y_train = y_train.drop(columns = 'index')"
   ]
  },
  {
   "cell_type": "code",
   "execution_count": 38,
   "id": "1d08d012-aa9c-4008-9d63-f054fe758ffc",
   "metadata": {},
   "outputs": [],
   "source": [
    "y_test = y_test.drop(columns = 'index')"
   ]
  },
  {
   "cell_type": "code",
   "execution_count": 39,
   "id": "3fae925b-279b-4528-87e1-d8d17ced87dc",
   "metadata": {},
   "outputs": [
    {
     "name": "stderr",
     "output_type": "stream",
     "text": [
      "2024-04-23 15:35:23.521534: I tensorflow/core/platform/cpu_feature_guard.cc:193] This TensorFlow binary is optimized with oneAPI Deep Neural Network Library (oneDNN) to use the following CPU instructions in performance-critical operations:  AVX2 AVX512F AVX512_VNNI FMA\n",
      "To enable them in other operations, rebuild TensorFlow with the appropriate compiler flags.\n",
      "2024-04-23 15:35:24.251370: I tensorflow/core/util/port.cc:104] oneDNN custom operations are on. You may see slightly different numerical results due to floating-point round-off errors from different computation orders. To turn them off, set the environment variable `TF_ENABLE_ONEDNN_OPTS=0`.\n",
      "2024-04-23 15:35:24.408395: W tensorflow/compiler/xla/stream_executor/platform/default/dso_loader.cc:64] Could not load dynamic library 'libcudart.so.11.0'; dlerror: libcudart.so.11.0: cannot open shared object file: No such file or directory\n",
      "2024-04-23 15:35:24.408463: I tensorflow/compiler/xla/stream_executor/cuda/cudart_stub.cc:29] Ignore above cudart dlerror if you do not have a GPU set up on your machine.\n",
      "2024-04-23 15:35:27.015001: W tensorflow/compiler/xla/stream_executor/platform/default/dso_loader.cc:64] Could not load dynamic library 'libnvinfer.so.7'; dlerror: libnvinfer.so.7: cannot open shared object file: No such file or directory\n",
      "2024-04-23 15:35:27.015364: W tensorflow/compiler/xla/stream_executor/platform/default/dso_loader.cc:64] Could not load dynamic library 'libnvinfer_plugin.so.7'; dlerror: libnvinfer_plugin.so.7: cannot open shared object file: No such file or directory\n",
      "2024-04-23 15:35:27.015380: W tensorflow/compiler/tf2tensorrt/utils/py_utils.cc:38] TF-TRT Warning: Cannot dlopen some TensorRT libraries. If you would like to use Nvidia GPU with TensorRT, please make sure the missing libraries mentioned above are installed properly.\n"
     ]
    }
   ],
   "source": [
    "from tensorflow.keras.models import Sequential\n",
    "from tensorflow.keras.layers import Dense"
   ]
  },
  {
   "cell_type": "code",
   "execution_count": 40,
   "id": "9b99f780-b61a-442b-8202-4a7fbaa9c819",
   "metadata": {},
   "outputs": [],
   "source": [
    "from keras.models import Model\n",
    "from keras.layers import Dense, Input"
   ]
  },
  {
   "cell_type": "code",
   "execution_count": 41,
   "id": "e7d1e500-c965-46a7-8657-01fbb8625600",
   "metadata": {},
   "outputs": [
    {
     "name": "stdout",
     "output_type": "stream",
     "text": [
      "Model: \"model\"\n",
      "_________________________________________________________________\n",
      " Layer (type)                Output Shape              Param #   \n",
      "=================================================================\n",
      " input_1 (InputLayer)        [(None, 16)]              0         \n",
      "                                                                 \n",
      " dense (Dense)               (None, 12)                204       \n",
      "                                                                 \n",
      " dense_1 (Dense)             (None, 8)                 104       \n",
      "                                                                 \n",
      " dense_2 (Dense)             (None, 8)                 72        \n",
      "                                                                 \n",
      " dense_3 (Dense)             (None, 6)                 54        \n",
      "                                                                 \n",
      "=================================================================\n",
      "Total params: 434\n",
      "Trainable params: 434\n",
      "Non-trainable params: 0\n",
      "_________________________________________________________________\n"
     ]
    },
    {
     "name": "stderr",
     "output_type": "stream",
     "text": [
      "2024-04-23 15:35:30.391128: W tensorflow/compiler/xla/stream_executor/platform/default/dso_loader.cc:64] Could not load dynamic library 'libcuda.so.1'; dlerror: libcuda.so.1: cannot open shared object file: No such file or directory\n",
      "2024-04-23 15:35:30.391178: W tensorflow/compiler/xla/stream_executor/cuda/cuda_driver.cc:265] failed call to cuInit: UNKNOWN ERROR (303)\n",
      "2024-04-23 15:35:30.391915: I tensorflow/compiler/xla/stream_executor/cuda/cuda_diagnostics.cc:156] kernel driver does not appear to be running on this host (LAPTOP-AB0NGOS5): /proc/driver/nvidia/version does not exist\n",
      "2024-04-23 15:35:30.393649: I tensorflow/core/platform/cpu_feature_guard.cc:193] This TensorFlow binary is optimized with oneAPI Deep Neural Network Library (oneDNN) to use the following CPU instructions in performance-critical operations:  AVX2 AVX512F AVX512_VNNI FMA\n",
      "To enable them in other operations, rebuild TensorFlow with the appropriate compiler flags.\n"
     ]
    }
   ],
   "source": [
    "in_x = Input(shape = band_train.shape[1:])\n",
    "x = Dense(12, input_dim = band_train.shape[1], activation = 'relu')(in_x)\n",
    "x = Dense(8, activation = 'relu')(x)\n",
    "x = Dense(8, activation = 'relu')(x)\n",
    "out_x = Dense(6, activation = 'softmax')(x)\n",
    "\n",
    "model = Model(in_x, out_x)\n",
    "\n",
    "model.summary()"
   ]
  },
  {
   "cell_type": "code",
   "execution_count": 42,
   "id": "04ff4dd9-5d1f-49eb-bb29-c9cd460b6039",
   "metadata": {},
   "outputs": [],
   "source": [
    "model.compile(loss = 'categorical_crossentropy', optimizer = 'adam', metrics = ['accuracy'])"
   ]
  },
  {
   "cell_type": "code",
   "execution_count": 43,
   "id": "5384b58b-c111-4479-a452-969869de08da",
   "metadata": {},
   "outputs": [
    {
     "name": "stdout",
     "output_type": "stream",
     "text": [
      "Epoch 1/100\n",
      "300/300 [==============================] - 2s 3ms/step - loss: 1.7665 - accuracy: 0.2220 - val_loss: 1.7404 - val_accuracy: 0.2635\n",
      "Epoch 2/100\n",
      "300/300 [==============================] - 1s 2ms/step - loss: 1.7125 - accuracy: 0.3117 - val_loss: 1.6776 - val_accuracy: 0.3775\n",
      "Epoch 3/100\n",
      "300/300 [==============================] - 1s 2ms/step - loss: 1.6385 - accuracy: 0.3713 - val_loss: 1.5914 - val_accuracy: 0.3900\n",
      "Epoch 4/100\n",
      "300/300 [==============================] - 1s 2ms/step - loss: 1.5786 - accuracy: 0.3817 - val_loss: 1.5387 - val_accuracy: 0.3895\n",
      "Epoch 5/100\n",
      "300/300 [==============================] - 1s 2ms/step - loss: 1.5402 - accuracy: 0.3847 - val_loss: 1.5044 - val_accuracy: 0.3960\n",
      "Epoch 6/100\n",
      "300/300 [==============================] - 1s 2ms/step - loss: 1.5117 - accuracy: 0.3900 - val_loss: 1.4814 - val_accuracy: 0.4170\n",
      "Epoch 7/100\n",
      "300/300 [==============================] - 1s 2ms/step - loss: 1.4897 - accuracy: 0.4010 - val_loss: 1.4610 - val_accuracy: 0.4250\n",
      "Epoch 8/100\n",
      "300/300 [==============================] - 1s 2ms/step - loss: 1.4698 - accuracy: 0.4067 - val_loss: 1.4482 - val_accuracy: 0.4150\n",
      "Epoch 9/100\n",
      "300/300 [==============================] - 1s 2ms/step - loss: 1.4512 - accuracy: 0.4117 - val_loss: 1.4361 - val_accuracy: 0.4140\n",
      "Epoch 10/100\n",
      "300/300 [==============================] - 1s 2ms/step - loss: 1.4363 - accuracy: 0.4170 - val_loss: 1.4155 - val_accuracy: 0.4225\n",
      "Epoch 11/100\n",
      "300/300 [==============================] - 1s 2ms/step - loss: 1.4229 - accuracy: 0.4240 - val_loss: 1.4092 - val_accuracy: 0.4490\n",
      "Epoch 12/100\n",
      "300/300 [==============================] - 1s 2ms/step - loss: 1.4080 - accuracy: 0.4380 - val_loss: 1.3890 - val_accuracy: 0.4720\n",
      "Epoch 13/100\n",
      "300/300 [==============================] - 1s 2ms/step - loss: 1.3950 - accuracy: 0.4517 - val_loss: 1.3819 - val_accuracy: 0.4555\n",
      "Epoch 14/100\n",
      "300/300 [==============================] - 1s 2ms/step - loss: 1.3839 - accuracy: 0.4587 - val_loss: 1.3650 - val_accuracy: 0.4715\n",
      "Epoch 15/100\n",
      "300/300 [==============================] - 1s 2ms/step - loss: 1.3724 - accuracy: 0.4643 - val_loss: 1.3600 - val_accuracy: 0.4580\n",
      "Epoch 16/100\n",
      "300/300 [==============================] - 1s 2ms/step - loss: 1.3620 - accuracy: 0.4663 - val_loss: 1.3499 - val_accuracy: 0.4725\n",
      "Epoch 17/100\n",
      "300/300 [==============================] - 1s 2ms/step - loss: 1.3492 - accuracy: 0.4693 - val_loss: 1.3333 - val_accuracy: 0.4855\n",
      "Epoch 18/100\n",
      "300/300 [==============================] - 1s 2ms/step - loss: 1.3415 - accuracy: 0.4753 - val_loss: 1.3230 - val_accuracy: 0.4900\n",
      "Epoch 19/100\n",
      "300/300 [==============================] - 1s 2ms/step - loss: 1.3289 - accuracy: 0.4760 - val_loss: 1.3166 - val_accuracy: 0.4935\n",
      "Epoch 20/100\n",
      "300/300 [==============================] - 1s 2ms/step - loss: 1.3230 - accuracy: 0.4830 - val_loss: 1.3084 - val_accuracy: 0.5000\n",
      "Epoch 21/100\n",
      "300/300 [==============================] - 1s 2ms/step - loss: 1.3137 - accuracy: 0.4850 - val_loss: 1.3059 - val_accuracy: 0.5035\n",
      "Epoch 22/100\n",
      "300/300 [==============================] - 1s 2ms/step - loss: 1.3094 - accuracy: 0.4847 - val_loss: 1.2993 - val_accuracy: 0.4985\n",
      "Epoch 23/100\n",
      "300/300 [==============================] - 1s 2ms/step - loss: 1.2998 - accuracy: 0.4853 - val_loss: 1.2877 - val_accuracy: 0.4855\n",
      "Epoch 24/100\n",
      "300/300 [==============================] - 1s 2ms/step - loss: 1.2943 - accuracy: 0.4907 - val_loss: 1.2997 - val_accuracy: 0.4895\n",
      "Epoch 25/100\n",
      "300/300 [==============================] - 1s 2ms/step - loss: 1.2870 - accuracy: 0.4897 - val_loss: 1.2878 - val_accuracy: 0.4885\n",
      "Epoch 26/100\n",
      "300/300 [==============================] - 1s 2ms/step - loss: 1.2819 - accuracy: 0.4860 - val_loss: 1.2715 - val_accuracy: 0.5115\n",
      "Epoch 27/100\n",
      "300/300 [==============================] - 1s 2ms/step - loss: 1.2771 - accuracy: 0.4930 - val_loss: 1.2844 - val_accuracy: 0.4980\n",
      "Epoch 28/100\n",
      "300/300 [==============================] - 1s 2ms/step - loss: 1.2726 - accuracy: 0.5003 - val_loss: 1.2704 - val_accuracy: 0.5105\n",
      "Epoch 29/100\n",
      "300/300 [==============================] - 1s 2ms/step - loss: 1.2671 - accuracy: 0.5030 - val_loss: 1.2631 - val_accuracy: 0.5090\n",
      "Epoch 30/100\n",
      "300/300 [==============================] - 1s 2ms/step - loss: 1.2645 - accuracy: 0.4943 - val_loss: 1.2565 - val_accuracy: 0.5285\n",
      "Epoch 31/100\n",
      "300/300 [==============================] - 1s 2ms/step - loss: 1.2623 - accuracy: 0.5033 - val_loss: 1.2520 - val_accuracy: 0.5315\n",
      "Epoch 32/100\n",
      "300/300 [==============================] - 1s 2ms/step - loss: 1.2562 - accuracy: 0.5003 - val_loss: 1.2513 - val_accuracy: 0.5260\n",
      "Epoch 33/100\n",
      "300/300 [==============================] - 1s 2ms/step - loss: 1.2521 - accuracy: 0.5020 - val_loss: 1.2574 - val_accuracy: 0.5090\n",
      "Epoch 34/100\n",
      "300/300 [==============================] - 1s 3ms/step - loss: 1.2510 - accuracy: 0.5097 - val_loss: 1.2451 - val_accuracy: 0.5270\n",
      "Epoch 35/100\n",
      "300/300 [==============================] - 1s 3ms/step - loss: 1.2462 - accuracy: 0.5117 - val_loss: 1.2392 - val_accuracy: 0.5270\n",
      "Epoch 36/100\n",
      "300/300 [==============================] - 1s 3ms/step - loss: 1.2436 - accuracy: 0.5050 - val_loss: 1.2421 - val_accuracy: 0.5265\n",
      "Epoch 37/100\n",
      "300/300 [==============================] - 1s 2ms/step - loss: 1.2408 - accuracy: 0.5073 - val_loss: 1.2435 - val_accuracy: 0.5245\n",
      "Epoch 38/100\n",
      "300/300 [==============================] - 1s 2ms/step - loss: 1.2378 - accuracy: 0.5147 - val_loss: 1.2535 - val_accuracy: 0.5215\n",
      "Epoch 39/100\n",
      "300/300 [==============================] - 1s 2ms/step - loss: 1.2388 - accuracy: 0.5103 - val_loss: 1.2318 - val_accuracy: 0.5130\n",
      "Epoch 40/100\n",
      "300/300 [==============================] - 1s 3ms/step - loss: 1.2339 - accuracy: 0.5117 - val_loss: 1.2310 - val_accuracy: 0.5285\n",
      "Epoch 41/100\n",
      "300/300 [==============================] - 1s 2ms/step - loss: 1.2305 - accuracy: 0.5157 - val_loss: 1.2316 - val_accuracy: 0.5300\n",
      "Epoch 42/100\n",
      "300/300 [==============================] - 1s 2ms/step - loss: 1.2319 - accuracy: 0.5223 - val_loss: 1.2272 - val_accuracy: 0.5310\n",
      "Epoch 43/100\n",
      "300/300 [==============================] - 1s 2ms/step - loss: 1.2276 - accuracy: 0.5130 - val_loss: 1.2224 - val_accuracy: 0.5330\n",
      "Epoch 44/100\n",
      "300/300 [==============================] - 1s 2ms/step - loss: 1.2304 - accuracy: 0.5197 - val_loss: 1.2226 - val_accuracy: 0.5335\n",
      "Epoch 45/100\n",
      "300/300 [==============================] - 1s 2ms/step - loss: 1.2262 - accuracy: 0.5167 - val_loss: 1.2182 - val_accuracy: 0.5320\n",
      "Epoch 46/100\n",
      "300/300 [==============================] - 1s 2ms/step - loss: 1.2206 - accuracy: 0.5253 - val_loss: 1.2212 - val_accuracy: 0.5450\n",
      "Epoch 47/100\n",
      "300/300 [==============================] - 1s 2ms/step - loss: 1.2204 - accuracy: 0.5237 - val_loss: 1.2258 - val_accuracy: 0.5285\n",
      "Epoch 48/100\n",
      "300/300 [==============================] - 1s 2ms/step - loss: 1.2180 - accuracy: 0.5170 - val_loss: 1.2149 - val_accuracy: 0.5395\n",
      "Epoch 49/100\n",
      "300/300 [==============================] - 1s 2ms/step - loss: 1.2177 - accuracy: 0.5213 - val_loss: 1.2179 - val_accuracy: 0.5350\n",
      "Epoch 50/100\n",
      "300/300 [==============================] - 1s 2ms/step - loss: 1.2151 - accuracy: 0.5240 - val_loss: 1.2120 - val_accuracy: 0.5390\n",
      "Epoch 51/100\n",
      "300/300 [==============================] - 1s 2ms/step - loss: 1.2124 - accuracy: 0.5190 - val_loss: 1.2103 - val_accuracy: 0.5350\n",
      "Epoch 52/100\n",
      "300/300 [==============================] - 1s 2ms/step - loss: 1.2082 - accuracy: 0.5240 - val_loss: 1.2128 - val_accuracy: 0.5415\n",
      "Epoch 53/100\n",
      "300/300 [==============================] - 1s 2ms/step - loss: 1.2094 - accuracy: 0.5210 - val_loss: 1.2049 - val_accuracy: 0.5440\n",
      "Epoch 54/100\n",
      "300/300 [==============================] - 1s 2ms/step - loss: 1.2049 - accuracy: 0.5247 - val_loss: 1.2068 - val_accuracy: 0.5305\n",
      "Epoch 55/100\n",
      "300/300 [==============================] - 1s 2ms/step - loss: 1.2050 - accuracy: 0.5223 - val_loss: 1.2061 - val_accuracy: 0.5410\n",
      "Epoch 56/100\n",
      "300/300 [==============================] - 1s 2ms/step - loss: 1.2013 - accuracy: 0.5233 - val_loss: 1.2014 - val_accuracy: 0.5390\n",
      "Epoch 57/100\n",
      "300/300 [==============================] - 1s 2ms/step - loss: 1.2002 - accuracy: 0.5297 - val_loss: 1.1984 - val_accuracy: 0.5405\n",
      "Epoch 58/100\n",
      "300/300 [==============================] - 1s 2ms/step - loss: 1.1946 - accuracy: 0.5253 - val_loss: 1.2008 - val_accuracy: 0.5465\n",
      "Epoch 59/100\n",
      "300/300 [==============================] - 1s 2ms/step - loss: 1.1978 - accuracy: 0.5270 - val_loss: 1.2002 - val_accuracy: 0.5480\n",
      "Epoch 60/100\n",
      "300/300 [==============================] - 1s 2ms/step - loss: 1.1948 - accuracy: 0.5300 - val_loss: 1.1952 - val_accuracy: 0.5425\n",
      "Epoch 61/100\n",
      "300/300 [==============================] - 1s 2ms/step - loss: 1.1938 - accuracy: 0.5293 - val_loss: 1.1966 - val_accuracy: 0.5395\n",
      "Epoch 62/100\n",
      "300/300 [==============================] - 1s 2ms/step - loss: 1.1873 - accuracy: 0.5327 - val_loss: 1.2032 - val_accuracy: 0.5315\n",
      "Epoch 63/100\n",
      "300/300 [==============================] - 1s 2ms/step - loss: 1.1867 - accuracy: 0.5347 - val_loss: 1.1963 - val_accuracy: 0.5365\n",
      "Epoch 64/100\n",
      "300/300 [==============================] - 1s 2ms/step - loss: 1.1874 - accuracy: 0.5307 - val_loss: 1.2029 - val_accuracy: 0.5455\n",
      "Epoch 65/100\n",
      "300/300 [==============================] - 1s 2ms/step - loss: 1.1848 - accuracy: 0.5377 - val_loss: 1.1904 - val_accuracy: 0.5450\n",
      "Epoch 66/100\n",
      "300/300 [==============================] - 1s 3ms/step - loss: 1.1826 - accuracy: 0.5320 - val_loss: 1.1937 - val_accuracy: 0.5530\n",
      "Epoch 67/100\n",
      "300/300 [==============================] - 1s 2ms/step - loss: 1.1805 - accuracy: 0.5343 - val_loss: 1.1851 - val_accuracy: 0.5545\n",
      "Epoch 68/100\n",
      "300/300 [==============================] - 1s 2ms/step - loss: 1.1768 - accuracy: 0.5323 - val_loss: 1.1873 - val_accuracy: 0.5570\n",
      "Epoch 69/100\n",
      "300/300 [==============================] - 1s 2ms/step - loss: 1.1764 - accuracy: 0.5350 - val_loss: 1.2055 - val_accuracy: 0.5415\n",
      "Epoch 70/100\n",
      "300/300 [==============================] - 1s 2ms/step - loss: 1.1735 - accuracy: 0.5377 - val_loss: 1.1782 - val_accuracy: 0.5605\n",
      "Epoch 71/100\n",
      "300/300 [==============================] - 1s 2ms/step - loss: 1.1715 - accuracy: 0.5477 - val_loss: 1.1817 - val_accuracy: 0.5570\n",
      "Epoch 72/100\n",
      "300/300 [==============================] - 1s 2ms/step - loss: 1.1692 - accuracy: 0.5373 - val_loss: 1.1821 - val_accuracy: 0.5545\n",
      "Epoch 73/100\n",
      "300/300 [==============================] - 1s 2ms/step - loss: 1.1698 - accuracy: 0.5407 - val_loss: 1.1740 - val_accuracy: 0.5580\n",
      "Epoch 74/100\n",
      "300/300 [==============================] - 1s 2ms/step - loss: 1.1656 - accuracy: 0.5400 - val_loss: 1.1729 - val_accuracy: 0.5595\n",
      "Epoch 75/100\n",
      "300/300 [==============================] - 1s 2ms/step - loss: 1.1667 - accuracy: 0.5417 - val_loss: 1.1820 - val_accuracy: 0.5630\n",
      "Epoch 76/100\n",
      "300/300 [==============================] - 1s 2ms/step - loss: 1.1619 - accuracy: 0.5357 - val_loss: 1.1673 - val_accuracy: 0.5680\n",
      "Epoch 77/100\n",
      "300/300 [==============================] - 1s 2ms/step - loss: 1.1594 - accuracy: 0.5440 - val_loss: 1.1787 - val_accuracy: 0.5590\n",
      "Epoch 78/100\n",
      "300/300 [==============================] - 1s 2ms/step - loss: 1.1575 - accuracy: 0.5473 - val_loss: 1.1619 - val_accuracy: 0.5610\n",
      "Epoch 79/100\n",
      "300/300 [==============================] - 1s 2ms/step - loss: 1.1574 - accuracy: 0.5440 - val_loss: 1.1703 - val_accuracy: 0.5710\n",
      "Epoch 80/100\n",
      "300/300 [==============================] - 1s 2ms/step - loss: 1.1564 - accuracy: 0.5447 - val_loss: 1.1677 - val_accuracy: 0.5660\n",
      "Epoch 81/100\n",
      "300/300 [==============================] - 1s 2ms/step - loss: 1.1499 - accuracy: 0.5493 - val_loss: 1.1549 - val_accuracy: 0.5660\n",
      "Epoch 82/100\n",
      "300/300 [==============================] - 1s 2ms/step - loss: 1.1494 - accuracy: 0.5487 - val_loss: 1.1576 - val_accuracy: 0.5645\n",
      "Epoch 83/100\n",
      "300/300 [==============================] - 1s 2ms/step - loss: 1.1454 - accuracy: 0.5470 - val_loss: 1.1530 - val_accuracy: 0.5660\n",
      "Epoch 84/100\n",
      "300/300 [==============================] - 1s 2ms/step - loss: 1.1474 - accuracy: 0.5423 - val_loss: 1.1550 - val_accuracy: 0.5635\n",
      "Epoch 85/100\n",
      "300/300 [==============================] - 1s 2ms/step - loss: 1.1433 - accuracy: 0.5517 - val_loss: 1.1496 - val_accuracy: 0.5755\n",
      "Epoch 86/100\n",
      "300/300 [==============================] - 1s 2ms/step - loss: 1.1387 - accuracy: 0.5547 - val_loss: 1.1444 - val_accuracy: 0.5680\n",
      "Epoch 87/100\n",
      "300/300 [==============================] - 1s 2ms/step - loss: 1.1394 - accuracy: 0.5580 - val_loss: 1.1438 - val_accuracy: 0.5805\n",
      "Epoch 88/100\n",
      "300/300 [==============================] - 1s 2ms/step - loss: 1.1351 - accuracy: 0.5503 - val_loss: 1.1411 - val_accuracy: 0.5685\n",
      "Epoch 89/100\n",
      "300/300 [==============================] - 1s 2ms/step - loss: 1.1353 - accuracy: 0.5533 - val_loss: 1.1453 - val_accuracy: 0.5670\n",
      "Epoch 90/100\n",
      "300/300 [==============================] - 1s 2ms/step - loss: 1.1279 - accuracy: 0.5583 - val_loss: 1.1495 - val_accuracy: 0.5655\n",
      "Epoch 91/100\n",
      "300/300 [==============================] - 1s 2ms/step - loss: 1.1303 - accuracy: 0.5530 - val_loss: 1.1430 - val_accuracy: 0.5680\n",
      "Epoch 92/100\n",
      "300/300 [==============================] - 1s 2ms/step - loss: 1.1323 - accuracy: 0.5533 - val_loss: 1.1516 - val_accuracy: 0.5655\n",
      "Epoch 93/100\n",
      "300/300 [==============================] - 1s 2ms/step - loss: 1.1248 - accuracy: 0.5557 - val_loss: 1.1466 - val_accuracy: 0.5640\n",
      "Epoch 94/100\n",
      "300/300 [==============================] - 1s 2ms/step - loss: 1.1289 - accuracy: 0.5653 - val_loss: 1.1337 - val_accuracy: 0.5725\n",
      "Epoch 95/100\n",
      "300/300 [==============================] - 1s 2ms/step - loss: 1.1206 - accuracy: 0.5657 - val_loss: 1.1405 - val_accuracy: 0.5740\n",
      "Epoch 96/100\n",
      "300/300 [==============================] - 1s 2ms/step - loss: 1.1231 - accuracy: 0.5573 - val_loss: 1.1241 - val_accuracy: 0.5810\n",
      "Epoch 97/100\n",
      "300/300 [==============================] - 1s 2ms/step - loss: 1.1170 - accuracy: 0.5637 - val_loss: 1.1244 - val_accuracy: 0.5890\n",
      "Epoch 98/100\n",
      "300/300 [==============================] - 1s 2ms/step - loss: 1.1162 - accuracy: 0.5670 - val_loss: 1.1335 - val_accuracy: 0.5860\n",
      "Epoch 99/100\n",
      "300/300 [==============================] - 1s 2ms/step - loss: 1.1180 - accuracy: 0.5657 - val_loss: 1.1271 - val_accuracy: 0.5920\n",
      "Epoch 100/100\n",
      "300/300 [==============================] - 1s 2ms/step - loss: 1.1178 - accuracy: 0.5640 - val_loss: 1.1363 - val_accuracy: 0.5760\n"
     ]
    }
   ],
   "source": [
    "history=model.fit(band_train, \n",
    "                  y_train, \n",
    "                  validation_data = (band_test, y_test), \n",
    "                  epochs = 100, batch_size = 10)"
   ]
  },
  {
   "cell_type": "code",
   "execution_count": 46,
   "id": "96a13de0-2778-4eba-9fd1-a395b3489354",
   "metadata": {},
   "outputs": [
    {
     "data": {
      "text/plain": [
       "<matplotlib.legend.Legend at 0x7f4f23f9c8e0>"
      ]
     },
     "execution_count": 46,
     "metadata": {},
     "output_type": "execute_result"
    },
    {
     "data": {
      "image/png": "[encoded data removed]",
      "text/plain": [
       "<Figure size 432x288 with 1 Axes>"
      ]
     },
     "metadata": {
      "needs_background": "light"
     },
     "output_type": "display_data"
    }
   ],
   "source": [
    "plt.plot(range(len(history.history[\"loss\"])), history.history[\"loss\"], label = \"Training Loss\")\n",
    "plt.plot(range(len(history.history[\"val_loss\"])), history.history[\"val_loss\"], label = \"Validation Loss\")\n",
    "plt.legend()"
   ]
  },
  {
   "cell_type": "code",
   "execution_count": 47,
   "id": "c4376111",
   "metadata": {},
   "outputs": [
    {
     "data": {
      "text/plain": [
       "<matplotlib.legend.Legend at 0x7f4f23f54d90>"
      ]
     },
     "execution_count": 47,
     "metadata": {},
     "output_type": "execute_result"
    },
    {
     "data": {
      "image/png": "[encoded data removed]",
      "text/plain": [
       "<Figure size 432x288 with 1 Axes>"
      ]
     },
     "metadata": {
      "needs_background": "light"
     },
     "output_type": "display_data"
    }
   ],
   "source": [
    "plt.plot(range(len(history.history[\"accuracy\"])), history.history[\"accuracy\"], label = \"Training accuracy\")\n",
    "plt.plot(range(len(history.history[\"val_accuracy\"])), history.history[\"val_accuracy\"], label = \"Validation accuracy\")\n",
    "plt.legend()"
   ]
  },
  {
   "cell_type": "markdown",
   "id": "01f21c32",
   "metadata": {},
   "source": [
    "### First Model with Hjorth Features"
   ]
  },
  {
   "cell_type": "code",
   "execution_count": 55,
   "id": "46c7d93e",
   "metadata": {},
   "outputs": [],
   "source": [
    "hjorth_train, hjorth_test, y_train, y_test = train_test_split(hjorth_df, target, test_size = 0.4)"
   ]
  },
  {
   "cell_type": "code",
   "execution_count": 56,
   "id": "097a0c02",
   "metadata": {},
   "outputs": [],
   "source": [
    "y_train = pd.DataFrame(y_train).reset_index()\n",
    "y_test = pd.DataFrame(y_test).reset_index()"
   ]
  },
  {
   "cell_type": "code",
   "execution_count": 57,
   "id": "dba78b04",
   "metadata": {},
   "outputs": [],
   "source": [
    "y_train = y_train.drop(columns = 'index')\n",
    "y_test = y_test.drop(columns = 'index')"
   ]
  },
  {
   "cell_type": "code",
   "execution_count": 59,
   "id": "2fa77660",
   "metadata": {},
   "outputs": [
    {
     "name": "stdout",
     "output_type": "stream",
     "text": [
      "Model: \"model_2\"\n",
      "_________________________________________________________________\n",
      " Layer (type)                Output Shape              Param #   \n",
      "=================================================================\n",
      " input_3 (InputLayer)        [(None, 16)]              0         \n",
      "                                                                 \n",
      " dense_8 (Dense)             (None, 12)                204       \n",
      "                                                                 \n",
      " dense_9 (Dense)             (None, 8)                 104       \n",
      "                                                                 \n",
      " dense_10 (Dense)            (None, 8)                 72        \n",
      "                                                                 \n",
      " dense_11 (Dense)            (None, 6)                 54        \n",
      "                                                                 \n",
      "=================================================================\n",
      "Total params: 434\n",
      "Trainable params: 434\n",
      "Non-trainable params: 0\n",
      "_________________________________________________________________\n"
     ]
    }
   ],
   "source": [
    "in_x = Input(shape = hjorth_train.shape[1:])\n",
    "x = Dense(12, input_dim = hjorth_train.shape[1], activation = 'relu')(in_x)\n",
    "x = Dense(8, activation = 'relu')(x)\n",
    "x = Dense(8, activation = 'relu')(x)\n",
    "out_x = Dense(6, activation = 'softmax')(x)\n",
    "\n",
    "model2 = Model(in_x, out_x)\n",
    "\n",
    "model2.summary()"
   ]
  },
  {
   "cell_type": "code",
   "execution_count": 60,
   "id": "129d2484",
   "metadata": {},
   "outputs": [],
   "source": [
    "model2.compile(loss = 'categorical_crossentropy', optimizer = 'adam', metrics = ['accuracy'])"
   ]
  },
  {
   "cell_type": "code",
   "execution_count": 62,
   "id": "3621b1f7",
   "metadata": {},
   "outputs": [
    {
     "name": "stdout",
     "output_type": "stream",
     "text": [
      "Epoch 1/100\n",
      "300/300 [==============================] - 2s 3ms/step - loss: 1.9375 - accuracy: 0.2653 - val_loss: 1.7630 - val_accuracy: 0.3785\n",
      "Epoch 2/100\n",
      "300/300 [==============================] - 1s 2ms/step - loss: 1.7013 - accuracy: 0.3793 - val_loss: 1.6690 - val_accuracy: 0.3850\n",
      "Epoch 3/100\n",
      "300/300 [==============================] - 1s 3ms/step - loss: 1.6157 - accuracy: 0.3890 - val_loss: 1.6069 - val_accuracy: 0.3970\n",
      "Epoch 4/100\n",
      "300/300 [==============================] - 1s 2ms/step - loss: 1.5617 - accuracy: 0.4000 - val_loss: 1.5542 - val_accuracy: 0.4070\n",
      "Epoch 5/100\n",
      "300/300 [==============================] - 1s 2ms/step - loss: 1.5148 - accuracy: 0.4027 - val_loss: 1.5079 - val_accuracy: 0.4145\n",
      "Epoch 6/100\n",
      "300/300 [==============================] - 1s 2ms/step - loss: 1.4794 - accuracy: 0.4197 - val_loss: 1.4758 - val_accuracy: 0.4255\n",
      "Epoch 7/100\n",
      "300/300 [==============================] - 1s 2ms/step - loss: 1.4430 - accuracy: 0.4313 - val_loss: 1.4451 - val_accuracy: 0.4510\n",
      "Epoch 8/100\n",
      "300/300 [==============================] - 1s 2ms/step - loss: 1.4117 - accuracy: 0.4557 - val_loss: 1.4058 - val_accuracy: 0.4600\n",
      "Epoch 9/100\n",
      "300/300 [==============================] - 1s 2ms/step - loss: 1.3786 - accuracy: 0.4657 - val_loss: 1.3753 - val_accuracy: 0.4730\n",
      "Epoch 10/100\n",
      "300/300 [==============================] - 1s 2ms/step - loss: 1.3516 - accuracy: 0.4830 - val_loss: 1.3608 - val_accuracy: 0.4825\n",
      "Epoch 11/100\n",
      "300/300 [==============================] - 1s 2ms/step - loss: 1.3340 - accuracy: 0.4893 - val_loss: 1.3344 - val_accuracy: 0.4895\n",
      "Epoch 12/100\n",
      "300/300 [==============================] - 1s 2ms/step - loss: 1.3086 - accuracy: 0.4937 - val_loss: 1.3285 - val_accuracy: 0.4830\n",
      "Epoch 13/100\n",
      "300/300 [==============================] - 1s 2ms/step - loss: 1.2923 - accuracy: 0.5027 - val_loss: 1.3016 - val_accuracy: 0.5035\n",
      "Epoch 14/100\n",
      "300/300 [==============================] - 1s 2ms/step - loss: 1.2803 - accuracy: 0.4967 - val_loss: 1.2891 - val_accuracy: 0.5020\n",
      "Epoch 15/100\n",
      "300/300 [==============================] - 1s 2ms/step - loss: 1.2675 - accuracy: 0.5013 - val_loss: 1.2808 - val_accuracy: 0.4980\n",
      "Epoch 16/100\n",
      "300/300 [==============================] - 1s 2ms/step - loss: 1.2510 - accuracy: 0.5083 - val_loss: 1.2720 - val_accuracy: 0.5085\n",
      "Epoch 17/100\n",
      "300/300 [==============================] - 1s 2ms/step - loss: 1.2386 - accuracy: 0.5180 - val_loss: 1.2628 - val_accuracy: 0.5000\n",
      "Epoch 18/100\n",
      "300/300 [==============================] - 1s 3ms/step - loss: 1.2317 - accuracy: 0.5190 - val_loss: 1.2570 - val_accuracy: 0.5115\n",
      "Epoch 19/100\n",
      "300/300 [==============================] - 1s 3ms/step - loss: 1.2226 - accuracy: 0.5213 - val_loss: 1.2463 - val_accuracy: 0.5170\n",
      "Epoch 20/100\n",
      "300/300 [==============================] - 1s 3ms/step - loss: 1.2117 - accuracy: 0.5187 - val_loss: 1.2398 - val_accuracy: 0.5145\n",
      "Epoch 21/100\n",
      "300/300 [==============================] - 1s 2ms/step - loss: 1.2053 - accuracy: 0.5233 - val_loss: 1.2425 - val_accuracy: 0.5150\n",
      "Epoch 22/100\n",
      "300/300 [==============================] - 1s 2ms/step - loss: 1.1910 - accuracy: 0.5353 - val_loss: 1.2356 - val_accuracy: 0.5245\n",
      "Epoch 23/100\n",
      "300/300 [==============================] - 1s 2ms/step - loss: 1.1893 - accuracy: 0.5333 - val_loss: 1.2200 - val_accuracy: 0.5420\n",
      "Epoch 24/100\n",
      "300/300 [==============================] - 1s 2ms/step - loss: 1.1784 - accuracy: 0.5397 - val_loss: 1.2175 - val_accuracy: 0.5360\n",
      "Epoch 25/100\n",
      "300/300 [==============================] - 1s 2ms/step - loss: 1.1686 - accuracy: 0.5493 - val_loss: 1.2083 - val_accuracy: 0.5415\n",
      "Epoch 26/100\n",
      "300/300 [==============================] - 1s 2ms/step - loss: 1.1569 - accuracy: 0.5517 - val_loss: 1.1955 - val_accuracy: 0.5320\n",
      "Epoch 27/100\n",
      "300/300 [==============================] - 1s 2ms/step - loss: 1.1480 - accuracy: 0.5563 - val_loss: 1.1931 - val_accuracy: 0.5515\n",
      "Epoch 28/100\n",
      "300/300 [==============================] - 1s 2ms/step - loss: 1.1430 - accuracy: 0.5597 - val_loss: 1.1827 - val_accuracy: 0.5435\n",
      "Epoch 29/100\n",
      "300/300 [==============================] - 1s 2ms/step - loss: 1.1269 - accuracy: 0.5667 - val_loss: 1.1828 - val_accuracy: 0.5595\n",
      "Epoch 30/100\n",
      "300/300 [==============================] - 1s 2ms/step - loss: 1.1230 - accuracy: 0.5653 - val_loss: 1.1791 - val_accuracy: 0.5650\n",
      "Epoch 31/100\n",
      "300/300 [==============================] - 1s 2ms/step - loss: 1.1133 - accuracy: 0.5730 - val_loss: 1.1753 - val_accuracy: 0.5655\n",
      "Epoch 32/100\n",
      "300/300 [==============================] - 1s 2ms/step - loss: 1.1092 - accuracy: 0.5767 - val_loss: 1.1723 - val_accuracy: 0.5675\n",
      "Epoch 33/100\n",
      "300/300 [==============================] - 1s 2ms/step - loss: 1.0983 - accuracy: 0.5850 - val_loss: 1.1645 - val_accuracy: 0.5540\n",
      "Epoch 34/100\n",
      "300/300 [==============================] - 1s 2ms/step - loss: 1.0937 - accuracy: 0.5763 - val_loss: 1.1653 - val_accuracy: 0.5630\n",
      "Epoch 35/100\n",
      "300/300 [==============================] - 1s 2ms/step - loss: 1.0907 - accuracy: 0.5790 - val_loss: 1.1523 - val_accuracy: 0.5670\n",
      "Epoch 36/100\n",
      "300/300 [==============================] - 1s 2ms/step - loss: 1.0819 - accuracy: 0.5800 - val_loss: 1.1608 - val_accuracy: 0.5580\n",
      "Epoch 37/100\n",
      "300/300 [==============================] - 1s 2ms/step - loss: 1.0816 - accuracy: 0.5787 - val_loss: 1.1502 - val_accuracy: 0.5700\n",
      "Epoch 38/100\n",
      "300/300 [==============================] - 1s 2ms/step - loss: 1.0757 - accuracy: 0.5833 - val_loss: 1.1499 - val_accuracy: 0.5670\n",
      "Epoch 39/100\n",
      "300/300 [==============================] - 1s 2ms/step - loss: 1.0736 - accuracy: 0.5810 - val_loss: 1.1396 - val_accuracy: 0.5760\n",
      "Epoch 40/100\n",
      "300/300 [==============================] - 1s 2ms/step - loss: 1.0649 - accuracy: 0.5953 - val_loss: 1.1621 - val_accuracy: 0.5695\n",
      "Epoch 41/100\n",
      "300/300 [==============================] - 1s 2ms/step - loss: 1.0623 - accuracy: 0.5950 - val_loss: 1.1736 - val_accuracy: 0.5625\n",
      "Epoch 42/100\n",
      "300/300 [==============================] - 1s 2ms/step - loss: 1.0580 - accuracy: 0.5913 - val_loss: 1.1653 - val_accuracy: 0.5695\n",
      "Epoch 43/100\n",
      "300/300 [==============================] - 1s 2ms/step - loss: 1.0546 - accuracy: 0.5903 - val_loss: 1.1527 - val_accuracy: 0.5690\n",
      "Epoch 44/100\n",
      "300/300 [==============================] - 1s 2ms/step - loss: 1.0552 - accuracy: 0.5920 - val_loss: 1.1337 - val_accuracy: 0.5630\n",
      "Epoch 45/100\n",
      "300/300 [==============================] - 1s 2ms/step - loss: 1.0487 - accuracy: 0.5983 - val_loss: 1.1488 - val_accuracy: 0.5715\n",
      "Epoch 46/100\n",
      "300/300 [==============================] - 1s 2ms/step - loss: 1.0426 - accuracy: 0.5997 - val_loss: 1.1358 - val_accuracy: 0.5765\n",
      "Epoch 47/100\n",
      "300/300 [==============================] - 1s 4ms/step - loss: 1.0396 - accuracy: 0.5997 - val_loss: 1.1419 - val_accuracy: 0.5730\n",
      "Epoch 48/100\n",
      "300/300 [==============================] - 1s 3ms/step - loss: 1.0372 - accuracy: 0.6043 - val_loss: 1.1331 - val_accuracy: 0.5770\n",
      "Epoch 49/100\n",
      "300/300 [==============================] - 1s 2ms/step - loss: 1.0350 - accuracy: 0.6057 - val_loss: 1.1292 - val_accuracy: 0.5835\n",
      "Epoch 50/100\n",
      "300/300 [==============================] - 1s 2ms/step - loss: 1.0294 - accuracy: 0.6090 - val_loss: 1.1308 - val_accuracy: 0.5675\n",
      "Epoch 51/100\n",
      "300/300 [==============================] - 1s 2ms/step - loss: 1.0258 - accuracy: 0.5993 - val_loss: 1.1342 - val_accuracy: 0.5745\n",
      "Epoch 52/100\n",
      "300/300 [==============================] - 1s 3ms/step - loss: 1.0249 - accuracy: 0.6113 - val_loss: 1.1337 - val_accuracy: 0.5730\n",
      "Epoch 53/100\n",
      "300/300 [==============================] - 1s 3ms/step - loss: 1.0239 - accuracy: 0.6077 - val_loss: 1.1260 - val_accuracy: 0.5880\n",
      "Epoch 54/100\n",
      "300/300 [==============================] - 1s 3ms/step - loss: 1.0188 - accuracy: 0.6127 - val_loss: 1.1222 - val_accuracy: 0.5825\n",
      "Epoch 55/100\n",
      "300/300 [==============================] - 1s 3ms/step - loss: 1.0150 - accuracy: 0.6100 - val_loss: 1.1179 - val_accuracy: 0.5855\n",
      "Epoch 56/100\n",
      "300/300 [==============================] - 1s 3ms/step - loss: 1.0142 - accuracy: 0.6120 - val_loss: 1.1165 - val_accuracy: 0.5920\n",
      "Epoch 57/100\n",
      "300/300 [==============================] - 1s 3ms/step - loss: 1.0103 - accuracy: 0.6173 - val_loss: 1.1247 - val_accuracy: 0.5845\n",
      "Epoch 58/100\n",
      "300/300 [==============================] - 1s 3ms/step - loss: 1.0050 - accuracy: 0.6140 - val_loss: 1.1191 - val_accuracy: 0.5950\n",
      "Epoch 59/100\n",
      "300/300 [==============================] - 1s 3ms/step - loss: 1.0025 - accuracy: 0.6120 - val_loss: 1.1177 - val_accuracy: 0.5890\n",
      "Epoch 60/100\n",
      "300/300 [==============================] - 1s 3ms/step - loss: 1.0008 - accuracy: 0.6200 - val_loss: 1.1203 - val_accuracy: 0.5890\n",
      "Epoch 61/100\n",
      "300/300 [==============================] - 1s 3ms/step - loss: 0.9972 - accuracy: 0.6210 - val_loss: 1.1254 - val_accuracy: 0.5815\n",
      "Epoch 62/100\n",
      "300/300 [==============================] - 1s 3ms/step - loss: 0.9993 - accuracy: 0.6177 - val_loss: 1.1301 - val_accuracy: 0.5925\n",
      "Epoch 63/100\n",
      "300/300 [==============================] - 1s 3ms/step - loss: 0.9965 - accuracy: 0.6183 - val_loss: 1.1095 - val_accuracy: 0.5925\n",
      "Epoch 64/100\n",
      "300/300 [==============================] - 1s 3ms/step - loss: 0.9942 - accuracy: 0.6173 - val_loss: 1.1122 - val_accuracy: 0.5910\n",
      "Epoch 65/100\n",
      "300/300 [==============================] - 1s 3ms/step - loss: 0.9897 - accuracy: 0.6273 - val_loss: 1.1219 - val_accuracy: 0.5865\n",
      "Epoch 66/100\n",
      "300/300 [==============================] - 1s 3ms/step - loss: 0.9856 - accuracy: 0.6240 - val_loss: 1.1155 - val_accuracy: 0.5950\n",
      "Epoch 67/100\n",
      "300/300 [==============================] - 1s 3ms/step - loss: 0.9881 - accuracy: 0.6233 - val_loss: 1.1354 - val_accuracy: 0.5820\n",
      "Epoch 68/100\n",
      "300/300 [==============================] - 1s 3ms/step - loss: 0.9980 - accuracy: 0.6140 - val_loss: 1.1264 - val_accuracy: 0.5910\n",
      "Epoch 69/100\n",
      "300/300 [==============================] - 1s 3ms/step - loss: 0.9858 - accuracy: 0.6210 - val_loss: 1.1237 - val_accuracy: 0.5855\n",
      "Epoch 70/100\n",
      "300/300 [==============================] - 1s 3ms/step - loss: 0.9834 - accuracy: 0.6230 - val_loss: 1.1126 - val_accuracy: 0.5985\n",
      "Epoch 71/100\n",
      "300/300 [==============================] - 1s 3ms/step - loss: 0.9751 - accuracy: 0.6247 - val_loss: 1.1314 - val_accuracy: 0.5820\n",
      "Epoch 72/100\n",
      "300/300 [==============================] - 1s 3ms/step - loss: 0.9782 - accuracy: 0.6267 - val_loss: 1.1123 - val_accuracy: 0.5875\n",
      "Epoch 73/100\n",
      "300/300 [==============================] - 1s 3ms/step - loss: 0.9734 - accuracy: 0.6277 - val_loss: 1.1072 - val_accuracy: 0.5960\n",
      "Epoch 74/100\n",
      "300/300 [==============================] - 1s 3ms/step - loss: 0.9748 - accuracy: 0.6330 - val_loss: 1.1028 - val_accuracy: 0.5990\n",
      "Epoch 75/100\n",
      "300/300 [==============================] - 1s 3ms/step - loss: 0.9841 - accuracy: 0.6220 - val_loss: 1.1108 - val_accuracy: 0.5905\n",
      "Epoch 76/100\n",
      "300/300 [==============================] - 1s 3ms/step - loss: 0.9711 - accuracy: 0.6213 - val_loss: 1.1071 - val_accuracy: 0.5965\n",
      "Epoch 77/100\n",
      "300/300 [==============================] - 1s 3ms/step - loss: 0.9751 - accuracy: 0.6193 - val_loss: 1.1134 - val_accuracy: 0.5850\n",
      "Epoch 78/100\n",
      "300/300 [==============================] - 1s 3ms/step - loss: 0.9728 - accuracy: 0.6313 - val_loss: 1.1010 - val_accuracy: 0.5955\n",
      "Epoch 79/100\n",
      "300/300 [==============================] - 1s 3ms/step - loss: 0.9680 - accuracy: 0.6330 - val_loss: 1.1050 - val_accuracy: 0.5945\n",
      "Epoch 80/100\n",
      "300/300 [==============================] - 1s 3ms/step - loss: 0.9663 - accuracy: 0.6310 - val_loss: 1.1152 - val_accuracy: 0.6030\n",
      "Epoch 81/100\n",
      "300/300 [==============================] - 1s 3ms/step - loss: 0.9629 - accuracy: 0.6313 - val_loss: 1.1147 - val_accuracy: 0.5920\n",
      "Epoch 82/100\n",
      "300/300 [==============================] - 1s 3ms/step - loss: 0.9633 - accuracy: 0.6327 - val_loss: 1.0977 - val_accuracy: 0.5930\n",
      "Epoch 83/100\n",
      "300/300 [==============================] - 1s 3ms/step - loss: 0.9628 - accuracy: 0.6290 - val_loss: 1.1062 - val_accuracy: 0.5990\n",
      "Epoch 84/100\n",
      "300/300 [==============================] - 1s 3ms/step - loss: 0.9605 - accuracy: 0.6357 - val_loss: 1.1043 - val_accuracy: 0.5905\n",
      "Epoch 85/100\n",
      "300/300 [==============================] - 1s 3ms/step - loss: 0.9732 - accuracy: 0.6307 - val_loss: 1.1305 - val_accuracy: 0.5925\n",
      "Epoch 86/100\n",
      "300/300 [==============================] - 1s 3ms/step - loss: 0.9662 - accuracy: 0.6317 - val_loss: 1.0977 - val_accuracy: 0.6005\n",
      "Epoch 87/100\n",
      "300/300 [==============================] - 1s 3ms/step - loss: 0.9551 - accuracy: 0.6330 - val_loss: 1.1090 - val_accuracy: 0.5930\n",
      "Epoch 88/100\n",
      "300/300 [==============================] - 1s 3ms/step - loss: 0.9587 - accuracy: 0.6337 - val_loss: 1.0909 - val_accuracy: 0.5995\n",
      "Epoch 89/100\n",
      "300/300 [==============================] - 1s 3ms/step - loss: 0.9500 - accuracy: 0.6373 - val_loss: 1.1208 - val_accuracy: 0.5820\n",
      "Epoch 90/100\n",
      "300/300 [==============================] - 1s 3ms/step - loss: 0.9558 - accuracy: 0.6333 - val_loss: 1.0996 - val_accuracy: 0.5945\n",
      "Epoch 91/100\n",
      "300/300 [==============================] - 1s 3ms/step - loss: 0.9518 - accuracy: 0.6320 - val_loss: 1.1145 - val_accuracy: 0.5980\n",
      "Epoch 92/100\n",
      "300/300 [==============================] - 1s 3ms/step - loss: 0.9538 - accuracy: 0.6430 - val_loss: 1.0979 - val_accuracy: 0.5980\n",
      "Epoch 93/100\n",
      "300/300 [==============================] - 1s 3ms/step - loss: 0.9504 - accuracy: 0.6350 - val_loss: 1.1240 - val_accuracy: 0.5880\n",
      "Epoch 94/100\n",
      "300/300 [==============================] - 1s 3ms/step - loss: 0.9537 - accuracy: 0.6337 - val_loss: 1.0923 - val_accuracy: 0.6055\n",
      "Epoch 95/100\n",
      "300/300 [==============================] - 1s 3ms/step - loss: 0.9501 - accuracy: 0.6360 - val_loss: 1.0933 - val_accuracy: 0.6010\n",
      "Epoch 96/100\n",
      "300/300 [==============================] - 1s 3ms/step - loss: 0.9470 - accuracy: 0.6347 - val_loss: 1.1063 - val_accuracy: 0.5965\n",
      "Epoch 97/100\n",
      "300/300 [==============================] - 1s 3ms/step - loss: 0.9453 - accuracy: 0.6370 - val_loss: 1.0976 - val_accuracy: 0.5995\n",
      "Epoch 98/100\n",
      "300/300 [==============================] - 1s 3ms/step - loss: 0.9489 - accuracy: 0.6373 - val_loss: 1.0991 - val_accuracy: 0.6065\n",
      "Epoch 99/100\n",
      "300/300 [==============================] - 1s 3ms/step - loss: 0.9469 - accuracy: 0.6357 - val_loss: 1.1168 - val_accuracy: 0.5975\n",
      "Epoch 100/100\n",
      "300/300 [==============================] - 1s 3ms/step - loss: 0.9440 - accuracy: 0.6403 - val_loss: 1.1138 - val_accuracy: 0.5955\n"
     ]
    }
   ],
   "source": [
    "history=model2.fit(hjorth_train, \n",
    "                  y_train, \n",
    "                  validation_data = (hjorth_test, y_test), \n",
    "                  epochs = 100, batch_size = 10)"
   ]
  },
  {
   "cell_type": "code",
   "execution_count": 63,
   "id": "ee681ec8",
   "metadata": {},
   "outputs": [
    {
     "data": {
      "text/plain": [
       "<matplotlib.legend.Legend at 0x7f4f20a34490>"
      ]
     },
     "execution_count": 63,
     "metadata": {},
     "output_type": "execute_result"
    },
    {
     "data": {
      "image/png": "[encoded data removed]",
      "text/plain": [
       "<Figure size 432x288 with 1 Axes>"
      ]
     },
     "metadata": {
      "needs_background": "light"
     },
     "output_type": "display_data"
    }
   ],
   "source": [
    "plt.plot(range(len(history.history[\"loss\"])), history.history[\"loss\"], label = \"Training Loss\")\n",
    "plt.plot(range(len(history.history[\"val_loss\"])), history.history[\"val_loss\"], label = \"Validation Loss\")\n",
    "plt.legend()"
   ]
  },
  {
   "cell_type": "code",
   "execution_count": 64,
   "id": "69c92e25",
   "metadata": {},
   "outputs": [
    {
     "data": {
      "text/plain": [
       "<matplotlib.legend.Legend at 0x7f4f20a62c10>"
      ]
     },
     "execution_count": 64,
     "metadata": {},
     "output_type": "execute_result"
    },
    {
     "data": {
      "image/png": "[encoded data removed]",
      "text/plain": [
       "<Figure size 432x288 with 1 Axes>"
      ]
     },
     "metadata": {
      "needs_background": "light"
     },
     "output_type": "display_data"
    }
   ],
   "source": [
    "plt.plot(range(len(history.history[\"accuracy\"])), history.history[\"accuracy\"], label = \"Training accuracy\")\n",
    "plt.plot(range(len(history.history[\"val_accuracy\"])), history.history[\"val_accuracy\"], label = \"Validation accuracy\")\n",
    "plt.legend()"
   ]
  },
  {
   "cell_type": "markdown",
   "id": "3ad9b00d",
   "metadata": {},
   "source": [
    "The Hjorth Features got better accuracy, so I'll use that dataframe moving forward."
   ]
  },
  {
   "cell_type": "markdown",
   "id": "62e66ab7",
   "metadata": {},
   "source": [
    "### Second Model with Added Dense Layer"
   ]
  },
  {
   "cell_type": "code",
   "execution_count": 66,
   "id": "919b70d5",
   "metadata": {},
   "outputs": [
    {
     "name": "stdout",
     "output_type": "stream",
     "text": [
      "Model: \"model_3\"\n",
      "_________________________________________________________________\n",
      " Layer (type)                Output Shape              Param #   \n",
      "=================================================================\n",
      " input_5 (InputLayer)        [(None, 16)]              0         \n",
      "                                                                 \n",
      " dense_17 (Dense)            (None, 12)                204       \n",
      "                                                                 \n",
      " dense_18 (Dense)            (None, 10)                130       \n",
      "                                                                 \n",
      " dense_19 (Dense)            (None, 8)                 88        \n",
      "                                                                 \n",
      " dense_20 (Dense)            (None, 8)                 72        \n",
      "                                                                 \n",
      " dense_21 (Dense)            (None, 6)                 54        \n",
      "                                                                 \n",
      "=================================================================\n",
      "Total params: 548\n",
      "Trainable params: 548\n",
      "Non-trainable params: 0\n",
      "_________________________________________________________________\n"
     ]
    }
   ],
   "source": [
    "in_x = Input(shape = hjorth_train.shape[1:])\n",
    "x = Dense(12, input_dim = hjorth_train.shape[1], activation = 'relu')(in_x)\n",
    "x = Dense(10, activation = 'relu')(x)\n",
    "x = Dense(8, activation = 'relu')(x)\n",
    "x = Dense(8, activation = 'relu')(x)\n",
    "out_x = Dense(6, activation ='softmax')(x)\n",
    "\n",
    "model3 = Model(in_x, out_x)\n",
    "\n",
    "model3.summary()"
   ]
  },
  {
   "cell_type": "code",
   "execution_count": 67,
   "id": "677d226a",
   "metadata": {},
   "outputs": [],
   "source": [
    "model3.compile(loss = 'categorical_crossentropy', optimizer = 'adam', metrics = ['accuracy'])"
   ]
  },
  {
   "cell_type": "code",
   "execution_count": 68,
   "id": "489d108c",
   "metadata": {},
   "outputs": [
    {
     "name": "stdout",
     "output_type": "stream",
     "text": [
      "Epoch 1/100\n",
      "300/300 [==============================] - 2s 3ms/step - loss: 1.7961 - accuracy: 0.2810 - val_loss: 1.6969 - val_accuracy: 0.3605\n",
      "Epoch 2/100\n",
      "300/300 [==============================] - 1s 3ms/step - loss: 1.6454 - accuracy: 0.3833 - val_loss: 1.5727 - val_accuracy: 0.3995\n",
      "Epoch 3/100\n",
      "300/300 [==============================] - 1s 3ms/step - loss: 1.5355 - accuracy: 0.4153 - val_loss: 1.4782 - val_accuracy: 0.4330\n",
      "Epoch 4/100\n",
      "300/300 [==============================] - 1s 3ms/step - loss: 1.4656 - accuracy: 0.4263 - val_loss: 1.4460 - val_accuracy: 0.4300\n",
      "Epoch 5/100\n",
      "300/300 [==============================] - 1s 3ms/step - loss: 1.4239 - accuracy: 0.4403 - val_loss: 1.4040 - val_accuracy: 0.4560\n",
      "Epoch 6/100\n",
      "300/300 [==============================] - 1s 3ms/step - loss: 1.3929 - accuracy: 0.4600 - val_loss: 1.3960 - val_accuracy: 0.4655\n",
      "Epoch 7/100\n",
      "300/300 [==============================] - 1s 3ms/step - loss: 1.3818 - accuracy: 0.4713 - val_loss: 1.3805 - val_accuracy: 0.4730\n",
      "Epoch 8/100\n",
      "300/300 [==============================] - 1s 3ms/step - loss: 1.3599 - accuracy: 0.4760 - val_loss: 1.3908 - val_accuracy: 0.4640\n",
      "Epoch 9/100\n",
      "300/300 [==============================] - 1s 3ms/step - loss: 1.3506 - accuracy: 0.4730 - val_loss: 1.3656 - val_accuracy: 0.4755\n",
      "Epoch 10/100\n",
      "300/300 [==============================] - 1s 3ms/step - loss: 1.3328 - accuracy: 0.4870 - val_loss: 1.3768 - val_accuracy: 0.4525\n",
      "Epoch 11/100\n",
      "300/300 [==============================] - 1s 3ms/step - loss: 1.3219 - accuracy: 0.4917 - val_loss: 1.3515 - val_accuracy: 0.4925\n",
      "Epoch 12/100\n",
      "300/300 [==============================] - 1s 3ms/step - loss: 1.3094 - accuracy: 0.4897 - val_loss: 1.3550 - val_accuracy: 0.4890\n",
      "Epoch 13/100\n",
      "300/300 [==============================] - 1s 3ms/step - loss: 1.3012 - accuracy: 0.5033 - val_loss: 1.3385 - val_accuracy: 0.4865\n",
      "Epoch 14/100\n",
      "300/300 [==============================] - 1s 3ms/step - loss: 1.2932 - accuracy: 0.4960 - val_loss: 1.3343 - val_accuracy: 0.4890\n",
      "Epoch 15/100\n",
      "300/300 [==============================] - 1s 3ms/step - loss: 1.2764 - accuracy: 0.5077 - val_loss: 1.3299 - val_accuracy: 0.4845\n",
      "Epoch 16/100\n",
      "300/300 [==============================] - 1s 3ms/step - loss: 1.2736 - accuracy: 0.5063 - val_loss: 1.3232 - val_accuracy: 0.4955\n",
      "Epoch 17/100\n",
      "300/300 [==============================] - 1s 3ms/step - loss: 1.2656 - accuracy: 0.5093 - val_loss: 1.3224 - val_accuracy: 0.4830\n",
      "Epoch 18/100\n",
      "300/300 [==============================] - 1s 3ms/step - loss: 1.2473 - accuracy: 0.5107 - val_loss: 1.3094 - val_accuracy: 0.4855\n",
      "Epoch 19/100\n",
      "300/300 [==============================] - 1s 3ms/step - loss: 1.2356 - accuracy: 0.5207 - val_loss: 1.3084 - val_accuracy: 0.4885\n",
      "Epoch 20/100\n",
      "300/300 [==============================] - 1s 3ms/step - loss: 1.2306 - accuracy: 0.5113 - val_loss: 1.3097 - val_accuracy: 0.4860\n",
      "Epoch 21/100\n",
      "300/300 [==============================] - 1s 3ms/step - loss: 1.2209 - accuracy: 0.5207 - val_loss: 1.3007 - val_accuracy: 0.4920\n",
      "Epoch 22/100\n",
      "300/300 [==============================] - 1s 3ms/step - loss: 1.2133 - accuracy: 0.5190 - val_loss: 1.2926 - val_accuracy: 0.4990\n",
      "Epoch 23/100\n",
      "300/300 [==============================] - 1s 3ms/step - loss: 1.2076 - accuracy: 0.5240 - val_loss: 1.2887 - val_accuracy: 0.5035\n",
      "Epoch 24/100\n",
      "300/300 [==============================] - 1s 3ms/step - loss: 1.1996 - accuracy: 0.5343 - val_loss: 1.2859 - val_accuracy: 0.5140\n",
      "Epoch 25/100\n",
      "300/300 [==============================] - 1s 3ms/step - loss: 1.1916 - accuracy: 0.5307 - val_loss: 1.2884 - val_accuracy: 0.5075\n",
      "Epoch 26/100\n",
      "300/300 [==============================] - 1s 3ms/step - loss: 1.1866 - accuracy: 0.5367 - val_loss: 1.2906 - val_accuracy: 0.5140\n",
      "Epoch 27/100\n",
      "300/300 [==============================] - 1s 3ms/step - loss: 1.1800 - accuracy: 0.5387 - val_loss: 1.3006 - val_accuracy: 0.5130\n",
      "Epoch 28/100\n",
      "300/300 [==============================] - 1s 3ms/step - loss: 1.1790 - accuracy: 0.5400 - val_loss: 1.2730 - val_accuracy: 0.5250\n",
      "Epoch 29/100\n",
      "300/300 [==============================] - 1s 3ms/step - loss: 1.1747 - accuracy: 0.5430 - val_loss: 1.2706 - val_accuracy: 0.5225\n",
      "Epoch 30/100\n",
      "300/300 [==============================] - 1s 3ms/step - loss: 1.1716 - accuracy: 0.5480 - val_loss: 1.2779 - val_accuracy: 0.5205\n",
      "Epoch 31/100\n",
      "300/300 [==============================] - 1s 3ms/step - loss: 1.1675 - accuracy: 0.5537 - val_loss: 1.2913 - val_accuracy: 0.5215\n",
      "Epoch 32/100\n",
      "300/300 [==============================] - 1s 3ms/step - loss: 1.1577 - accuracy: 0.5553 - val_loss: 1.2714 - val_accuracy: 0.5350\n",
      "Epoch 33/100\n",
      "300/300 [==============================] - 1s 3ms/step - loss: 1.1609 - accuracy: 0.5430 - val_loss: 1.2671 - val_accuracy: 0.5320\n",
      "Epoch 34/100\n",
      "300/300 [==============================] - 1s 3ms/step - loss: 1.1593 - accuracy: 0.5493 - val_loss: 1.2778 - val_accuracy: 0.5240\n",
      "Epoch 35/100\n",
      "300/300 [==============================] - 1s 3ms/step - loss: 1.1529 - accuracy: 0.5507 - val_loss: 1.2666 - val_accuracy: 0.5360\n",
      "Epoch 36/100\n",
      "300/300 [==============================] - 1s 3ms/step - loss: 1.1501 - accuracy: 0.5490 - val_loss: 1.2701 - val_accuracy: 0.5385\n",
      "Epoch 37/100\n",
      "300/300 [==============================] - 1s 3ms/step - loss: 1.1424 - accuracy: 0.5587 - val_loss: 1.2786 - val_accuracy: 0.5310\n",
      "Epoch 38/100\n",
      "300/300 [==============================] - 1s 3ms/step - loss: 1.1426 - accuracy: 0.5590 - val_loss: 1.2638 - val_accuracy: 0.5335\n",
      "Epoch 39/100\n",
      "300/300 [==============================] - 1s 3ms/step - loss: 1.1393 - accuracy: 0.5587 - val_loss: 1.2650 - val_accuracy: 0.5250\n",
      "Epoch 40/100\n",
      "300/300 [==============================] - 1s 3ms/step - loss: 1.1361 - accuracy: 0.5573 - val_loss: 1.2547 - val_accuracy: 0.5420\n",
      "Epoch 41/100\n",
      "300/300 [==============================] - 1s 3ms/step - loss: 1.1368 - accuracy: 0.5627 - val_loss: 1.2645 - val_accuracy: 0.5370\n",
      "Epoch 42/100\n",
      "300/300 [==============================] - 1s 3ms/step - loss: 1.1313 - accuracy: 0.5570 - val_loss: 1.2435 - val_accuracy: 0.5335\n",
      "Epoch 43/100\n",
      "300/300 [==============================] - 1s 3ms/step - loss: 1.1305 - accuracy: 0.5637 - val_loss: 1.2608 - val_accuracy: 0.5390\n",
      "Epoch 44/100\n",
      "300/300 [==============================] - 1s 3ms/step - loss: 1.1250 - accuracy: 0.5620 - val_loss: 1.2514 - val_accuracy: 0.5405\n",
      "Epoch 45/100\n",
      "300/300 [==============================] - 1s 3ms/step - loss: 1.1234 - accuracy: 0.5667 - val_loss: 1.2596 - val_accuracy: 0.5190\n",
      "Epoch 46/100\n",
      "300/300 [==============================] - 1s 3ms/step - loss: 1.1188 - accuracy: 0.5667 - val_loss: 1.2421 - val_accuracy: 0.5405\n",
      "Epoch 47/100\n",
      "300/300 [==============================] - 1s 3ms/step - loss: 1.1192 - accuracy: 0.5673 - val_loss: 1.2426 - val_accuracy: 0.5500\n",
      "Epoch 48/100\n",
      "300/300 [==============================] - 1s 3ms/step - loss: 1.1108 - accuracy: 0.5693 - val_loss: 1.2360 - val_accuracy: 0.5370\n",
      "Epoch 49/100\n",
      "300/300 [==============================] - 1s 3ms/step - loss: 1.1143 - accuracy: 0.5720 - val_loss: 1.2396 - val_accuracy: 0.5455\n",
      "Epoch 50/100\n",
      "300/300 [==============================] - 1s 3ms/step - loss: 1.1082 - accuracy: 0.5737 - val_loss: 1.2277 - val_accuracy: 0.5505\n",
      "Epoch 51/100\n",
      "300/300 [==============================] - 1s 3ms/step - loss: 1.1068 - accuracy: 0.5757 - val_loss: 1.2320 - val_accuracy: 0.5390\n",
      "Epoch 52/100\n",
      "300/300 [==============================] - 1s 3ms/step - loss: 1.0990 - accuracy: 0.5743 - val_loss: 1.2286 - val_accuracy: 0.5465\n",
      "Epoch 53/100\n",
      "300/300 [==============================] - 1s 3ms/step - loss: 1.0920 - accuracy: 0.5767 - val_loss: 1.2189 - val_accuracy: 0.5450\n",
      "Epoch 54/100\n",
      "300/300 [==============================] - 1s 3ms/step - loss: 1.0854 - accuracy: 0.5850 - val_loss: 1.2255 - val_accuracy: 0.5480\n",
      "Epoch 55/100\n",
      "300/300 [==============================] - 1s 3ms/step - loss: 1.0904 - accuracy: 0.5790 - val_loss: 1.2165 - val_accuracy: 0.5550\n",
      "Epoch 56/100\n",
      "300/300 [==============================] - 1s 3ms/step - loss: 1.0822 - accuracy: 0.5843 - val_loss: 1.2365 - val_accuracy: 0.5390\n",
      "Epoch 57/100\n",
      "300/300 [==============================] - 1s 3ms/step - loss: 1.0883 - accuracy: 0.5757 - val_loss: 1.2369 - val_accuracy: 0.5430\n",
      "Epoch 58/100\n",
      "300/300 [==============================] - 1s 3ms/step - loss: 1.0798 - accuracy: 0.5793 - val_loss: 1.2180 - val_accuracy: 0.5560\n",
      "Epoch 59/100\n",
      "300/300 [==============================] - 1s 3ms/step - loss: 1.0768 - accuracy: 0.5847 - val_loss: 1.2173 - val_accuracy: 0.5485\n",
      "Epoch 60/100\n",
      "300/300 [==============================] - 1s 3ms/step - loss: 1.0715 - accuracy: 0.5817 - val_loss: 1.2176 - val_accuracy: 0.5515\n",
      "Epoch 61/100\n",
      "300/300 [==============================] - 1s 3ms/step - loss: 1.0684 - accuracy: 0.5833 - val_loss: 1.2006 - val_accuracy: 0.5475\n",
      "Epoch 62/100\n",
      "300/300 [==============================] - 1s 3ms/step - loss: 1.0617 - accuracy: 0.5887 - val_loss: 1.1984 - val_accuracy: 0.5555\n",
      "Epoch 63/100\n",
      "300/300 [==============================] - 1s 3ms/step - loss: 1.0652 - accuracy: 0.5813 - val_loss: 1.1969 - val_accuracy: 0.5545\n",
      "Epoch 64/100\n",
      "300/300 [==============================] - 1s 3ms/step - loss: 1.0586 - accuracy: 0.5873 - val_loss: 1.1864 - val_accuracy: 0.5630\n",
      "Epoch 65/100\n",
      "300/300 [==============================] - 1s 3ms/step - loss: 1.0572 - accuracy: 0.5823 - val_loss: 1.2106 - val_accuracy: 0.5525\n",
      "Epoch 66/100\n",
      "300/300 [==============================] - 1s 3ms/step - loss: 1.0569 - accuracy: 0.5910 - val_loss: 1.1970 - val_accuracy: 0.5570\n",
      "Epoch 67/100\n",
      "300/300 [==============================] - 1s 3ms/step - loss: 1.0555 - accuracy: 0.5913 - val_loss: 1.1854 - val_accuracy: 0.5570\n",
      "Epoch 68/100\n",
      "300/300 [==============================] - 1s 3ms/step - loss: 1.0586 - accuracy: 0.5890 - val_loss: 1.1898 - val_accuracy: 0.5720\n",
      "Epoch 69/100\n",
      "300/300 [==============================] - 1s 3ms/step - loss: 1.0492 - accuracy: 0.5877 - val_loss: 1.1970 - val_accuracy: 0.5595\n",
      "Epoch 70/100\n",
      "300/300 [==============================] - 1s 3ms/step - loss: 1.0469 - accuracy: 0.5893 - val_loss: 1.1802 - val_accuracy: 0.5610\n",
      "Epoch 71/100\n",
      "300/300 [==============================] - 1s 3ms/step - loss: 1.0414 - accuracy: 0.6027 - val_loss: 1.1964 - val_accuracy: 0.5615\n",
      "Epoch 72/100\n",
      "300/300 [==============================] - 1s 3ms/step - loss: 1.0439 - accuracy: 0.5927 - val_loss: 1.1795 - val_accuracy: 0.5550\n",
      "Epoch 73/100\n",
      "300/300 [==============================] - 1s 3ms/step - loss: 1.0370 - accuracy: 0.5947 - val_loss: 1.1889 - val_accuracy: 0.5500\n",
      "Epoch 74/100\n",
      "300/300 [==============================] - 1s 3ms/step - loss: 1.0330 - accuracy: 0.5977 - val_loss: 1.1719 - val_accuracy: 0.5615\n",
      "Epoch 75/100\n",
      "300/300 [==============================] - 1s 3ms/step - loss: 1.0348 - accuracy: 0.5960 - val_loss: 1.1818 - val_accuracy: 0.5615\n",
      "Epoch 76/100\n",
      "300/300 [==============================] - 1s 3ms/step - loss: 1.0299 - accuracy: 0.5957 - val_loss: 1.1908 - val_accuracy: 0.5550\n",
      "Epoch 77/100\n",
      "300/300 [==============================] - 1s 3ms/step - loss: 1.0327 - accuracy: 0.5963 - val_loss: 1.1709 - val_accuracy: 0.5610\n",
      "Epoch 78/100\n",
      "300/300 [==============================] - 1s 3ms/step - loss: 1.0328 - accuracy: 0.5913 - val_loss: 1.1752 - val_accuracy: 0.5600\n",
      "Epoch 79/100\n",
      "300/300 [==============================] - 1s 3ms/step - loss: 1.0308 - accuracy: 0.5947 - val_loss: 1.1911 - val_accuracy: 0.5620\n",
      "Epoch 80/100\n",
      "300/300 [==============================] - 1s 3ms/step - loss: 1.0269 - accuracy: 0.5947 - val_loss: 1.1672 - val_accuracy: 0.5550\n",
      "Epoch 81/100\n",
      "300/300 [==============================] - 1s 3ms/step - loss: 1.0229 - accuracy: 0.5987 - val_loss: 1.1801 - val_accuracy: 0.5630\n",
      "Epoch 82/100\n",
      "300/300 [==============================] - 1s 3ms/step - loss: 1.0205 - accuracy: 0.6033 - val_loss: 1.1711 - val_accuracy: 0.5540\n",
      "Epoch 83/100\n",
      "300/300 [==============================] - 1s 3ms/step - loss: 1.0180 - accuracy: 0.6013 - val_loss: 1.1587 - val_accuracy: 0.5635\n",
      "Epoch 84/100\n",
      "300/300 [==============================] - 1s 3ms/step - loss: 1.0174 - accuracy: 0.5997 - val_loss: 1.1849 - val_accuracy: 0.5580\n",
      "Epoch 85/100\n",
      "300/300 [==============================] - 1s 3ms/step - loss: 1.0091 - accuracy: 0.6073 - val_loss: 1.1713 - val_accuracy: 0.5585\n",
      "Epoch 86/100\n",
      "300/300 [==============================] - 1s 3ms/step - loss: 1.0089 - accuracy: 0.6030 - val_loss: 1.1649 - val_accuracy: 0.5620\n",
      "Epoch 87/100\n",
      "300/300 [==============================] - 1s 3ms/step - loss: 1.0117 - accuracy: 0.6060 - val_loss: 1.1593 - val_accuracy: 0.5520\n",
      "Epoch 88/100\n",
      "300/300 [==============================] - 1s 3ms/step - loss: 1.0112 - accuracy: 0.6050 - val_loss: 1.1630 - val_accuracy: 0.5595\n",
      "Epoch 89/100\n",
      "300/300 [==============================] - 1s 3ms/step - loss: 1.0099 - accuracy: 0.6003 - val_loss: 1.1624 - val_accuracy: 0.5610\n",
      "Epoch 90/100\n",
      "300/300 [==============================] - 1s 3ms/step - loss: 1.0031 - accuracy: 0.6120 - val_loss: 1.1749 - val_accuracy: 0.5585\n",
      "Epoch 91/100\n",
      "300/300 [==============================] - 1s 3ms/step - loss: 1.0082 - accuracy: 0.6070 - val_loss: 1.1740 - val_accuracy: 0.5625\n",
      "Epoch 92/100\n",
      "300/300 [==============================] - 1s 3ms/step - loss: 1.0069 - accuracy: 0.6037 - val_loss: 1.1741 - val_accuracy: 0.5585\n",
      "Epoch 93/100\n",
      "300/300 [==============================] - 1s 3ms/step - loss: 1.0082 - accuracy: 0.6070 - val_loss: 1.1753 - val_accuracy: 0.5610\n",
      "Epoch 94/100\n",
      "300/300 [==============================] - 1s 3ms/step - loss: 1.0044 - accuracy: 0.6073 - val_loss: 1.1742 - val_accuracy: 0.5650\n",
      "Epoch 95/100\n",
      "300/300 [==============================] - 1s 3ms/step - loss: 0.9992 - accuracy: 0.6050 - val_loss: 1.1633 - val_accuracy: 0.5600\n",
      "Epoch 96/100\n",
      "300/300 [==============================] - 1s 3ms/step - loss: 1.0033 - accuracy: 0.6043 - val_loss: 1.1610 - val_accuracy: 0.5620\n",
      "Epoch 97/100\n",
      "300/300 [==============================] - 1s 3ms/step - loss: 0.9939 - accuracy: 0.6087 - val_loss: 1.1645 - val_accuracy: 0.5665\n",
      "Epoch 98/100\n",
      "300/300 [==============================] - 1s 3ms/step - loss: 0.9914 - accuracy: 0.6170 - val_loss: 1.1690 - val_accuracy: 0.5620\n",
      "Epoch 99/100\n",
      "300/300 [==============================] - 1s 3ms/step - loss: 0.9936 - accuracy: 0.6100 - val_loss: 1.1712 - val_accuracy: 0.5525\n",
      "Epoch 100/100\n",
      "300/300 [==============================] - 1s 3ms/step - loss: 0.9881 - accuracy: 0.6177 - val_loss: 1.1726 - val_accuracy: 0.5575\n"
     ]
    }
   ],
   "source": [
    "history=model3.fit(hjorth_train, \n",
    "                  y_train, \n",
    "                  validation_data = (hjorth_test, y_test), \n",
    "                  epochs = 100, batch_size = 10)"
   ]
  },
  {
   "cell_type": "code",
   "execution_count": 69,
   "id": "bba1e453",
   "metadata": {},
   "outputs": [
    {
     "data": {
      "text/plain": [
       "<matplotlib.legend.Legend at 0x7f4f22b8c5b0>"
      ]
     },
     "execution_count": 69,
     "metadata": {},
     "output_type": "execute_result"
    },
    {
     "data": {
      "image/png": "[encoded data removed]",
      "text/plain": [
       "<Figure size 432x288 with 1 Axes>"
      ]
     },
     "metadata": {
      "needs_background": "light"
     },
     "output_type": "display_data"
    }
   ],
   "source": [
    "plt.plot(range(len(history.history[\"loss\"])), history.history[\"loss\"], label = \"Training Loss\")\n",
    "plt.plot(range(len(history.history[\"val_loss\"])), history.history[\"val_loss\"], label = \"Validation Loss\")\n",
    "plt.legend()"
   ]
  },
  {
   "cell_type": "code",
   "execution_count": 70,
   "id": "45a763c5",
   "metadata": {},
   "outputs": [
    {
     "data": {
      "text/plain": [
       "<matplotlib.legend.Legend at 0x7f4f22b720a0>"
      ]
     },
     "execution_count": 70,
     "metadata": {},
     "output_type": "execute_result"
    },
    {
     "data": {
      "image/png": "[encoded data removed]",
      "text/plain": [
       "<Figure size 432x288 with 1 Axes>"
      ]
     },
     "metadata": {
      "needs_background": "light"
     },
     "output_type": "display_data"
    }
   ],
   "source": [
    "plt.plot(range(len(history.history[\"accuracy\"])), history.history[\"accuracy\"], label = \"Training accuracy\")\n",
    "plt.plot(range(len(history.history[\"val_accuracy\"])), history.history[\"val_accuracy\"], label = \"Validation accuracy\")\n",
    "plt.legend()"
   ]
  },
  {
   "cell_type": "markdown",
   "id": "1c617997",
   "metadata": {},
   "source": [
    "Larger divergence between training and validation loss. Happens earlier too. Accuracy performance fairly similar."
   ]
  },
  {
   "cell_type": "markdown",
   "id": "0ea5cd55",
   "metadata": {},
   "source": [
    "### Testing SGD Instead of Adam"
   ]
  },
  {
   "cell_type": "code",
   "execution_count": 74,
   "id": "49cd0381",
   "metadata": {},
   "outputs": [
    {
     "name": "stdout",
     "output_type": "stream",
     "text": [
      "Model: \"model_6\"\n",
      "_________________________________________________________________\n",
      " Layer (type)                Output Shape              Param #   \n",
      "=================================================================\n",
      " input_8 (InputLayer)        [(None, 16)]              0         \n",
      "                                                                 \n",
      " dense_30 (Dense)            (None, 12)                204       \n",
      "                                                                 \n",
      " dense_31 (Dense)            (None, 8)                 104       \n",
      "                                                                 \n",
      " dense_32 (Dense)            (None, 8)                 72        \n",
      "                                                                 \n",
      " dense_33 (Dense)            (None, 6)                 54        \n",
      "                                                                 \n",
      "=================================================================\n",
      "Total params: 434\n",
      "Trainable params: 434\n",
      "Non-trainable params: 0\n",
      "_________________________________________________________________\n"
     ]
    }
   ],
   "source": [
    "in_x = Input(shape = hjorth_train.shape[1:])\n",
    "x = Dense(12, input_dim = hjorth_train.shape[1], activation = 'relu')(in_x)\n",
    "x = Dense(8, activation = 'relu')(x)\n",
    "x = Dense(8, activation = 'relu')(x)\n",
    "out_x = Dense(6, activation = 'softmax')(x)\n",
    "\n",
    "model4 = Model(in_x, out_x)\n",
    "\n",
    "model4.summary()"
   ]
  },
  {
   "cell_type": "code",
   "execution_count": 76,
   "id": "5f0aedc8",
   "metadata": {},
   "outputs": [],
   "source": [
    "model4.compile(loss = 'categorical_crossentropy', optimizer = 'sgd', metrics = ['accuracy'])"
   ]
  },
  {
   "cell_type": "code",
   "execution_count": 77,
   "id": "ca321891",
   "metadata": {},
   "outputs": [
    {
     "name": "stdout",
     "output_type": "stream",
     "text": [
      "Epoch 1/100\n",
      "300/300 [==============================] - 1s 3ms/step - loss: 1.7999 - accuracy: 0.2987 - val_loss: 1.7130 - val_accuracy: 0.3490\n",
      "Epoch 2/100\n",
      "300/300 [==============================] - 1s 3ms/step - loss: 1.7128 - accuracy: 0.3500 - val_loss: 1.6763 - val_accuracy: 0.3380\n",
      "Epoch 3/100\n",
      "300/300 [==============================] - 1s 3ms/step - loss: 1.6372 - accuracy: 0.3720 - val_loss: 1.6264 - val_accuracy: 0.3630\n",
      "Epoch 4/100\n",
      "300/300 [==============================] - 1s 3ms/step - loss: 1.5858 - accuracy: 0.3997 - val_loss: 1.5770 - val_accuracy: 0.4010\n",
      "Epoch 5/100\n",
      "300/300 [==============================] - 1s 3ms/step - loss: 1.5479 - accuracy: 0.4027 - val_loss: 1.5525 - val_accuracy: 0.3855\n",
      "Epoch 6/100\n",
      "300/300 [==============================] - 1s 3ms/step - loss: 1.5264 - accuracy: 0.4093 - val_loss: 1.5207 - val_accuracy: 0.4055\n",
      "Epoch 7/100\n",
      "300/300 [==============================] - 1s 3ms/step - loss: 1.5047 - accuracy: 0.4210 - val_loss: 1.4873 - val_accuracy: 0.4395\n",
      "Epoch 8/100\n",
      "300/300 [==============================] - 1s 3ms/step - loss: 1.4932 - accuracy: 0.4230 - val_loss: 1.4797 - val_accuracy: 0.4440\n",
      "Epoch 9/100\n",
      "300/300 [==============================] - 1s 3ms/step - loss: 1.4675 - accuracy: 0.4277 - val_loss: 1.4829 - val_accuracy: 0.4215\n",
      "Epoch 10/100\n",
      "300/300 [==============================] - 1s 3ms/step - loss: 1.4594 - accuracy: 0.4313 - val_loss: 1.4757 - val_accuracy: 0.4180\n",
      "Epoch 11/100\n",
      "300/300 [==============================] - 1s 3ms/step - loss: 1.4408 - accuracy: 0.4473 - val_loss: 1.4268 - val_accuracy: 0.4485\n",
      "Epoch 12/100\n",
      "300/300 [==============================] - 1s 3ms/step - loss: 1.4368 - accuracy: 0.4420 - val_loss: 1.4285 - val_accuracy: 0.4585\n",
      "Epoch 13/100\n",
      "300/300 [==============================] - 1s 3ms/step - loss: 1.4199 - accuracy: 0.4487 - val_loss: 1.4163 - val_accuracy: 0.4535\n",
      "Epoch 14/100\n",
      "300/300 [==============================] - 1s 3ms/step - loss: 1.4192 - accuracy: 0.4507 - val_loss: 1.4046 - val_accuracy: 0.4550\n",
      "Epoch 15/100\n",
      "300/300 [==============================] - 1s 3ms/step - loss: 1.3968 - accuracy: 0.4523 - val_loss: 1.3997 - val_accuracy: 0.4575\n",
      "Epoch 16/100\n",
      "300/300 [==============================] - 1s 3ms/step - loss: 1.3949 - accuracy: 0.4547 - val_loss: 1.3728 - val_accuracy: 0.4540\n",
      "Epoch 17/100\n",
      "300/300 [==============================] - 1s 3ms/step - loss: 1.3771 - accuracy: 0.4670 - val_loss: 1.3803 - val_accuracy: 0.4515\n",
      "Epoch 18/100\n",
      "300/300 [==============================] - 1s 3ms/step - loss: 1.3690 - accuracy: 0.4730 - val_loss: 1.3984 - val_accuracy: 0.4540\n",
      "Epoch 19/100\n",
      "300/300 [==============================] - 1s 3ms/step - loss: 1.3584 - accuracy: 0.4770 - val_loss: 1.3502 - val_accuracy: 0.4725\n",
      "Epoch 20/100\n",
      "300/300 [==============================] - 1s 3ms/step - loss: 1.3452 - accuracy: 0.4817 - val_loss: 1.3481 - val_accuracy: 0.4635\n",
      "Epoch 21/100\n",
      "300/300 [==============================] - 1s 3ms/step - loss: 1.3376 - accuracy: 0.4877 - val_loss: 1.3385 - val_accuracy: 0.4760\n",
      "Epoch 22/100\n",
      "300/300 [==============================] - 1s 3ms/step - loss: 1.3303 - accuracy: 0.4813 - val_loss: 1.3239 - val_accuracy: 0.4885\n",
      "Epoch 23/100\n",
      "300/300 [==============================] - 1s 3ms/step - loss: 1.3201 - accuracy: 0.4940 - val_loss: 1.3537 - val_accuracy: 0.4675\n",
      "Epoch 24/100\n",
      "300/300 [==============================] - 1s 3ms/step - loss: 1.3099 - accuracy: 0.5003 - val_loss: 1.3552 - val_accuracy: 0.4710\n",
      "Epoch 25/100\n",
      "300/300 [==============================] - 1s 3ms/step - loss: 1.3059 - accuracy: 0.5017 - val_loss: 1.3079 - val_accuracy: 0.4965\n",
      "Epoch 26/100\n",
      "300/300 [==============================] - 1s 3ms/step - loss: 1.2952 - accuracy: 0.5090 - val_loss: 1.2968 - val_accuracy: 0.5080\n",
      "Epoch 27/100\n",
      "300/300 [==============================] - 1s 3ms/step - loss: 1.2882 - accuracy: 0.5057 - val_loss: 1.3140 - val_accuracy: 0.4850\n",
      "Epoch 28/100\n",
      "300/300 [==============================] - 1s 3ms/step - loss: 1.2893 - accuracy: 0.5067 - val_loss: 1.3190 - val_accuracy: 0.4825\n",
      "Epoch 29/100\n",
      "300/300 [==============================] - 1s 3ms/step - loss: 1.2775 - accuracy: 0.5107 - val_loss: 1.3034 - val_accuracy: 0.5030\n",
      "Epoch 30/100\n",
      "300/300 [==============================] - 1s 3ms/step - loss: 1.2758 - accuracy: 0.5120 - val_loss: 1.3011 - val_accuracy: 0.5125\n",
      "Epoch 31/100\n",
      "300/300 [==============================] - 1s 3ms/step - loss: 1.2650 - accuracy: 0.5187 - val_loss: 1.2858 - val_accuracy: 0.5065\n",
      "Epoch 32/100\n",
      "300/300 [==============================] - 1s 4ms/step - loss: 1.2593 - accuracy: 0.5193 - val_loss: 1.3004 - val_accuracy: 0.4950\n",
      "Epoch 33/100\n",
      "300/300 [==============================] - 1s 2ms/step - loss: 1.2545 - accuracy: 0.5207 - val_loss: 1.2776 - val_accuracy: 0.5110\n",
      "Epoch 34/100\n",
      "300/300 [==============================] - 1s 3ms/step - loss: 1.2464 - accuracy: 0.5310 - val_loss: 1.2727 - val_accuracy: 0.5225\n",
      "Epoch 35/100\n",
      "300/300 [==============================] - 1s 3ms/step - loss: 1.2412 - accuracy: 0.5270 - val_loss: 1.2697 - val_accuracy: 0.5035\n",
      "Epoch 36/100\n",
      "300/300 [==============================] - 1s 3ms/step - loss: 1.2404 - accuracy: 0.5277 - val_loss: 1.2632 - val_accuracy: 0.5100\n",
      "Epoch 37/100\n",
      "300/300 [==============================] - 1s 3ms/step - loss: 1.2385 - accuracy: 0.5300 - val_loss: 1.2921 - val_accuracy: 0.5060\n",
      "Epoch 38/100\n",
      "300/300 [==============================] - 1s 3ms/step - loss: 1.2277 - accuracy: 0.5310 - val_loss: 1.2753 - val_accuracy: 0.5235\n",
      "Epoch 39/100\n",
      "300/300 [==============================] - 1s 3ms/step - loss: 1.2319 - accuracy: 0.5290 - val_loss: 1.2812 - val_accuracy: 0.5130\n",
      "Epoch 40/100\n",
      "300/300 [==============================] - 1s 3ms/step - loss: 1.2243 - accuracy: 0.5327 - val_loss: 1.3083 - val_accuracy: 0.5080\n",
      "Epoch 41/100\n",
      "300/300 [==============================] - 1s 3ms/step - loss: 1.2257 - accuracy: 0.5337 - val_loss: 1.2549 - val_accuracy: 0.5315\n",
      "Epoch 42/100\n",
      "300/300 [==============================] - 1s 3ms/step - loss: 1.2169 - accuracy: 0.5393 - val_loss: 1.2658 - val_accuracy: 0.5330\n",
      "Epoch 43/100\n",
      "300/300 [==============================] - 1s 3ms/step - loss: 1.2734 - accuracy: 0.5160 - val_loss: 1.3511 - val_accuracy: 0.5065\n",
      "Epoch 44/100\n",
      "300/300 [==============================] - 1s 3ms/step - loss: 1.2998 - accuracy: 0.5110 - val_loss: 1.4220 - val_accuracy: 0.4535\n",
      "Epoch 45/100\n",
      "300/300 [==============================] - 1s 3ms/step - loss: 1.2563 - accuracy: 0.5200 - val_loss: 1.2805 - val_accuracy: 0.5185\n",
      "Epoch 46/100\n",
      "300/300 [==============================] - 1s 3ms/step - loss: 1.2350 - accuracy: 0.5283 - val_loss: 1.2405 - val_accuracy: 0.5330\n",
      "Epoch 47/100\n",
      "300/300 [==============================] - 1s 2ms/step - loss: 1.2249 - accuracy: 0.5360 - val_loss: 1.2545 - val_accuracy: 0.5350\n",
      "Epoch 48/100\n",
      "300/300 [==============================] - 1s 3ms/step - loss: 1.2074 - accuracy: 0.5410 - val_loss: 1.2331 - val_accuracy: 0.5360\n",
      "Epoch 49/100\n",
      "300/300 [==============================] - 1s 3ms/step - loss: 1.2010 - accuracy: 0.5437 - val_loss: 1.2709 - val_accuracy: 0.5315\n",
      "Epoch 50/100\n",
      "300/300 [==============================] - 1s 3ms/step - loss: 1.1940 - accuracy: 0.5397 - val_loss: 1.2304 - val_accuracy: 0.5255\n",
      "Epoch 51/100\n",
      "300/300 [==============================] - 1s 3ms/step - loss: 1.1889 - accuracy: 0.5433 - val_loss: 1.2270 - val_accuracy: 0.5495\n",
      "Epoch 52/100\n",
      "300/300 [==============================] - 1s 3ms/step - loss: 1.1898 - accuracy: 0.5517 - val_loss: 1.2267 - val_accuracy: 0.5450\n",
      "Epoch 53/100\n",
      "300/300 [==============================] - 1s 3ms/step - loss: 1.1744 - accuracy: 0.5557 - val_loss: 1.2065 - val_accuracy: 0.5260\n",
      "Epoch 54/100\n",
      "300/300 [==============================] - 1s 3ms/step - loss: 1.1791 - accuracy: 0.5503 - val_loss: 1.2025 - val_accuracy: 0.5260\n",
      "Epoch 55/100\n",
      "300/300 [==============================] - 1s 3ms/step - loss: 1.1680 - accuracy: 0.5520 - val_loss: 1.2591 - val_accuracy: 0.5265\n",
      "Epoch 56/100\n",
      "300/300 [==============================] - 1s 3ms/step - loss: 1.1718 - accuracy: 0.5470 - val_loss: 1.2174 - val_accuracy: 0.5455\n",
      "Epoch 57/100\n",
      "300/300 [==============================] - 1s 3ms/step - loss: 1.1619 - accuracy: 0.5490 - val_loss: 1.1935 - val_accuracy: 0.5435\n",
      "Epoch 58/100\n",
      "300/300 [==============================] - 1s 3ms/step - loss: 1.1545 - accuracy: 0.5610 - val_loss: 1.1912 - val_accuracy: 0.5575\n",
      "Epoch 59/100\n",
      "300/300 [==============================] - 1s 3ms/step - loss: 1.1600 - accuracy: 0.5547 - val_loss: 1.1932 - val_accuracy: 0.5510\n",
      "Epoch 60/100\n",
      "300/300 [==============================] - 1s 3ms/step - loss: 1.1523 - accuracy: 0.5563 - val_loss: 1.2022 - val_accuracy: 0.5535\n",
      "Epoch 61/100\n",
      "300/300 [==============================] - 1s 3ms/step - loss: 1.1495 - accuracy: 0.5570 - val_loss: 1.1746 - val_accuracy: 0.5485\n",
      "Epoch 62/100\n",
      "300/300 [==============================] - 1s 3ms/step - loss: 1.1500 - accuracy: 0.5560 - val_loss: 1.1914 - val_accuracy: 0.5510\n",
      "Epoch 63/100\n",
      "300/300 [==============================] - 1s 3ms/step - loss: 1.1473 - accuracy: 0.5547 - val_loss: 1.2071 - val_accuracy: 0.5480\n",
      "Epoch 64/100\n",
      "300/300 [==============================] - 1s 3ms/step - loss: 1.1416 - accuracy: 0.5547 - val_loss: 1.2502 - val_accuracy: 0.5450\n",
      "Epoch 65/100\n",
      "300/300 [==============================] - 1s 3ms/step - loss: 1.1341 - accuracy: 0.5653 - val_loss: 1.1890 - val_accuracy: 0.5510\n",
      "Epoch 66/100\n",
      "300/300 [==============================] - 1s 3ms/step - loss: 1.1367 - accuracy: 0.5617 - val_loss: 1.1830 - val_accuracy: 0.5490\n",
      "Epoch 67/100\n",
      "300/300 [==============================] - 1s 3ms/step - loss: 1.1362 - accuracy: 0.5587 - val_loss: 1.2169 - val_accuracy: 0.5445\n",
      "Epoch 68/100\n",
      "300/300 [==============================] - 1s 3ms/step - loss: 1.1311 - accuracy: 0.5680 - val_loss: 1.1770 - val_accuracy: 0.5590\n",
      "Epoch 69/100\n",
      "300/300 [==============================] - 1s 3ms/step - loss: 1.1338 - accuracy: 0.5583 - val_loss: 1.1911 - val_accuracy: 0.5635\n",
      "Epoch 70/100\n",
      "300/300 [==============================] - 1s 3ms/step - loss: 1.1281 - accuracy: 0.5653 - val_loss: 1.1845 - val_accuracy: 0.5625\n",
      "Epoch 71/100\n",
      "300/300 [==============================] - 1s 3ms/step - loss: 1.1281 - accuracy: 0.5640 - val_loss: 1.1931 - val_accuracy: 0.5525\n",
      "Epoch 72/100\n",
      "300/300 [==============================] - 1s 3ms/step - loss: 1.1240 - accuracy: 0.5717 - val_loss: 1.2105 - val_accuracy: 0.5450\n",
      "Epoch 73/100\n",
      "300/300 [==============================] - 1s 3ms/step - loss: 1.1243 - accuracy: 0.5733 - val_loss: 1.1827 - val_accuracy: 0.5520\n",
      "Epoch 74/100\n",
      "300/300 [==============================] - 1s 3ms/step - loss: 1.1203 - accuracy: 0.5697 - val_loss: 1.2080 - val_accuracy: 0.5425\n",
      "Epoch 75/100\n",
      "300/300 [==============================] - 1s 3ms/step - loss: 1.1132 - accuracy: 0.5663 - val_loss: 1.2190 - val_accuracy: 0.5305\n",
      "Epoch 76/100\n",
      "300/300 [==============================] - 1s 3ms/step - loss: 1.1147 - accuracy: 0.5700 - val_loss: 1.2037 - val_accuracy: 0.5560\n",
      "Epoch 77/100\n",
      "300/300 [==============================] - 1s 3ms/step - loss: 1.1140 - accuracy: 0.5700 - val_loss: 1.1757 - val_accuracy: 0.5630\n",
      "Epoch 78/100\n",
      "300/300 [==============================] - 1s 3ms/step - loss: 1.1141 - accuracy: 0.5733 - val_loss: 1.1743 - val_accuracy: 0.5570\n",
      "Epoch 79/100\n",
      "300/300 [==============================] - 1s 3ms/step - loss: 1.1093 - accuracy: 0.5777 - val_loss: 1.2087 - val_accuracy: 0.5530\n",
      "Epoch 80/100\n",
      "300/300 [==============================] - 1s 3ms/step - loss: 1.1024 - accuracy: 0.5787 - val_loss: 1.1921 - val_accuracy: 0.5565\n",
      "Epoch 81/100\n",
      "300/300 [==============================] - 1s 3ms/step - loss: 1.1069 - accuracy: 0.5750 - val_loss: 1.1836 - val_accuracy: 0.5590\n",
      "Epoch 82/100\n",
      "300/300 [==============================] - 1s 3ms/step - loss: 1.0968 - accuracy: 0.5823 - val_loss: 1.1986 - val_accuracy: 0.5540\n",
      "Epoch 83/100\n",
      "300/300 [==============================] - 1s 3ms/step - loss: 1.1044 - accuracy: 0.5770 - val_loss: 1.2156 - val_accuracy: 0.5565\n",
      "Epoch 84/100\n",
      "300/300 [==============================] - 1s 3ms/step - loss: 1.1013 - accuracy: 0.5800 - val_loss: 1.1684 - val_accuracy: 0.5545\n",
      "Epoch 85/100\n",
      "300/300 [==============================] - 1s 3ms/step - loss: 1.1008 - accuracy: 0.5743 - val_loss: 1.1722 - val_accuracy: 0.5640\n",
      "Epoch 86/100\n",
      "300/300 [==============================] - 1s 3ms/step - loss: 1.0989 - accuracy: 0.5843 - val_loss: 1.1776 - val_accuracy: 0.5745\n",
      "Epoch 87/100\n",
      "300/300 [==============================] - 1s 3ms/step - loss: 1.0951 - accuracy: 0.5813 - val_loss: 1.1792 - val_accuracy: 0.5575\n",
      "Epoch 88/100\n",
      "300/300 [==============================] - 1s 3ms/step - loss: 1.0996 - accuracy: 0.5783 - val_loss: 1.1782 - val_accuracy: 0.5655\n",
      "Epoch 89/100\n",
      "300/300 [==============================] - 1s 3ms/step - loss: 1.1003 - accuracy: 0.5830 - val_loss: 1.1882 - val_accuracy: 0.5610\n",
      "Epoch 90/100\n",
      "300/300 [==============================] - 1s 3ms/step - loss: 1.0968 - accuracy: 0.5853 - val_loss: 1.1657 - val_accuracy: 0.5675\n",
      "Epoch 91/100\n",
      "300/300 [==============================] - 1s 3ms/step - loss: 1.0917 - accuracy: 0.5860 - val_loss: 1.1835 - val_accuracy: 0.5630\n",
      "Epoch 92/100\n",
      "300/300 [==============================] - 1s 3ms/step - loss: 1.0934 - accuracy: 0.5847 - val_loss: 1.2037 - val_accuracy: 0.5590\n",
      "Epoch 93/100\n",
      "300/300 [==============================] - 1s 3ms/step - loss: 1.0874 - accuracy: 0.5890 - val_loss: 1.1710 - val_accuracy: 0.5655\n",
      "Epoch 94/100\n",
      "300/300 [==============================] - 1s 3ms/step - loss: 1.0789 - accuracy: 0.5950 - val_loss: 1.1780 - val_accuracy: 0.5610\n",
      "Epoch 95/100\n",
      "300/300 [==============================] - 1s 3ms/step - loss: 1.0903 - accuracy: 0.5903 - val_loss: 1.2066 - val_accuracy: 0.5620\n",
      "Epoch 96/100\n",
      "300/300 [==============================] - 1s 3ms/step - loss: 1.0854 - accuracy: 0.5947 - val_loss: 1.1901 - val_accuracy: 0.5710\n",
      "Epoch 97/100\n",
      "300/300 [==============================] - 1s 3ms/step - loss: 1.0796 - accuracy: 0.5947 - val_loss: 1.1615 - val_accuracy: 0.5780\n",
      "Epoch 98/100\n",
      "300/300 [==============================] - 1s 3ms/step - loss: 1.0846 - accuracy: 0.5953 - val_loss: 1.1789 - val_accuracy: 0.5655\n",
      "Epoch 99/100\n",
      "300/300 [==============================] - 1s 3ms/step - loss: 1.0836 - accuracy: 0.5903 - val_loss: 1.1860 - val_accuracy: 0.5710\n",
      "Epoch 100/100\n",
      "300/300 [==============================] - 1s 3ms/step - loss: 1.0809 - accuracy: 0.5930 - val_loss: 1.2111 - val_accuracy: 0.5305\n"
     ]
    }
   ],
   "source": [
    "history=model4.fit(hjorth_train, \n",
    "                  y_train, \n",
    "                  validation_data = (hjorth_test, y_test), \n",
    "                  epochs = 100, batch_size = 10)"
   ]
  },
  {
   "cell_type": "code",
   "execution_count": 78,
   "id": "1a0b88e9",
   "metadata": {},
   "outputs": [
    {
     "data": {
      "text/plain": [
       "<matplotlib.legend.Legend at 0x7f4f22769310>"
      ]
     },
     "execution_count": 78,
     "metadata": {},
     "output_type": "execute_result"
    },
    {
     "data": {
      "image/png": "[encoded data removed]",
      "text/plain": [
       "<Figure size 432x288 with 1 Axes>"
      ]
     },
     "metadata": {
      "needs_background": "light"
     },
     "output_type": "display_data"
    }
   ],
   "source": [
    "plt.plot(range(len(history.history[\"loss\"])), history.history[\"loss\"], label = \"Training Loss\")\n",
    "plt.plot(range(len(history.history[\"val_loss\"])), history.history[\"val_loss\"], label = \"Validation Loss\")\n",
    "plt.legend()"
   ]
  },
  {
   "cell_type": "code",
   "execution_count": 79,
   "id": "aa490ac5",
   "metadata": {},
   "outputs": [
    {
     "data": {
      "text/plain": [
       "<matplotlib.legend.Legend at 0x7f4f226ced60>"
      ]
     },
     "execution_count": 79,
     "metadata": {},
     "output_type": "execute_result"
    },
    {
     "data": {
      "image/png": "[encoded data removed]",
      "text/plain": [
       "<Figure size 432x288 with 1 Axes>"
      ]
     },
     "metadata": {
      "needs_background": "light"
     },
     "output_type": "display_data"
    }
   ],
   "source": [
    "plt.plot(range(len(history.history[\"accuracy\"])), history.history[\"accuracy\"], label = \"Training accuracy\")\n",
    "plt.plot(range(len(history.history[\"val_accuracy\"])), history.history[\"val_accuracy\"], label = \"Validation accuracy\")\n",
    "plt.legend()"
   ]
  },
  {
   "cell_type": "markdown",
   "id": "c1a61a08",
   "metadata": {},
   "source": [
    "The accuracy with SGD was worse. The spike at about 45 epochs in both plots is interesting. Training and validation loss and accuracy don't diverge as much with SGD."
   ]
  },
  {
   "cell_type": "code",
   "execution_count": null,
   "id": "10079386",
   "metadata": {},
   "outputs": [],
   "source": []
  }
 ],
 "metadata": {
  "kernelspec": {
   "display_name": "Python 3 (ipykernel)",
   "language": "python",
   "name": "python3"
  },
  "language_info": {
   "codemirror_mode": {
    "name": "ipython",
    "version": 3
   },
   "file_extension": ".py",
   "mimetype": "text/x-python",
   "name": "python",
   "nbconvert_exporter": "python",
   "pygments_lexer": "ipython3",
   "version": "3.8.10"
  }
 },
 "nbformat": 4,
 "nbformat_minor": 5
}
